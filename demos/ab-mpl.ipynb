{
 "cells": [
  {
   "cell_type": "code",
   "execution_count": 13,
   "metadata": {},
   "outputs": [],
   "source": [
    "# import os module\n",
    "import os\n",
    "\n",
    "# import AUTO modules\n",
    "from auto import AUTOCommands as ac\n",
    "from auto import AUTOclui as acl\n",
    "from auto import interactiveBindings as ib\n",
    "from auto import runAUTO as ra\n",
    "\n",
    "# import plotting tools\n",
    "import matplotlib as mpl\n",
    "from matplotlib import pyplot as plt"
   ]
  },
  {
   "cell_type": "code",
   "execution_count": 14,
   "metadata": {},
   "outputs": [],
   "source": [
    "# use working directory for demo to avoid clutter\n",
    "folder = '/auto/workspace/demos/demo'\n",
    "os.chdir(folder)"
   ]
  },
  {
   "cell_type": "code",
   "execution_count": 15,
   "metadata": {
    "scrolled": false
   },
   "outputs": [
    {
     "name": "stdout",
     "output_type": "stream",
     "text": [
      "Copying demo ab ... done\n",
      "\n",
      "***Generate starting data***\n",
      "gfortran -fopenmp -O -c ab.f90 -o ab.o\n",
      "gfortran -fopenmp -O ab.o -o ab.exe /auto/lib/*.o\n",
      "Starting ab ...\n",
      "\n",
      "  BR    PT  TY  LAB    PAR(2)        L2-NORM         U(1)          U(2)     \n",
      "   1     1  EP    1   8.00000E+00   0.00000E+00   0.00000E+00   0.00000E+00\n",
      "   1    31  UZ    2   1.40000E+01   0.00000E+00   0.00000E+00   0.00000E+00\n",
      "   1    36  UZ    3   1.50000E+01   0.00000E+00   0.00000E+00   0.00000E+00\n",
      "   1    41  UZ    4   1.60000E+01   0.00000E+00   0.00000E+00   0.00000E+00\n",
      "   1    46  UZ    5   1.70000E+01   0.00000E+00   0.00000E+00   0.00000E+00\n",
      "   1    51  UZ    6   1.80000E+01   0.00000E+00   0.00000E+00   0.00000E+00\n",
      "\n",
      " Total Time    0.279E-01\n",
      "ab ... done\n",
      "\n",
      "***Compute stationary solution families***\n",
      "Starting ab ...\n",
      "\n",
      "  BR    PT  TY  LAB    PAR(1)        L2-NORM         U(1)          U(2)     \n",
      "   1    14  UZ    7   2.50000E-01   7.22011E-01   3.22893E-01   6.45786E-01\n",
      "\n",
      " Total Time    0.161E-01\n",
      "ab ... done\n",
      "Starting ab ...\n",
      "\n",
      "  BR    PT  TY  LAB    PAR(1)        L2-NORM         U(1)          U(2)     \n",
      "   1    28  HB    7   1.65042E-01   1.47770E+00   4.05955E-01   1.42084E+00\n",
      "   1    58  UZ    8   2.50000E-01   2.94686E+00   8.09564E-01   2.83347E+00\n",
      "\n",
      " Total Time    0.288E-01\n",
      "ab ... done\n",
      "Starting ab ...\n",
      "\n",
      "  BR    PT  TY  LAB    PAR(1)        L2-NORM         U(1)          U(2)     \n",
      "   1    28  HB    7   1.46882E-01   1.44760E+00   3.72992E-01   1.39872E+00\n",
      "   1    67  UZ    8   2.50000E-01   3.35710E+00   8.65000E-01   3.24375E+00\n",
      "\n",
      " Total Time    0.293E-01\n",
      "ab ... done\n",
      "Starting ab ...\n",
      "\n",
      "  BR    PT  TY  LAB    PAR(1)        L2-NORM         U(1)          U(2)     \n",
      "   1    27  HB    7   1.32538E-01   1.42450E+00   3.45491E-01   1.38197E+00\n",
      "   1    74  UZ    8   2.50000E-01   3.72020E+00   9.02281E-01   3.60912E+00\n",
      "\n",
      " Total Time    0.319E-01\n",
      "ab ... done\n",
      "Starting ab ...\n",
      "\n",
      "  BR    PT  TY  LAB    PAR(1)        L2-NORM         U(1)          U(2)     \n",
      "   1    27  HB    7   1.20866E-01   1.40614E+00   3.22062E-01   1.36877E+00\n",
      "   1    32  LP    8   1.21901E-01   1.65357E+00   3.78732E-01   1.60961E+00\n",
      "   1    54  LP    9   1.17015E-01   2.71249E+00   6.21268E-01   2.64039E+00\n",
      "   1    80  HB   10   2.17079E-01   3.98722E+00   9.13231E-01   3.88123E+00\n",
      "   1    82  UZ   11   2.49999E-01   4.05225E+00   9.28125E-01   3.94453E+00\n",
      "\n",
      " Total Time    0.357E-01\n",
      "ab ... done\n",
      "Starting ab ...\n",
      "\n",
      "  BR    PT  TY  LAB    PAR(1)        L2-NORM         U(1)          U(2)     \n",
      "   1    26  HB    7   1.11153E-01   1.39119E+00   3.01792E-01   1.35806E+00\n",
      "   1    29  LP    8   1.11565E-01   1.53659E+00   3.33333E-01   1.50000E+00\n",
      "   1    60  LP    9   9.95741E-02   3.07318E+00   6.66667E-01   3.00000E+00\n",
      "   1    84  HB   10   1.83833E-01   4.24297E+00   9.20430E-01   4.14194E+00\n",
      "   1    87  UZ   11   2.50000E-01   4.36311E+00   9.46491E-01   4.25921E+00\n",
      "\n",
      " Total Time    0.359E-01\n",
      "ab ... done\n",
      "\n",
      "***Relabel and save the output files***\n",
      "Saving to b.ab, s.ab, and d.ab ... done\n",
      "\n",
      "***Compute periodic solution families***\n",
      "Starting ab ...\n",
      "\n",
      "  BR    PT  TY  LAB    PAR(1)        L2-NORM       MAX U(1)      MAX U(2)       PERIOD    \n",
      "   2   161  UZ   18   2.50000E-01   3.02968E+00   9.95388E-01   6.87991E+00   2.22034E+00\n",
      "\n",
      " Total Time    0.120E+00\n",
      "ab ... done\n",
      "Starting ab ...\n",
      "\n",
      "  BR    PT  TY  LAB    PAR(1)        L2-NORM       MAX U(1)      MAX U(2)       PERIOD    \n",
      "   4   222  UZ   18   2.50000E-01   3.37532E+00   9.87353E-01   5.87496E+00   1.72637E+00\n",
      "\n",
      " Total Time    0.204E+00\n",
      "ab ... done\n",
      "Starting ab ...\n",
      "\n",
      "  BR    PT  TY  LAB    PAR(1)        L2-NORM       MAX U(1)      MAX U(2)       PERIOD    \n",
      "   6   309  UZ   18   2.50000E-01   3.72137E+00   9.36686E-01   4.12905E+00   1.23162E+00\n",
      "\n",
      " Total Time    0.342E+00\n",
      "ab ... done\n",
      "Starting ab ...\n",
      "\n",
      "  BR    PT  TY  LAB    PAR(1)        L2-NORM       MAX U(1)      MAX U(2)       PERIOD    \n",
      "   8   116  UZ   18   1.20102E-01   2.07774E+00   4.77420E-01   2.02903E+00   9.99882E+02\n",
      "\n",
      " Total Time    0.977E-01\n",
      "ab ... done\n",
      "Starting ab ...\n",
      "\n",
      "  BR    PT  TY  LAB    PAR(1)        L2-NORM       MAX U(1)      MAX U(2)       PERIOD    \n",
      "  11   349  UZ   18   1.19455E-01   2.17761E+00   9.99225E-01   9.33889E+00   9.99989E+02\n",
      "\n",
      " Total Time    0.380E+00\n",
      "ab ... done\n",
      "Starting ab ...\n",
      "\n",
      "  BR    PT  TY  LAB    PAR(1)        L2-NORM       MAX U(1)      MAX U(2)       PERIOD    \n",
      "  13    67  UZ   18   1.10829E-01   1.75170E+00   3.80862E-01   1.71388E+00   9.99998E+02\n",
      "\n",
      " Total Time    0.820E-01\n",
      "ab ... done\n",
      "Starting ab ...\n",
      "\n",
      "  BR    PT  TY  LAB    PAR(1)        L2-NORM       MAX U(1)      MAX U(2)       PERIOD    \n",
      "  16   374  UZ   18   1.10114E-01   1.85878E+00   9.99876E-01   1.12206E+01   1.00000E+03\n",
      "\n",
      " Total Time    0.314E+00\n",
      "ab ... done\n",
      "\n",
      "***Relabel and save the output files***\n",
      "Saving to b.ab, s.ab, and d.ab ... done\n"
     ]
    }
   ],
   "source": [
    "# copy ab demo into current directory\n",
    "ac.copydemo('ab')\n",
    "\n",
    "# start AUTO with runner object\n",
    "runner = ra.runAUTO()\n",
    "\n",
    "print(\"\\n***Generate starting data***\")\n",
    "start = ac.run(e='ab', c='ab.1', runner=runner)\n",
    "\n",
    "print(\"\\n***Compute stationary solution families***\")\n",
    "ab = []\n",
    "for solution in start():\n",
    "    ab = ab + ac.run(solution, c='ab.2', runner=runner)\n",
    "\n",
    "print(\"\\n***Relabel and save the output files***\")\n",
    "ab = ab.relabel()\n",
    "ac.save(ab,'ab')\n",
    "\n",
    "print(\"\\n***Compute periodic solution families***\")\n",
    "for solution in ab(\"HB\"):\n",
    "    ab = ab + ac.run(solution, c='ab.3', runner=runner)\n",
    "\n",
    "print(\"\\n***Relabel and save the output files***\")\n",
    "ab = ab.relabel()\n",
    "ac.save(ab,'ab')"
   ]
  },
  {
   "cell_type": "code",
   "execution_count": 17,
   "metadata": {
    "scrolled": true
   },
   "outputs": [
    {
     "data": {
      "image/png": "[encoded data removed]",
      "text/plain": [
       "<Figure size 432x288 with 1 Axes>"
      ]
     },
     "metadata": {
      "needs_background": "light"
     },
     "output_type": "display_data"
    }
   ],
   "source": [
    "# plot bifurcation diagram using matplotlib\n",
    "\n",
    "# extract relevant data for each branch\n",
    "branches = [ {\n",
    "    'p1'     : br['PAR(1)'],\n",
    "    'L2norm' : br['L2-NORM']\n",
    "} for br in ab ]\n",
    "\n",
    "# draw plot\n",
    "plt.figure()\n",
    "for br in branches:\n",
    "    plt.plot( br['p1'], br['L2norm'] )\n",
    "plt.xlabel('p1')\n",
    "plt.ylabel('L2 norm')\n",
    "plt.title('The A->B reaction');"
   ]
  },
  {
   "cell_type": "code",
   "execution_count": 18,
   "metadata": {
    "scrolled": true
   },
   "outputs": [
    {
     "name": "stdout",
     "output_type": "stream",
     "text": [
      "Deleting fort.* *.o *.exe *.*~ ... done\n",
      "Deleting b.ab ... done\n",
      "Deleting s.ab ... done\n",
      "Deleting d.ab ... done\n"
     ]
    }
   ],
   "source": [
    "# clean up files\n",
    "\n",
    "ac.clean()\n",
    "ac.delete('ab')"
   ]
  }
 ],
 "metadata": {
  "kernelspec": {
   "display_name": "Python 3",
   "language": "python",
   "name": "python3"
  },
  "language_info": {
   "codemirror_mode": {
    "name": "ipython",
    "version": 3
   },
   "file_extension": ".py",
   "mimetype": "text/x-python",
   "name": "python",
   "nbconvert_exporter": "python",
   "pygments_lexer": "ipython3",
   "version": "3.8.5"
  }
 },
 "nbformat": 4,
 "nbformat_minor": 4
}
