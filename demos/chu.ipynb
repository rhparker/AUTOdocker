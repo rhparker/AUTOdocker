{
 "cells": [
  {
   "cell_type": "code",
   "execution_count": 1,
   "metadata": {},
   "outputs": [
    {
     "data": {
      "text/plain": [
       "<pyvirtualdisplay.display.Display at 0x7fa0847d1f40>"
      ]
     },
     "execution_count": 1,
     "metadata": {},
     "output_type": "execute_result"
    }
   ],
   "source": [
    "# import os module\n",
    "import os\n",
    "\n",
    "# import AUTO modules\n",
    "from auto import AUTOCommands as ac\n",
    "from auto import AUTOclui as acl\n",
    "from auto import interactiveBindings as ib\n",
    "from auto import runAUTO as ra\n",
    "\n",
    "# import plotting tools\n",
    "import matplotlib as mpl\n",
    "from matplotlib import pyplot as plt\n",
    "\n",
    "# virtual display to use AUTO plot function\n",
    "from pyvirtualdisplay import Display\n",
    "from IPython.display import display as display\n",
    "from PIL import Image\n",
    "disp = Display(visible=0, size=(1366,768))\n",
    "disp.start()"
   ]
  },
  {
   "cell_type": "code",
   "execution_count": 2,
   "metadata": {},
   "outputs": [],
   "source": [
    "# use working directory for demo to avoid clutter\n",
    "folder = '/auto/workspace/demos/demo'\n",
    "os.chdir(folder)"
   ]
  },
  {
   "cell_type": "code",
   "execution_count": 5,
   "metadata": {},
   "outputs": [
    {
     "name": "stdout",
     "output_type": "stream",
     "text": [
      "Copying demo chu ... done\n",
      "\n",
      "Demo chu is started\n",
      "\n",
      "chu : first run : stationary solutions\n",
      "gfortran -fopenmp -O -c chu.f90 -o chu.o\n",
      "gfortran -fopenmp -O chu.o -o chu.exe /auto/lib/*.o\n",
      "Starting chu ...\n",
      "\n",
      "  BR    PT  TY  LAB    PAR(1)        L2-NORM         U(1)          U(2)          U(3)     \n",
      "   1     1  EP    1  -1.00000E+00   0.00000E+00   0.00000E+00   0.00000E+00   0.00000E+00\n",
      "   1    14  BP    2  -6.00001E-09   0.00000E+00   0.00000E+00   0.00000E+00   0.00000E+00\n",
      "   1   100  EP    3   8.60000E+00   0.00000E+00   0.00000E+00   0.00000E+00   0.00000E+00\n",
      "\n",
      "  BR    PT  TY  LAB    PAR(1)        L2-NORM         U(1)          U(2)          U(3)     \n",
      "   2    26  BP    4   0.00000E+00   2.12046E+00   1.49939E+00   0.00000E+00  -1.49939E+00\n",
      "   2    55  EP    5   0.00000E+00   5.02046E+00   3.55000E+00   0.00000E+00  -3.55000E+00\n",
      "\n",
      "  BR    PT  TY  LAB    PAR(1)        L2-NORM         U(1)          U(2)          U(3)     \n",
      "   3    73  HB    6   6.80443E+00   2.12047E+00   1.49940E+00   0.00000E+00  -1.49940E+00\n",
      "   3   100  EP    7   9.50443E+00   2.12047E+00   1.49940E+00   0.00000E+00  -1.49940E+00\n",
      "\n",
      " Total Time    0.355E+00\n",
      "chu ... done\n",
      "\n",
      "chu : second run : periodic solutions\n",
      "Starting chu ...\n",
      "\n",
      "  BR    PT  TY  LAB    PAR(1)        L2-NORM       MAX U(1)      MAX U(2)      MAX U(3)       PERIOD    \n",
      "   6    30  PD    8   8.19600E+00   2.24085E+00   2.12609E+00   3.29107E-01   4.50375E-01   2.28355E+00\n",
      "   6   100  EP    9   1.10844E+01   7.41247E-01   2.03074E+00   2.17938E-01   6.26521E-01   1.93420E+01\n",
      "\n",
      " Total Time    0.238E+00\n",
      "chu ... done\n",
      "Saving to b.chu, s.chu, and d.chu ... done\n"
     ]
    },
    {
     "name": "stderr",
     "output_type": "stream",
     "text": [
      "Note: The following floating-point exceptions are signalling: IEEE_UNDERFLOW_FLAG IEEE_DENORMAL\n"
     ]
    }
   ],
   "source": [
    "# copy demo into current directory\n",
    "ac.copydemo('chu')\n",
    "\n",
    "# start AUTO with runner object\n",
    "runner = ra.runAUTO()\n",
    "\n",
    "pgm = \"chu\"\n",
    "print(\"\\nDemo %s is started\"%pgm)\n",
    "print(\"\\n%s : first run : stationary solutions\"%pgm)\n",
    "r1 = ac.run(e=pgm,c=pgm,runner=runner)\n",
    "\n",
    "print(\"\\n%s : second run : periodic solutions\"%pgm)\n",
    "r2 = ac.run(r1(\"HB1\"),IPS=2,ICP=[1,11],runner=runner)\n",
    "\n",
    "ac.save(r1+r2,pgm)"
   ]
  },
  {
   "cell_type": "code",
   "execution_count": 7,
   "metadata": {},
   "outputs": [
    {
     "name": "stdout",
     "output_type": "stream",
     "text": [
      "Created plot\n"
     ]
    },
    {
     "data": {
      "image/png": "[encoded data removed]",
      "text/plain": [
       "<PIL.PngImagePlugin.PngImageFile image mode=RGBA size=600x480 at 0x7FA074DE7C40>"
      ]
     },
     "metadata": {},
     "output_type": "display_data"
    },
    {
     "data": {
      "image/png": "[encoded data removed]",
      "text/plain": [
       "<PIL.PngImagePlugin.PngImageFile image mode=RGBA size=600x480 at 0x7FA074D01D60>"
      ]
     },
     "metadata": {},
     "output_type": "display_data"
    }
   ],
   "source": [
    "# plot bifurcation diagram using plot routine from AUTO\n",
    "\n",
    "p = ac.plot('chu')\n",
    "p.config(stability=True, grid=False)\n",
    "p.savefig('b.png')\n",
    "display(Image.open('b.png'))\n",
    "\n",
    "p.config(bifurcation_y='MAX U(3)')\n",
    "p.savefig('b.png')\n",
    "display(Image.open('b.png'))"
   ]
  },
  {
   "cell_type": "code",
   "execution_count": 8,
   "metadata": {
    "scrolled": true
   },
   "outputs": [
    {
     "name": "stdout",
     "output_type": "stream",
     "text": [
      "Deleting fort.* *.o *.exe *.*~ ... done\n",
      "Deleting b.chu ... done\n",
      "Deleting s.chu ... done\n",
      "Deleting d.chu ... done\n"
     ]
    }
   ],
   "source": [
    "# clean up files\n",
    "\n",
    "ac.clean()\n",
    "ac.delete('chu')"
   ]
  }
 ],
 "metadata": {
  "kernelspec": {
   "display_name": "Python 3",
   "language": "python",
   "name": "python3"
  },
  "language_info": {
   "codemirror_mode": {
    "name": "ipython",
    "version": 3
   },
   "file_extension": ".py",
   "mimetype": "text/x-python",
   "name": "python",
   "nbconvert_exporter": "python",
   "pygments_lexer": "ipython3",
   "version": "3.8.5"
  }
 },
 "nbformat": 4,
 "nbformat_minor": 4
}
