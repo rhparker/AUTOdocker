{
 "cells": [
  {
   "cell_type": "code",
   "execution_count": 1,
   "metadata": {},
   "outputs": [
    {
     "data": {
      "text/plain": [
       "<pyvirtualdisplay.display.Display at 0x40317fde50>"
      ]
     },
     "execution_count": 1,
     "metadata": {},
     "output_type": "execute_result"
    }
   ],
   "source": [
    "# import os module\n",
    "import os\n",
    "\n",
    "# import AUTO modules\n",
    "from auto import AUTOCommands as ac\n",
    "from auto import AUTOclui as acl\n",
    "from auto import interactiveBindings as ib\n",
    "from auto import runAUTO as ra\n",
    "\n",
    "# import plotting tools\n",
    "import matplotlib as mpl\n",
    "from matplotlib import pyplot as plt\n",
    "\n",
    "# virtual display to use AUTO plot function (pyplot)\n",
    "from pyvirtualdisplay import Display\n",
    "from IPython.display import display as display\n",
    "from PIL import Image\n",
    "disp = Display(visible=0, size=(1366,768))\n",
    "disp.start()"
   ]
  },
  {
   "cell_type": "code",
   "execution_count": 2,
   "metadata": {},
   "outputs": [],
   "source": [
    "# use working directory for demo to avoid clutter\n",
    "folder = '/auto/workspace/demos/demo'\n",
    "os.chdir(folder)"
   ]
  },
  {
   "cell_type": "code",
   "execution_count": 3,
   "metadata": {},
   "outputs": [
    {
     "name": "stdout",
     "output_type": "stream",
     "text": [
      "Copying demo frc ... done\n",
      "\n",
      "Demo frc is started\n",
      "\n",
      "frc : first run : continuation to nonzero r-value\n",
      "gfortran -fopenmp -O -c frc.f90 -o frc.o\n",
      "gfortran -fopenmp -O frc.o -o frc.exe /auto/lib/*.o\n",
      "Starting frc ...\n",
      "\n",
      "  BR    PT  TY  LAB    PAR(3)      L2-NORM U(1)    MAX U(1)      MAX U(2)      MAX U(3)      MAX U(4)       PERIOD    \n",
      "   1     1  EP    1   0.00000E+00   5.00000E-01   5.00000E-01   0.00000E+00   1.00000E+00   1.00000E+00   6.28319E-02\n",
      "   1     4  UZ    2   2.00000E-01   5.00007E-01   5.03634E-01   2.03251E-03   9.99281E-01   1.00000E+00   6.28319E-02\n",
      "   1    10  EP    3   5.09946E+00   5.04324E-01   5.93208E-01   5.18319E-02   9.99684E-01   1.00000E+00   6.28319E-02\n",
      "\n",
      " Total Time    0.166E+00\n",
      "frc ... done\n",
      "Saving to b.0, s.0, and d.0 ... done\n",
      "\n",
      "frc : second run : compute solution branch\n",
      "Starting frc ...\n",
      "\n",
      "  BR    PT  TY  LAB    PAR(5)      L2-NORM U(1)    MAX U(1)      MAX U(2)      MAX U(3)      MAX U(4)       PERIOD    \n",
      "   1    20  EP    4   2.46098E+01   5.00484E-01   5.31119E-01   8.64747E-03   9.99376E-01   1.00000E+00   2.55313E-01\n",
      "\n",
      " Total Time    0.180E+00\n",
      "frc ... done\n",
      "Saving to b.frc, s.frc, and d.frc ... done\n"
     ]
    }
   ],
   "source": [
    "# copy demo into current directory\n",
    "ac.copydemo('frc')\n",
    "\n",
    "# start AUTO with runner object\n",
    "runner = ra.runAUTO()\n",
    "\n",
    "pgm = \"frc\"\n",
    "print(\"\\nDemo %s is started\"%pgm)\n",
    "print(\"\\n%s : first run : continuation to nonzero r-value\"%pgm)\n",
    "r1 = ac.run(e=pgm,c=pgm,runner=runner)\n",
    "ac.save(r1,'0')\n",
    "\n",
    "print(\"\\n%s : second run : compute solution branch\"%pgm)\n",
    "r2 = ac.run(r1(\"UZ1\"),ICP=[5,11],NMX=20,DS=-0.5,DSMAX=5.0,runner=runner)\n",
    "ac.save(r2,'frc')"
   ]
  },
  {
   "cell_type": "code",
   "execution_count": 4,
   "metadata": {},
   "outputs": [
    {
     "name": "stdout",
     "output_type": "stream",
     "text": [
      "Created plot\n"
     ]
    },
    {
     "data": {
      "image/png": "[encoded data removed]",
      "text/plain": [
       "<PIL.PngImagePlugin.PngImageFile image mode=RGBA size=600x480 at 0x404693DF10>"
      ]
     },
     "metadata": {},
     "output_type": "display_data"
    }
   ],
   "source": [
    "# plot bifurcation diagram using plot routine from AUTO\n",
    "\n",
    "p = ac.plot('frc')\n",
    "p.config(stability=True, grid=False)\n",
    "p.savefig('b.png')\n",
    "display(Image.open('b.png'))"
   ]
  },
  {
   "cell_type": "code",
   "execution_count": 5,
   "metadata": {
    "scrolled": true
   },
   "outputs": [
    {
     "name": "stdout",
     "output_type": "stream",
     "text": [
      "Deleting fort.* *.o *.exe *.*~ ... done\n",
      "Deleting b.frc ... done\n",
      "Deleting s.frc ... done\n",
      "Deleting d.frc ... done\n",
      "Deleting b.0 ... done\n",
      "Deleting s.0 ... done\n",
      "Deleting d.0 ... done\n"
     ]
    }
   ],
   "source": [
    "# clean up files\n",
    "\n",
    "ac.clean()\n",
    "ac.delete('frc')\n",
    "ac.delete('0')"
   ]
  }
 ],
 "metadata": {
  "kernelspec": {
   "display_name": "Python 3",
   "language": "python",
   "name": "python3"
  },
  "language_info": {
   "codemirror_mode": {
    "name": "ipython",
    "version": 3
   },
   "file_extension": ".py",
   "mimetype": "text/x-python",
   "name": "python",
   "nbconvert_exporter": "python",
   "pygments_lexer": "ipython3",
   "version": "3.8.5"
  }
 },
 "nbformat": 4,
 "nbformat_minor": 4
}
