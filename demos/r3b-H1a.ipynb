{
 "cells": [
  {
   "cell_type": "code",
   "execution_count": 1,
   "metadata": {},
   "outputs": [
    {
     "data": {
      "text/plain": [
       "<pyvirtualdisplay.display.Display at 0x7ff83056aee0>"
      ]
     },
     "execution_count": 1,
     "metadata": {},
     "output_type": "execute_result"
    }
   ],
   "source": [
    "# import os module\n",
    "import os\n",
    "\n",
    "# import AUTO modules\n",
    "from auto import AUTOCommands as ac\n",
    "from auto import AUTOclui as acl\n",
    "from auto import interactiveBindings as ib\n",
    "from auto import runAUTO as ra\n",
    "\n",
    "# import plotting tools\n",
    "import matplotlib as mpl\n",
    "from matplotlib import pyplot as plt\n",
    "\n",
    "# virtual display to use AUTO plot function\n",
    "from pyvirtualdisplay import Display\n",
    "from IPython.display import display as display\n",
    "from PIL import Image\n",
    "disp = Display(visible=0, size=(1366,768))\n",
    "disp.start()"
   ]
  },
  {
   "cell_type": "code",
   "execution_count": 2,
   "metadata": {},
   "outputs": [],
   "source": [
    "# use working directory for demo to avoid clutter\n",
    "folder = '/auto/workspace/demos/demo'\n",
    "os.chdir(folder)"
   ]
  },
  {
   "cell_type": "code",
   "execution_count": 5,
   "metadata": {},
   "outputs": [
    {
     "name": "stdout",
     "output_type": "stream",
     "text": [
      "Copying demo r3b ... done\n"
     ]
    }
   ],
   "source": [
    "# copy demo into current directory\n",
    "ac.copydemo('r3b')\n",
    "\n",
    "# run the r3b routines, if needed, to generate the families of periodic solutions\n",
    "runner = ra.runAUTO()\n",
    "if not os.path.exists('s.H1'):\n",
    "    # mass ratio\n",
    "    mu = 0.063\n",
    "\n",
    "    print(\"\\n***Compute libration points\")\n",
    "    r1=ac.run('r3b',UZR={'mu':mu},runner=runner)\n",
    "    import compute_lps\n",
    "    compute_lps.write_lagrange(r1)\n",
    "\n",
    "    print(\"\\n***Lagrange family L1***\")\n",
    "    L1=ac.run(r1('UZ7'),c='r3b.L1',runner=runner)\n",
    "    ac.save('L1')\n",
    "\n",
    "    print(\"\\n***Halo family H1***\")\n",
    "    ac.run(L1('BP1'),c='r3b.H1',runner=runner)\n",
    "    ac.save('H1')\n",
    "\n",
    "    print(\"\\n***Vertical family V1***\")\n",
    "    ac.run(r1('UZ7'),e='r3b',c='r3b.V1',runner=runner)\n",
    "    ac.save('V1')\n",
    "    \n",
    "    ac.clean()"
   ]
  },
  {
   "cell_type": "code",
   "execution_count": 8,
   "metadata": {},
   "outputs": [
    {
     "name": "stdout",
     "output_type": "stream",
     "text": [
      "\n",
      "*** Compute the Floquet eigenfunction***\n",
      "Parsed output data\n",
      "Starting r3b ...\n",
      "\n",
      "  BR    PT  TY  LAB     lambda       L2-NORM        MAX x         MAX y         MAX z         MAX xp          fm           rho      \n",
      "  15    22  UZ    1   7.63683E-13   1.44785E+00   9.27001E-01   2.27917E-01   3.08092E-01   3.03160E-01   1.06112E+01   1.00000E+00\n",
      "\n",
      " Total Time    0.110E+00\n",
      "r3b ... done\n",
      "Saving to b.flq, s.flq, and d.flq ... done\n",
      "\n",
      "*** Extract data for the selected orbit from s.flq***\n",
      "Runner configured\n",
      "\n",
      "*** Time integration using continuation***\n",
      "Starting man ...\n",
      "\n",
      "  BR    PT  TY  LAB    PAR(11)       L2-NORM        MAX x        PAR(12)          E          PAR(21)       PAR(22)       PAR(23)    \n",
      "   1   320  UZ    2   9.85401E+00   1.01069E+00   9.26942E-01   5.73628E+00  -1.46558E+00   5.00016E-01   2.11605E-01  -3.16011E-01\n",
      "   1   335  UZ    3   1.01621E+01   1.01210E+00   9.26941E-01   6.01226E+00  -1.46558E+00   2.50034E-01   2.49665E-01  -2.07907E-01\n",
      "   1   344  UZ    4   1.03446E+01   1.02725E+00   9.26940E-01   6.30702E+00  -1.46558E+00  -4.17641E-05   2.57218E-01  -5.46129E-02\n",
      "   1   354  UZ    5   1.05011E+01   1.06101E+00   9.26938E-01   6.68076E+00  -1.46558E+00  -2.50009E-01   5.25255E-02   1.03797E-01\n",
      "   1   400  EP    6   1.18710E+01   1.07770E+00   9.26942E-01   7.75853E+00  -1.46558E+00  -4.98032E-01  -6.39108E-01  -3.13528E-01\n",
      "\n",
      " Total Time    0.217E+01\n",
      "man ... done\n",
      "Saving to b.startH1a, s.startH1a, and d.startH1a ... done\n",
      "\n",
      "*** Compute part of the unstable manifold***\n",
      "Starting man ...\n",
      "\n",
      "  BR    PT  TY  LAB      eps         L2-NORM        MAX x        PAR(11)       PAR(12)          E          PAR(22)       PAR(23)    \n",
      "   1     1        7  -1.00000E-03   1.02725E+00   9.26940E-01   1.03446E+01   6.30702E+00  -1.46558E+00   2.57218E-01  -5.46129E-02\n",
      "   1     2        8  -1.14399E-03   1.01606E+00   9.26933E-01   1.03934E+01   6.25474E+00  -1.46558E+00   3.44074E-01  -7.95414E-02\n",
      "   1     3        9  -1.22583E-03   1.01094E+00   9.26924E-01   1.04150E+01   6.22728E+00  -1.46558E+00   3.93126E-01  -9.26942E-02\n",
      "   1     4       10  -1.31731E-03   1.00631E+00   9.26920E-01   1.04311E+01   6.19793E+00  -1.46558E+00   4.46488E-01  -1.07746E-01\n",
      "   1     5       11  -1.42063E-03   1.00246E+00   9.26914E-01   1.04360E+01   6.16551E+00  -1.46558E+00   5.04121E-01  -1.26726E-01\n",
      "   1     6       12  -1.52365E-03   1.00007E+00   9.26911E-01   1.04222E+01   6.13248E+00  -1.46558E+00   5.58079E-01  -1.49635E-01\n",
      "   1     7       13  -1.60222E-03   9.99228E-01   9.26904E-01   1.03950E+01   6.10573E+00  -1.46558E+00   5.96302E-01  -1.71051E-01\n",
      "   1     8       14  -1.66015E-03   9.99151E-01   9.26900E-01   1.03631E+01   6.08465E+00  -1.46558E+00   6.22463E-01  -1.89577E-01\n",
      "   1     9       15  -1.70637E-03   9.99428E-01   9.26898E-01   1.03289E+01   6.06681E+00  -1.46558E+00   6.41829E-01  -2.06187E-01\n",
      "   1    10       16  -1.74511E-03   9.99894E-01   9.26895E-01   1.02935E+01   6.05113E+00  -1.46558E+00   6.56833E-01  -2.21352E-01\n",
      "   1    11       17  -1.77863E-03   1.00047E+00   9.26895E-01   1.02573E+01   6.03705E+00  -1.46558E+00   6.68766E-01  -2.35304E-01\n",
      "   1    12       18  -1.80833E-03   1.00112E+00   9.26893E-01   1.02205E+01   6.02426E+00  -1.46558E+00   6.78410E-01  -2.48176E-01\n",
      "   1    13       19  -1.83511E-03   1.00182E+00   9.26891E-01   1.01834E+01   6.01253E+00  -1.46558E+00   6.86280E-01  -2.60055E-01\n",
      "   1    14       20  -1.85961E-03   1.00255E+00   9.26891E-01   1.01461E+01   6.00174E+00  -1.46558E+00   6.92734E-01  -2.71000E-01\n",
      "   1    15       21  -1.88232E-03   1.00330E+00   9.26887E-01   1.01085E+01   5.99176E+00  -1.46558E+00   6.98030E-01  -2.81049E-01\n",
      "   1    16       22  -1.90357E-03   1.00407E+00   9.26887E-01   1.00709E+01   5.98251E+00  -1.46558E+00   7.02362E-01  -2.90233E-01\n",
      "   1    17       23  -1.92364E-03   1.00486E+00   9.26886E-01   1.00331E+01   5.97392E+00  -1.46558E+00   7.05879E-01  -2.98573E-01\n",
      "   1    18       24  -1.94273E-03   1.00566E+00   9.26885E-01   9.99536E+00   5.96593E+00  -1.46558E+00   7.08697E-01  -3.06086E-01\n",
      "   1    19       25  -1.96103E-03   1.00647E+00   9.26885E-01   9.95755E+00   5.95847E+00  -1.46558E+00   7.10910E-01  -3.12786E-01\n",
      "   1    20       26  -1.97868E-03   1.00729E+00   9.26881E-01   9.91973E+00   5.95150E+00  -1.46558E+00   7.12595E-01  -3.18685E-01\n",
      "   1    21       27  -1.99578E-03   1.00812E+00   9.26883E-01   9.88193E+00   5.94495E+00  -1.46558E+00   7.13813E-01  -3.23793E-01\n",
      "   1    22       28  -2.01245E-03   1.00896E+00   9.26881E-01   9.84415E+00   5.93876E+00  -1.46558E+00   7.14615E-01  -3.28120E-01\n",
      "   1    23       29  -2.02876E-03   1.00980E+00   9.26879E-01   9.80641E+00   5.93288E+00  -1.46558E+00   7.15044E-01  -3.31676E-01\n",
      "   1    24       30  -2.04480E-03   1.01066E+00   9.26879E-01   9.76872E+00   5.92724E+00  -1.46558E+00   7.15136E-01  -3.34470E-01\n",
      "   1    25       31  -2.06062E-03   1.01152E+00   9.26879E-01   9.73108E+00   5.92178E+00  -1.46558E+00   7.14919E-01  -3.36511E-01\n",
      "   1    26       32  -2.07628E-03   1.01239E+00   9.26875E-01   9.69352E+00   5.91643E+00  -1.46558E+00   7.14417E-01  -3.37808E-01\n",
      "   1    27       33  -2.09183E-03   1.01327E+00   9.26877E-01   9.65603E+00   5.91113E+00  -1.46558E+00   7.13650E-01  -3.38371E-01\n",
      "   1    28       34  -2.10733E-03   1.01415E+00   9.26875E-01   9.61862E+00   5.90583E+00  -1.46558E+00   7.12634E-01  -3.38211E-01\n",
      "   1    29       35  -2.12281E-03   1.01504E+00   9.26874E-01   9.58130E+00   5.90045E+00  -1.46558E+00   7.11380E-01  -3.37337E-01\n",
      "   1    30       36  -2.13833E-03   1.01595E+00   9.26873E-01   9.54408E+00   5.89496E+00  -1.46558E+00   7.09899E-01  -3.35761E-01\n",
      "   1    31       37  -2.15391E-03   1.01685E+00   9.26872E-01   9.50696E+00   5.88928E+00  -1.46558E+00   7.08197E-01  -3.33495E-01\n",
      "   1    32       38  -2.16959E-03   1.01777E+00   9.26871E-01   9.46995E+00   5.88339E+00  -1.46558E+00   7.06278E-01  -3.30549E-01\n",
      "   1    33       39  -2.18542E-03   1.01870E+00   9.26871E-01   9.43305E+00   5.87723E+00  -1.46558E+00   7.04144E-01  -3.26937E-01\n",
      "   1    34       40  -2.20142E-03   1.01963E+00   9.26870E-01   9.39628E+00   5.87077E+00  -1.46558E+00   7.01795E-01  -3.22673E-01\n",
      "   1    35       41  -2.21764E-03   1.02057E+00   9.26867E-01   9.35963E+00   5.86398E+00  -1.46558E+00   6.99229E-01  -3.17770E-01\n",
      "   1    36       42  -2.23411E-03   1.02152E+00   9.26868E-01   9.32311E+00   5.85683E+00  -1.46558E+00   6.96442E-01  -3.12242E-01\n",
      "   1    37       43  -2.25087E-03   1.02247E+00   9.26867E-01   9.28673E+00   5.84931E+00  -1.46558E+00   6.93430E-01  -3.06107E-01\n",
      "   1    38       44  -2.26796E-03   1.02343E+00   9.26865E-01   9.25049E+00   5.84139E+00  -1.46558E+00   6.90185E-01  -2.99380E-01\n",
      "   1    39       45  -2.28542E-03   1.02440E+00   9.26865E-01   9.21440E+00   5.83305E+00  -1.46558E+00   6.86699E-01  -2.92078E-01\n",
      "   1    40       46  -2.30328E-03   1.02538E+00   9.26864E-01   9.17846E+00   5.82430E+00  -1.46558E+00   6.82963E-01  -2.84221E-01\n",
      "   1    41       47  -2.32160E-03   1.02636E+00   9.26861E-01   9.14268E+00   5.81512E+00  -1.46558E+00   6.78966E-01  -2.75827E-01\n",
      "   1    42       48  -2.34041E-03   1.02735E+00   9.26862E-01   9.10706E+00   5.80551E+00  -1.46558E+00   6.74698E-01  -2.66916E-01\n",
      "   1    43       49  -2.35978E-03   1.02835E+00   9.26861E-01   9.07161E+00   5.79547E+00  -1.46558E+00   6.70145E-01  -2.57511E-01\n",
      "   1    44       50  -2.37974E-03   1.02935E+00   9.26858E-01   9.03633E+00   5.78499E+00  -1.46558E+00   6.65293E-01  -2.47633E-01\n",
      "   1    45       51  -2.40036E-03   1.03036E+00   9.26858E-01   9.00122E+00   5.77408E+00  -1.46558E+00   6.60129E-01  -2.37306E-01\n",
      "   1    46       52  -2.42170E-03   1.03138E+00   9.26855E-01   8.96629E+00   5.76275E+00  -1.46558E+00   6.54637E-01  -2.26556E-01\n",
      "   1    47       53  -2.44383E-03   1.03240E+00   9.26856E-01   8.93154E+00   5.75099E+00  -1.46558E+00   6.48802E-01  -2.15407E-01\n",
      "   1    48       54  -2.46680E-03   1.03343E+00   9.26854E-01   8.89697E+00   5.73882E+00  -1.46558E+00   6.42607E-01  -2.03888E-01\n",
      "   1    49       55  -2.49071E-03   1.03446E+00   9.26852E-01   8.86260E+00   5.72624E+00  -1.46558E+00   6.36036E-01  -1.92027E-01\n",
      "   1    50       56  -2.51562E-03   1.03549E+00   9.26850E-01   8.82840E+00   5.71326E+00  -1.46558E+00   6.29071E-01  -1.79855E-01\n"
     ]
    },
    {
     "name": "stdout",
     "output_type": "stream",
     "text": [
      "   1    51       57  -2.54163E-03   1.03654E+00   9.26850E-01   8.79440E+00   5.69989E+00  -1.46558E+00   6.21696E-01  -1.67403E-01\n",
      "   1    52       58  -2.56884E-03   1.03758E+00   9.26848E-01   8.76060E+00   5.68613E+00  -1.46558E+00   6.13892E-01  -1.54704E-01\n",
      "   1    53       59  -2.59734E-03   1.03863E+00   9.26844E-01   8.72699E+00   5.67201E+00  -1.46558E+00   6.05643E-01  -1.41794E-01\n",
      "   1    54       60  -2.62725E-03   1.03969E+00   9.26845E-01   8.69357E+00   5.65753E+00  -1.46558E+00   5.96931E-01  -1.28708E-01\n",
      "   1    55       61  -2.65870E-03   1.04075E+00   9.26842E-01   8.66036E+00   5.64269E+00  -1.46558E+00   5.87739E-01  -1.15486E-01\n",
      "   1    56       62  -2.69181E-03   1.04181E+00   9.26841E-01   8.62735E+00   5.62751E+00  -1.46558E+00   5.78051E-01  -1.02168E-01\n",
      "   1    57       63  -2.72674E-03   1.04288E+00   9.26837E-01   8.59454E+00   5.61200E+00  -1.46558E+00   5.67850E-01  -8.87969E-02\n",
      "   1    58       64  -2.76363E-03   1.04396E+00   9.26837E-01   8.56194E+00   5.59618E+00  -1.46558E+00   5.57122E-01  -7.54162E-02\n",
      "   1    59       65  -2.80266E-03   1.04503E+00   9.26832E-01   8.52955E+00   5.58004E+00  -1.46558E+00   5.45851E-01  -6.20732E-02\n",
      "   1    60       66  -2.84402E-03   1.04611E+00   9.26832E-01   8.49738E+00   5.56359E+00  -1.46558E+00   5.34026E-01  -4.88170E-02\n",
      "   1    61       67  -2.88792E-03   1.04719E+00   9.26826E-01   8.46542E+00   5.54685E+00  -1.46558E+00   5.21634E-01  -3.56992E-02\n",
      "   1    62       68  -2.93457E-03   1.04828E+00   9.26826E-01   8.43368E+00   5.52983E+00  -1.46558E+00   5.08665E-01  -2.27738E-02\n",
      "   1    63       69  -2.98423E-03   1.04937E+00   9.26822E-01   8.40217E+00   5.51252E+00  -1.46558E+00   4.95112E-01  -1.00979E-02\n",
      "   1    64       70  -3.03716E-03   1.05046E+00   9.26820E-01   8.37089E+00   5.49494E+00  -1.46558E+00   4.80968E-01   2.26874E-03\n",
      "   1    65       71  -3.09366E-03   1.05155E+00   9.26815E-01   8.33986E+00   5.47708E+00  -1.46558E+00   4.66232E-01   1.42634E-02\n",
      "   1    66       72  -3.15405E-03   1.05264E+00   9.26813E-01   8.30908E+00   5.45896E+00  -1.46558E+00   4.50904E-01   2.58201E-02\n",
      "   1    67       73  -3.21869E-03   1.05373E+00   9.26809E-01   8.27855E+00   5.44056E+00  -1.46558E+00   4.34988E-01   3.68694E-02\n",
      "   1    68       74  -3.28799E-03   1.05482E+00   9.26805E-01   8.24830E+00   5.42188E+00  -1.46558E+00   4.18493E-01   4.73388E-02\n",
      "   1    69       75  -3.36238E-03   1.05591E+00   9.26800E-01   8.21834E+00   5.40292E+00  -1.46558E+00   4.01434E-01   5.71517E-02\n",
      "   1    70       76  -3.44237E-03   1.05700E+00   9.26795E-01   8.18868E+00   5.38368E+00  -1.46558E+00   3.83829E-01   6.62283E-02\n",
      "   1    71       77  -3.52850E-03   1.05808E+00   9.26791E-01   8.15935E+00   5.36413E+00  -1.46558E+00   3.65708E-01   7.44848E-02\n",
      "   1    72       78  -3.62140E-03   1.05915E+00   9.26784E-01   8.13038E+00   5.34426E+00  -1.46558E+00   3.47107E-01   8.18339E-02\n",
      "   1    73       79  -3.72179E-03   1.06020E+00   9.26777E-01   8.10178E+00   5.32405E+00  -1.46558E+00   3.28073E-01   8.81848E-02\n",
      "   1    74       80  -3.84188E-03   1.06135E+00   9.26772E-01   8.07081E+00   5.30139E+00  -1.46558E+00   3.06701E-01   9.39069E-02\n",
      "   1    75       81  -3.97334E-03   1.06247E+00   9.26763E-01   8.04040E+00   5.27823E+00  -1.46558E+00   2.84972E-01   9.81792E-02\n",
      "   1    76       82  -4.11765E-03   1.06355E+00   9.26755E-01   8.01063E+00   5.25453E+00  -1.46558E+00   2.63020E-01   1.00869E-01\n",
      "   1    77       83  -4.27668E-03   1.06457E+00   9.26745E-01   7.98161E+00   5.23020E+00  -1.46558E+00   2.41009E-01   1.01848E-01\n",
      "   1    78       84  -4.45271E-03   1.06553E+00   9.26735E-01   7.95346E+00   5.20516E+00  -1.46558E+00   2.19147E-01   1.00988E-01\n",
      "   1    79       85  -4.64864E-03   1.06638E+00   9.26721E-01   7.92635E+00   5.17931E+00  -1.46558E+00   1.97700E-01   9.81764E-02\n",
      "   1    80       86  -4.86827E-03   1.06709E+00   9.26710E-01   7.90050E+00   5.15252E+00  -1.46558E+00   1.77012E-01   9.33148E-02\n",
      "   1    81       87  -5.11669E-03   1.06759E+00   9.26695E-01   7.87624E+00   5.12463E+00  -1.46558E+00   1.57533E-01   8.63353E-02\n",
      "   1    82       88  -5.40100E-03   1.06776E+00   9.26676E-01   7.85403E+00   5.09546E+00  -1.46558E+00   1.39872E-01   7.72105E-02\n",
      "   1    83       89  -5.73144E-03   1.06745E+00   9.26656E-01   7.83458E+00   5.06481E+00  -1.46558E+00   1.24885E-01   6.59664E-02\n",
      "   1    84       90  -6.12305E-03   1.06634E+00   9.26634E-01   7.81902E+00   5.03251E+00  -1.46558E+00   1.13850E-01   5.26907E-02\n",
      "   1    85       91  -6.59698E-03   1.06397E+00   9.26606E-01   7.80917E+00   4.99848E+00  -1.46558E+00   1.08765E-01   3.75414E-02\n",
      "   1    86       92  -7.17511E-03   1.05965E+00   9.26571E-01   7.80771E+00   4.96318E+00  -1.46558E+00   1.12592E-01   2.08253E-02\n",
      "   1    87       93  -7.85181E-03   1.05303E+00   9.26531E-01   7.81685E+00   4.92821E+00  -1.46558E+00   1.28026E-01   3.33024E-03\n",
      "   1    88       94  -8.57337E-03   1.04481E+00   9.26485E-01   7.83507E+00   4.89566E+00  -1.46558E+00   1.54114E-01  -1.36357E-02\n",
      "   1    89       95  -9.30019E-03   1.03612E+00   9.26440E-01   7.85841E+00   4.86572E+00  -1.46558E+00   1.87321E-01  -2.93842E-02\n",
      "   1    90  EP   96  -1.00344E-02   1.02751E+00   9.26395E-01   7.88414E+00   4.83735E+00  -1.46558E+00   2.25333E-01  -4.39884E-02\n",
      "\n",
      " Total Time    0.209E+01\n",
      "man ... done\n",
      "Relabeling done\n",
      "Saving to b.H1a, s.H1a, and d.H1a ... done\n",
      "\n",
      "***Clean the directory***\n",
      "Deleting fort.* *.o *.exe *.*~ ... done\n"
     ]
    }
   ],
   "source": [
    "# run routines for Halo family H1\n",
    "\n",
    "import data\n",
    "runner = ra.runAUTO()\n",
    "\n",
    "print(\"\\n*** Compute the Floquet eigenfunction***\")\n",
    "H1 = ac.loadbd('H1')\n",
    "flq = ac.run(H1(7),c='r3b.flq',sv='flq',runner=runner)\n",
    "\n",
    "print(\"\\n*** Extract data for the selected orbit from s.flq***\")\n",
    "startman = data.get(flq('UZ1'),eps=-1e-3)\n",
    "\n",
    "print(\"\\n*** Time integration using continuation***\")\n",
    "startH1a = ac.run(startman,e='man',c='man.H1a.0',sv='startH1a',runner=runner)\n",
    "\n",
    "print(\"\\n*** Compute part of the unstable manifold***\")\n",
    "startUZs = startH1a('UZ')\n",
    "startUZ = startUZs[0]\n",
    "for s in startUZs:\n",
    "    # find minimum\n",
    "    if abs(s.PAR(21)) < abs(startUZ.PAR(21)):\n",
    "        startUZ = s\n",
    "H1a = ac.run(startUZ,c='man.H1a.1',runner=runner)\n",
    "ac.save(ac.relabel(H1a),'H1a')\n",
    "\n",
    "print (\"\\n***Clean the directory***\")\n",
    "ac.clean()"
   ]
  },
  {
   "cell_type": "code",
   "execution_count": 11,
   "metadata": {},
   "outputs": [
    {
     "name": "stdout",
     "output_type": "stream",
     "text": [
      "Unknown column name: x\n",
      "Unknown column name: y\n",
      "Created plot\n"
     ]
    },
    {
     "data": {
      "image/png": "[encoded data removed]",
      "text/plain": [
       "<PIL.PngImagePlugin.PngImageFile image mode=RGBA size=600x480 at 0x7FF819E79A60>"
      ]
     },
     "metadata": {},
     "output_type": "display_data"
    }
   ],
   "source": [
    "# plot an example solution\n",
    "\n",
    "p = ac.plot('H1a')\n",
    "p.config(type='solution')\n",
    "p.config(grid=False)\n",
    "p.config(solution_z='z')\n",
    "p.config(label=[15])\n",
    "p.savefig('b.png')\n",
    "display(Image.open('b.png'))"
   ]
  },
  {
   "cell_type": "code",
   "execution_count": 13,
   "metadata": {
    "scrolled": false
   },
   "outputs": [
    {
     "name": "stdout",
     "output_type": "stream",
     "text": [
      "Deleting fort.* *.o *.exe *.*~ ... done\n"
     ]
    }
   ],
   "source": [
    "# clean up files\n",
    "\n",
    "for f in ['L1', 'H1', 'V1',\n",
    "            'H1a', 'H1b', 'H1c', 'V1a', 'V1b', 'L1a', 'L1a2',\n",
    "           'startH1a', 'startH1b', 'startH1c',\n",
    "           'startV1a', 'startV1b', 'startL1a',\n",
    "           'ext', 'flq', 'start', 'startman',\n",
    "           'hetH1a', 'het1H1b', 'het2H1a', 'het2H1b', 'hetV1b']:\n",
    "   ac.delete(f)\n",
    "\n",
    "ac.clean()\n"
   ]
  }
 ],
 "metadata": {
  "kernelspec": {
   "display_name": "Python 3",
   "language": "python",
   "name": "python3"
  },
  "language_info": {
   "codemirror_mode": {
    "name": "ipython",
    "version": 3
   },
   "file_extension": ".py",
   "mimetype": "text/x-python",
   "name": "python",
   "nbconvert_exporter": "python",
   "pygments_lexer": "ipython3",
   "version": "3.8.5"
  }
 },
 "nbformat": 4,
 "nbformat_minor": 4
}
