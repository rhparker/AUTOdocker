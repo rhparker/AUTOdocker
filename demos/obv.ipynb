{
 "cells": [
  {
   "cell_type": "code",
   "execution_count": 1,
   "metadata": {},
   "outputs": [
    {
     "data": {
      "text/plain": [
       "<pyvirtualdisplay.display.Display at 0x7f5f1c18a940>"
      ]
     },
     "execution_count": 1,
     "metadata": {},
     "output_type": "execute_result"
    }
   ],
   "source": [
    "# import os module\n",
    "import os\n",
    "\n",
    "# import AUTO modules\n",
    "from auto import AUTOCommands as ac\n",
    "from auto import AUTOclui as acl\n",
    "from auto import interactiveBindings as ib\n",
    "from auto import runAUTO as ra\n",
    "\n",
    "# import plotting tools\n",
    "import matplotlib as mpl\n",
    "from matplotlib import pyplot as plt\n",
    "\n",
    "# virtual display to use AUTO plot function\n",
    "from pyvirtualdisplay import Display\n",
    "from IPython.display import display as display\n",
    "from PIL import Image\n",
    "disp = Display(visible=0, size=(1366,768))\n",
    "disp.start()"
   ]
  },
  {
   "cell_type": "code",
   "execution_count": 2,
   "metadata": {},
   "outputs": [],
   "source": [
    "# use working directory for demo to avoid clutter\n",
    "folder = '/auto/workspace/demos/demo'\n",
    "os.chdir(folder)"
   ]
  },
  {
   "cell_type": "code",
   "execution_count": 5,
   "metadata": {},
   "outputs": [
    {
     "name": "stdout",
     "output_type": "stream",
     "text": [
      "Copying demo obv ... done\n",
      "\n",
      "Demo obv is started\n",
      "\n",
      "obv : first run : locate 1-parameter extrema as bifurcation points\n",
      "gfortran -fopenmp -O -c obv.f90 -o obv.o\n",
      "gfortran -fopenmp -O obv.o -o obv.exe /auto/lib/*.o\n",
      "Starting obv ...\n",
      "\n",
      "  BR    PT  TY  LAB    PAR(10)       L2-NORM       PAR(1)        PAR(16)       PAR(17)       PAR(18)       PAR(13)       PAR(14)    \n",
      "   1     1  EP    1   1.00000E+00   0.00000E+00   1.00000E-03   0.00000E+00   0.00000E+00   0.00000E+00   0.00000E+00   0.00000E+00\n",
      "   1    12  BP    2   9.23446E-01   3.10269E-01   9.24364E-01   0.00000E+00   0.00000E+00   0.00000E+00   0.00000E+00   0.00000E+00\n",
      "   1    27  BP    3   1.42526E+00   2.60514E+00   3.50591E+00   0.00000E+00   0.00000E+00   0.00000E+00   0.00000E+00   0.00000E+00\n",
      "   1    32  BP    4   1.32627E+00   4.42622E+00   3.05893E+00   0.00000E+00   0.00000E+00   0.00000E+00   0.00000E+00   0.00000E+00\n",
      "   1    40  EP    5   2.55933E+00   7.78592E+00   1.47229E+00   0.00000E+00   0.00000E+00   0.00000E+00   0.00000E+00   0.00000E+00\n",
      "\n",
      " Total Time    0.162E+00\n",
      "obv ... done\n",
      "Saving to b.obv, s.obv, and d.obv ... done\n",
      "\n",
      "obv : second run : compute a few step on the first bifurcating branch\n",
      "Starting obv ...\n",
      "\n",
      "  BR    PT  TY  LAB    PAR(10)       L2-NORM       PAR(1)        PAR(16)       PAR(17)       PAR(18)       PAR(13)       PAR(14)    \n"
     ]
    },
    {
     "name": "stderr",
     "output_type": "stream",
     "text": [
      "Note: The following floating-point exceptions are signalling: IEEE_UNDERFLOW_FLAG IEEE_DENORMAL\n"
     ]
    },
    {
     "name": "stdout",
     "output_type": "stream",
     "text": [
      "   2     5  EP    6   9.23446E-01   3.11427E-01   9.24365E-01   6.54346E-04  -8.64174E-05  -1.15834E-06  -4.42778E-02  -4.42778E-02\n",
      "\n",
      " Total Time    0.676E-01\n",
      "obv ... done\n",
      "Saving to b.1, s.1, and d.1 ... done\n",
      "\n",
      "obv : third run : locate 2-parameter extremum\n",
      "Starting obv ...\n",
      "\n",
      "  BR    PT  TY  LAB    PAR(10)       L2-NORM       PAR(1)        PAR(2)        PAR(17)       PAR(18)       PAR(13)       PAR(14)    \n",
      "   2    49  UZ    7   1.06300E+00   1.09790E+00   2.22971E+00   7.63889E-01   3.87678E-08  -7.24365E-04  -3.99530E-02  -3.99530E-02\n",
      "   2    78  UZ    8   3.60824E-01   3.46026E+00   6.86096E-01   8.51279E-01   1.85134E-06  -1.20936E-01  -8.14378E-02  -8.14378E-02\n",
      "   2    82  UZ    9   5.60413E-01   2.99427E+00   2.45898E-01   1.80708E+00   1.01848E-01   1.16330E-06  -6.88718E-02  -6.88717E-02\n",
      "   2   100  EP   10   3.92430E+00   3.00840E+00   9.28474E-05   6.06423E+00   3.35438E-01   9.79791E-04  -6.93169E-02  -6.93157E-02\n",
      "\n",
      " Total Time    0.717E+00\n",
      "obv ... done\n",
      "Saving to b.2, s.2, and d.2 ... done\n",
      "\n",
      "obv : fourth run : locate 3-parameter extremum\n",
      "Starting obv ...\n",
      "\n",
      "  BR    PT  TY  LAB    PAR(10)       L2-NORM       PAR(1)        PAR(2)        PAR(3)        PAR(18)       PAR(13)       PAR(14)    \n",
      "   2    22  UZ   11   2.84593E-01   3.32435E+00   3.77205E-01   2.37830E-01   4.67624E-01   5.00193E-06  -7.72328E-02  -7.72328E-02\n",
      "   2    25  EP   12   2.90718E-01   3.22684E+00   3.13288E-01   1.43559E-01   6.25423E-01   2.40089E-02  -7.47261E-02  -7.47261E-02\n",
      "\n",
      " Total Time    0.111E+00\n",
      "obv ... done\n",
      "Saving to b.3, s.3, and d.3 ... done\n"
     ]
    },
    {
     "name": "stderr",
     "output_type": "stream",
     "text": [
      "Note: The following floating-point exceptions are signalling: IEEE_UNDERFLOW_FLAG IEEE_DENORMAL\n"
     ]
    }
   ],
   "source": [
    "# copy demo into current directory\n",
    "ac.copydemo('obv')\n",
    "\n",
    "# start AUTO with runner object\n",
    "runner = ra.runAUTO()\n",
    "\n",
    "pgm = \"obv\"\n",
    "print(\"\\nDemo %s is started\"%pgm)\n",
    "print(\"\\n%s : first run : locate 1-parameter extrema as bifurcation points\"%pgm)\n",
    "r1 = ac.run(e=pgm,c=pgm,runner=runner)\n",
    "ac.save(r1,'obv')\n",
    "\n",
    "print(\"\\n%s : second run : compute a few step on the first bifurcating branch\"%pgm)\n",
    "r2 = ac.run(r1(\"BP1\"),ISW=-1,NMX=5,runner=runner)\n",
    "ac.save(r2,'1')\n",
    "\n",
    "print(\"\\n%s : third run : locate 2-parameter extremum\"%pgm)\n",
    "r3 = ac.run(r2,ICP=[10,1,2,17,18,13,14,15],ISW=1,NMX=100,runner=runner)\n",
    "ac.save(r3,'2')\n",
    "\n",
    "print(\"\\n%s : fourth run : locate 3-parameter extremum\"%pgm)\n",
    "r4 = ac.run(r3(\"UZ2\"),ICP=[10,1,2,3,18,13,14,15],NMX=25,runner=runner)\n",
    "ac.save(r4,'3')"
   ]
  },
  {
   "cell_type": "code",
   "execution_count": 6,
   "metadata": {},
   "outputs": [
    {
     "name": "stdout",
     "output_type": "stream",
     "text": [
      "Created plot\n"
     ]
    },
    {
     "data": {
      "image/png": "[encoded data removed]",
      "text/plain": [
       "<PIL.PngImagePlugin.PngImageFile image mode=RGBA size=600x480 at 0x7F5EF4B84400>"
      ]
     },
     "metadata": {},
     "output_type": "display_data"
    }
   ],
   "source": [
    "# plot bifurcation diagram using plot routine from AUTO\n",
    "\n",
    "p = ac.plot('3')\n",
    "p.config(stability=True, grid=False)\n",
    "p.savefig('b.png')\n",
    "display(Image.open('b.png'))"
   ]
  },
  {
   "cell_type": "code",
   "execution_count": 7,
   "metadata": {
    "scrolled": false
   },
   "outputs": [
    {
     "name": "stdout",
     "output_type": "stream",
     "text": [
      "Deleting b.obv ... done\n",
      "Deleting s.obv ... done\n",
      "Deleting d.obv ... done\n",
      "Deleting b.1 ... done\n",
      "Deleting s.1 ... done\n",
      "Deleting d.1 ... done\n",
      "Deleting b.2 ... done\n",
      "Deleting s.2 ... done\n",
      "Deleting d.2 ... done\n",
      "Deleting b.3 ... done\n",
      "Deleting s.3 ... done\n",
      "Deleting d.3 ... done\n",
      "Deleting fort.* *.o *.exe *.*~ ... done\n"
     ]
    }
   ],
   "source": [
    "# clean up files\n",
    "\n",
    "ac.delete('obv')\n",
    "ac.delete('1')\n",
    "ac.delete('2')\n",
    "ac.delete('3')\n",
    "ac.clean()\n"
   ]
  }
 ],
 "metadata": {
  "kernelspec": {
   "display_name": "Python 3",
   "language": "python",
   "name": "python3"
  },
  "language_info": {
   "codemirror_mode": {
    "name": "ipython",
    "version": 3
   },
   "file_extension": ".py",
   "mimetype": "text/x-python",
   "name": "python",
   "nbconvert_exporter": "python",
   "pygments_lexer": "ipython3",
   "version": "3.8.5"
  }
 },
 "nbformat": 4,
 "nbformat_minor": 4
}
