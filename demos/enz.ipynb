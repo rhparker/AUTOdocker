{
 "cells": [
  {
   "cell_type": "code",
   "execution_count": 32,
   "metadata": {},
   "outputs": [
    {
     "data": {
      "text/plain": [
       "<pyvirtualdisplay.display.Display at 0x7f64084cf1f0>"
      ]
     },
     "execution_count": 32,
     "metadata": {},
     "output_type": "execute_result"
    }
   ],
   "source": [
    "# import os module\n",
    "import os\n",
    "\n",
    "# import AUTO modules\n",
    "from auto import AUTOCommands as ac\n",
    "from auto import AUTOclui as acl\n",
    "from auto import interactiveBindings as ib\n",
    "from auto import runAUTO as ra\n",
    "\n",
    "# import plotting tools\n",
    "import matplotlib as mpl\n",
    "from matplotlib import pyplot as plt\n",
    "\n",
    "# virtual display to use AUTO plot function (pyplot)\n",
    "from pyvirtualdisplay import Display\n",
    "from IPython.display import display as display\n",
    "from PIL import Image\n",
    "disp = Display(visible=0, size=(1366,768))\n",
    "disp.start()"
   ]
  },
  {
   "cell_type": "code",
   "execution_count": 33,
   "metadata": {},
   "outputs": [],
   "source": [
    "# use working directory for demo to avoid clutter\n",
    "folder = '/auto/workspace/demos/demo'\n",
    "os.chdir(folder)"
   ]
  },
  {
   "cell_type": "code",
   "execution_count": 34,
   "metadata": {
    "scrolled": false
   },
   "outputs": [
    {
     "name": "stdout",
     "output_type": "stream",
     "text": [
      "Copying demo enz ... done\n",
      "\n",
      "Demo enz is started\n",
      "\n",
      "enz : stationary solution branches\n",
      "gfortran -fopenmp -O -c enz.f90 -o enz.o\n",
      "gfortran -fopenmp -O enz.o -o enz.exe /auto/lib/*.o\n",
      "Starting enz ...\n",
      "\n",
      "  BR    PT  TY  LAB       s0         L2-NORM          s1            s2      \n",
      "   1     1  EP    1   0.00000E+00   0.00000E+00   0.00000E+00   0.00000E+00\n",
      "   1   141  LP    2   3.43569E+01   1.48261E+00   1.04836E+00   1.04836E+00\n",
      "   1   145  BP    3   3.42229E+01   1.66053E+00   1.17417E+00   1.17417E+00\n",
      "   1   214  BP    4   2.21816E+01   6.21472E+00   4.39447E+00   4.39447E+00\n",
      "   1   244  LP    5   1.88871E+01   1.24765E+01   8.82220E+00   8.82220E+00\n",
      "   1   250  EP    6   1.89864E+01   1.39722E+01   9.87985E+00   9.87985E+00\n",
      "\n",
      "  BR    PT  TY  LAB       s0         L2-NORM          s1            s2      \n",
      "   2    84  LP    7   2.53727E+01   5.91179E+00   5.88408E+00   5.71738E-01\n",
      "   2   104  LP    8   2.66221E+01   8.84510E+00   8.78280E+00   1.04795E+00\n",
      "   2   172  LP    9   2.21816E+01   6.21472E+00   4.39458E+00   4.39436E+00\n",
      "\n",
      " Total Time    0.128E+00\n",
      "enz ... done\n",
      "Saving to b.enz, s.enz, and d.enz ... done\n"
     ]
    },
    {
     "name": "stderr",
     "output_type": "stream",
     "text": [
      "Note: The following floating-point exceptions are signalling: IEEE_UNDERFLOW_FLAG IEEE_DENORMAL\n"
     ]
    }
   ],
   "source": [
    "# copy enz demo into current directory\n",
    "ac.copydemo('enz')\n",
    "\n",
    "# start AUTO with runner object\n",
    "runner = ra.runAUTO()\n",
    "\n",
    "print(\"\\nDemo enz is started\")\n",
    "print(\"\\nenz : stationary solution branches\")\n",
    "\n",
    "enz = ac.run(e='enz', c='enz', runner=runner)\n",
    "\n",
    "# save to b.enz, s.enz, and d.enz\n",
    "ac.save(enz,'enz')"
   ]
  },
  {
   "cell_type": "code",
   "execution_count": 48,
   "metadata": {},
   "outputs": [
    {
     "name": "stdout",
     "output_type": "stream",
     "text": [
      "Created plot\n"
     ]
    },
    {
     "data": {
      "image/png": "[encoded data removed]",
      "text/plain": [
       "<PIL.PngImagePlugin.PngImageFile image mode=RGBA size=600x480 at 0x7F6407D26610>"
      ]
     },
     "metadata": {},
     "output_type": "display_data"
    }
   ],
   "source": [
    "# plot bifurcation diagram using plot routine from AUTO\n",
    "\n",
    "p = ac.plot(enz)\n",
    "p.config(stability=True, grid=False)\n",
    "p.savefig('b.png')\n",
    "display(Image.open('b.png'))"
   ]
  },
  {
   "cell_type": "code",
   "execution_count": 31,
   "metadata": {
    "scrolled": true
   },
   "outputs": [
    {
     "name": "stdout",
     "output_type": "stream",
     "text": [
      "Deleting fort.* *.o *.exe *.*~ ... done\n",
      "Deleting b.enz ... done\n",
      "Deleting s.enz ... done\n",
      "Deleting d.enz ... done\n"
     ]
    }
   ],
   "source": [
    "# clean up files\n",
    "\n",
    "ac.clean()\n",
    "ac.delete('enz')"
   ]
  }
 ],
 "metadata": {
  "kernelspec": {
   "display_name": "Python 3",
   "language": "python",
   "name": "python3"
  },
  "language_info": {
   "codemirror_mode": {
    "name": "ipython",
    "version": 3
   },
   "file_extension": ".py",
   "mimetype": "text/x-python",
   "name": "python",
   "nbconvert_exporter": "python",
   "pygments_lexer": "ipython3",
   "version": "3.8.5"
  }
 },
 "nbformat": 4,
 "nbformat_minor": 4
}
