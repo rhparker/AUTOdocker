{
 "cells": [
  {
   "cell_type": "code",
   "execution_count": 1,
   "metadata": {},
   "outputs": [
    {
     "data": {
      "text/plain": [
       "<pyvirtualdisplay.display.Display at 0x7fb7c8fc6820>"
      ]
     },
     "execution_count": 1,
     "metadata": {},
     "output_type": "execute_result"
    }
   ],
   "source": [
    "# import os module\n",
    "import os\n",
    "\n",
    "# import AUTO modules\n",
    "from auto import AUTOCommands as ac\n",
    "from auto import AUTOclui as acl\n",
    "from auto import interactiveBindings as ib\n",
    "from auto import runAUTO as ra\n",
    "\n",
    "# import plotting tools\n",
    "import matplotlib as mpl\n",
    "from matplotlib import pyplot as plt\n",
    "\n",
    "# virtual display to use AUTO plot function\n",
    "from pyvirtualdisplay import Display\n",
    "from IPython.display import display as display\n",
    "from PIL import Image\n",
    "disp = Display(visible=0, size=(1366,768))\n",
    "disp.start()"
   ]
  },
  {
   "cell_type": "code",
   "execution_count": 2,
   "metadata": {},
   "outputs": [],
   "source": [
    "# use working directory for demo to avoid clutter\n",
    "folder = '/auto/workspace/demos/demo'\n",
    "os.chdir(folder)"
   ]
  },
  {
   "cell_type": "code",
   "execution_count": 4,
   "metadata": {},
   "outputs": [
    {
     "name": "stdout",
     "output_type": "stream",
     "text": [
      "Copying demo pd2 ... done\n",
      "\n",
      "Demo pd2 is started\n",
      "\n",
      "pd2 : first run : time integration towards stationary state\n",
      "gfortran -fopenmp -O -c pd2.f90 -o pd2.o\n",
      "gfortran -fopenmp -O pd2.o -o pd2.exe /auto/lib/*.o\n",
      "Starting pd2 ...\n",
      "\n",
      "  BR    PT  TY  LAB      TIME      INTEGRAL U(1)   MAX U(1)      MAX U(2)   \n",
      "   1     1  EP    1   0.00000E+00   6.36620E-01   1.00000E+00   1.00000E+00\n",
      "   1    10        2   3.30173E-01   2.08360E-01   3.23508E-01   1.00000E+00\n",
      "   1    20        3   1.39181E+00   9.58280E-02   1.49742E-01   1.00000E+00\n",
      "   1    30        4   4.36574E+00   7.72029E-02   1.20754E-01   1.00000E+00\n",
      "   1    35  EP    5   1.08431E+01   7.64484E-02   1.19515E-01   1.00000E+00\n",
      "\n",
      " Total Time    0.386E+00\n",
      "pd2 ... done\n",
      "Saving to b.1, s.1, and d.1 ... done\n",
      "\n",
      "pd2 : second run : continuation of stationary state\n",
      "Starting pd2 ...\n",
      "\n",
      "  BR    PT  TY  LAB    PAR(1)      INTEGRAL U(1)   MAX U(1)      MAX U(2)   \n",
      "   1     8  BP    6   1.07712E+01   1.08866E-05   1.70973E-05   1.00000E+00\n",
      "   1    15  EP    7   7.82250E+00  -2.78185E-01   0.00000E+00   1.00000E+00\n",
      "\n",
      " Total Time    0.216E+00\n",
      "pd2 ... done\n",
      "Saving to b.2, s.2, and d.2 ... done\n"
     ]
    },
    {
     "name": "stderr",
     "output_type": "stream",
     "text": [
      "Note: The following floating-point exceptions are signalling: IEEE_UNDERFLOW_FLAG IEEE_DENORMAL\n"
     ]
    }
   ],
   "source": [
    "# copy demo into current directory\n",
    "ac.copydemo('pd2')\n",
    "\n",
    "# start AUTO with runner object\n",
    "runner = ra.runAUTO()\n",
    "\n",
    "pgm = \"pd2\"\n",
    "print(\"\\nDemo %s is started\"%pgm)\n",
    "print(\"\\n%s : first run : time integration towards stationary state\"%pgm)\n",
    "r1 = ac.run(e=pgm,c=pgm,runner=runner)\n",
    "ac.save(r1,'1')\n",
    "\n",
    "print(\"\\n%s : second run : continuation of stationary state\"%pgm)\n",
    "r2 = ac.run(r1,IPS=17,ICP=[1],ISP=2,NMX=15,NPR=50,DS=-0.1,DSMAX=1.0,UZSTOP={1:0.0},runner=runner)\n",
    "ac.save(r2,'2')"
   ]
  },
  {
   "cell_type": "code",
   "execution_count": 5,
   "metadata": {},
   "outputs": [
    {
     "name": "stdout",
     "output_type": "stream",
     "text": [
      "Created plot\n"
     ]
    },
    {
     "data": {
      "image/png": "[encoded data removed]",
      "text/plain": [
       "<PIL.PngImagePlugin.PngImageFile image mode=RGBA size=600x480 at 0x7FB7A4A272B0>"
      ]
     },
     "metadata": {},
     "output_type": "display_data"
    }
   ],
   "source": [
    "# plot bifurcation diagram using plot routine from AUTO\n",
    "\n",
    "p = ac.plot('2')\n",
    "p.config(grid=False)\n",
    "p.savefig('b.png')\n",
    "display(Image.open('b.png'))"
   ]
  },
  {
   "cell_type": "code",
   "execution_count": 6,
   "metadata": {
    "scrolled": false
   },
   "outputs": [
    {
     "name": "stdout",
     "output_type": "stream",
     "text": [
      "Deleting b.1 ... done\n",
      "Deleting s.1 ... done\n",
      "Deleting d.1 ... done\n",
      "Deleting b.2 ... done\n",
      "Deleting s.2 ... done\n",
      "Deleting d.2 ... done\n",
      "Deleting fort.* *.o *.exe *.*~ ... done\n"
     ]
    }
   ],
   "source": [
    "# clean up files\n",
    "\n",
    "ac.delete('1')\n",
    "ac.delete('2')\n",
    "ac.clean()"
   ]
  },
  {
   "cell_type": "code",
   "execution_count": null,
   "metadata": {},
   "outputs": [],
   "source": []
  }
 ],
 "metadata": {
  "kernelspec": {
   "display_name": "Python 3",
   "language": "python",
   "name": "python3"
  },
  "language_info": {
   "codemirror_mode": {
    "name": "ipython",
    "version": 3
   },
   "file_extension": ".py",
   "mimetype": "text/x-python",
   "name": "python",
   "nbconvert_exporter": "python",
   "pygments_lexer": "ipython3",
   "version": "3.8.5"
  }
 },
 "nbformat": 4,
 "nbformat_minor": 4
}
