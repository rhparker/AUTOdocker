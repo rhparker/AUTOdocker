{
 "cells": [
  {
   "cell_type": "code",
   "execution_count": 1,
   "metadata": {},
   "outputs": [
    {
     "data": {
      "text/plain": [
       "<pyvirtualdisplay.display.Display at 0x7fa65e2a6f40>"
      ]
     },
     "execution_count": 1,
     "metadata": {},
     "output_type": "execute_result"
    }
   ],
   "source": [
    "# import os module\n",
    "import os\n",
    "\n",
    "# import AUTO modules\n",
    "from auto import AUTOCommands as ac\n",
    "from auto import AUTOclui as acl\n",
    "from auto import interactiveBindings as ib\n",
    "from auto import runAUTO as ra\n",
    "\n",
    "# import plotting tools\n",
    "import matplotlib as mpl\n",
    "from matplotlib import pyplot as plt\n",
    "\n",
    "# virtual display to use AUTO plot function\n",
    "from pyvirtualdisplay import Display\n",
    "from IPython.display import display as display\n",
    "from PIL import Image\n",
    "disp = Display(visible=0, size=(1366,768))\n",
    "disp.start()"
   ]
  },
  {
   "cell_type": "code",
   "execution_count": 2,
   "metadata": {},
   "outputs": [],
   "source": [
    "# use working directory for demo to avoid clutter\n",
    "folder = '/auto/workspace/demos/demo'\n",
    "os.chdir(folder)"
   ]
  },
  {
   "cell_type": "code",
   "execution_count": 5,
   "metadata": {},
   "outputs": [
    {
     "name": "stdout",
     "output_type": "stream",
     "text": [
      "Copying demo tor ... done\n",
      "\n",
      "Demo tor is started\n",
      "\n",
      "tor : first run : stationary solution\n",
      "gfortran -fopenmp -O -c tor.f90 -o tor.o\n",
      "gfortran -fopenmp -O tor.o -o tor.exe /auto/lib/*.o\n",
      "Starting tor ...\n",
      "\n",
      "  BR    PT  TY  LAB    PAR(1)        L2-NORM         U(1)          U(2)          U(3)     \n",
      "   1     1  EP    1  -9.00000E-01   0.00000E+00   0.00000E+00   0.00000E+00   0.00000E+00\n",
      "   1    35  HB    2  -5.89337E-01   0.00000E+00   0.00000E+00   0.00000E+00   0.00000E+00\n",
      "   1    44  BP    3  -5.00000E-01   0.00000E+00   0.00000E+00   0.00000E+00   0.00000E+00\n",
      "   1    54  UZ    4  -4.00000E-01   0.00000E+00   0.00000E+00   0.00000E+00   0.00000E+00\n",
      "\n",
      "  BR    PT  TY  LAB    PAR(1)        L2-NORM         U(1)          U(2)          U(3)     \n",
      "   2   117  UZ    5  -9.00000E-01   7.19483E-01   5.62955E-01   4.26058E-27   4.48037E-01\n",
      "\n",
      "  BR    PT  TY  LAB    PAR(1)        L2-NORM         U(1)          U(2)          U(3)     \n",
      "   2   117  UZ    6  -9.00000E-01   7.19483E-01  -5.62955E-01  -4.26058E-27  -4.48037E-01\n",
      "\n",
      " Total Time    0.303E+00\n",
      "tor ... done\n",
      "\n",
      "tor : second run : periodic solutions\n",
      "Starting tor ...\n",
      "\n",
      "  BR    PT  TY  LAB    PAR(1)        L2-NORM       MAX U(1)      MAX U(2)      MAX U(3)       PERIOD    \n"
     ]
    },
    {
     "name": "stderr",
     "output_type": "stream",
     "text": [
      "Note: The following floating-point exceptions are signalling: IEEE_UNDERFLOW_FLAG IEEE_DENORMAL\n"
     ]
    },
    {
     "name": "stdout",
     "output_type": "stream",
     "text": [
      "   2    21  LP    7  -5.84335E-01   1.52570E-01   1.23288E-01   1.05937E-01   1.42501E-01   8.42647E+00\n",
      "   2    27  BP    8  -5.87029E-01   2.08647E-01   1.74802E-01   1.39875E-01   1.94009E-01   8.68967E+00\n",
      "   2    78  LP    9  -8.32514E-01   5.86906E-01   5.89484E-01   2.32086E-01   4.98779E-01   1.94158E+01\n",
      "   2    79  BP   10  -8.32438E-01   5.86747E-01   5.89087E-01   2.31400E-01   4.98367E-01   1.96365E+01\n",
      "   2    93  LP   11  -7.87590E-01   5.52575E-01   5.59136E-01   2.22246E-01   4.60873E-01   2.93732E+01\n",
      "   2   101  LP   12  -7.99899E-01   5.76023E-01   5.66917E-01   2.24408E-01   4.71347E-01   3.93706E+01\n",
      "   2   124  LP   13  -7.96906E-01   5.74512E-01   5.65972E-01   2.24058E-01   4.68800E-01   4.22879E+01\n",
      "   2   125  EP   14  -7.96925E-01   5.74750E-01   5.65895E-01   2.24380E-01   4.67678E-01   4.26650E+01\n",
      "\n",
      " Total Time    0.519E+00\n",
      "tor ... done\n",
      "\n",
      "tor : third run : a bifurcating branch of periodic solutions\n",
      "Starting tor ...\n",
      "\n",
      "  BR    PT  TY  LAB    PAR(1)        L2-NORM       MAX U(1)      MAX U(2)      MAX U(3)       PERIOD    \n"
     ]
    },
    {
     "name": "stderr",
     "output_type": "stream",
     "text": [
      "Note: The following floating-point exceptions are signalling: IEEE_UNDERFLOW_FLAG IEEE_DENORMAL\n"
     ]
    },
    {
     "name": "stdout",
     "output_type": "stream",
     "text": [
      "   3    11  TR   15  -5.91650E-01   2.18612E-01   2.29872E-01   1.42224E-01   2.22381E-01   8.79415E+00\n",
      "   3    19  PD   16  -6.14955E-01   2.59894E-01   3.12145E-01   1.47333E-01   2.67448E-01   9.26630E+00\n",
      "   3    47  LP   17  -7.60407E-01   4.40800E-01   5.25637E-01   1.52055E-01   4.17499E-01   1.39122E+01\n",
      "   3    61  LP   18  -7.18842E-01   4.26867E-01   4.93116E-01   1.49608E-01   3.81924E-01   1.89071E+01\n",
      "   3    71  LP   19  -7.31636E-01   4.57895E-01   5.03340E-01   1.50221E-01   3.92487E-01   2.39169E+01\n",
      "   3    78  LP   20  -7.28154E-01   4.64357E-01   5.00280E-01   1.50238E-01   3.90044E-01   2.89256E+01\n",
      "   3    83  LP   21  -7.29163E-01   4.72819E-01   5.01384E-01   1.50249E-01   3.90903E-01   3.39334E+01\n",
      "   3    87  LP   22  -7.28877E-01   4.77800E-01   5.00816E-01   1.50023E-01   3.90485E-01   3.89419E+01\n",
      "   3    90  EP   23  -7.28959E-01   4.81717E-01   5.01103E-01   1.50247E-01   3.90406E-01   4.36009E+01\n",
      "\n",
      " Total Time    0.336E+00\n",
      "tor ... done\n",
      "Saving to b.1, s.1, and d.1 ... done\n",
      "\n",
      "tor : fourth run : a branch of torus bifurcations (start)\n",
      "Starting tor ...\n",
      "\n",
      " Generating starting data : Restart at EP label below :\n",
      "\n",
      "  BR    PT  TY  LAB    PAR(1)        L2-NORM       MAX U(1)      MAX U(2)      MAX U(3)      PAR(2)         PERIOD    \n"
     ]
    },
    {
     "name": "stderr",
     "output_type": "stream",
     "text": [
      "Note: The following floating-point exceptions are signalling: IEEE_UNDERFLOW_FLAG IEEE_DENORMAL\n"
     ]
    },
    {
     "name": "stdout",
     "output_type": "stream",
     "text": [
      "   4     5  EP   24  -5.91650E-01   2.18612E-01   2.29871E-01   1.42218E-01   2.22379E-01   5.00000E-01   8.79415E+00\n",
      "\n",
      " Total Time    0.118E+00\n",
      "tor ... done\n",
      "\n",
      "tor : fifth run : a branch of torus bifurcations\n",
      "Starting tor ...\n",
      "\n",
      "  BR    PT  TY  LAB    PAR(1)        L2-NORM       MAX U(1)      MAX U(2)      MAX U(3)      PAR(2)         PERIOD    \n",
      "   4    25       25  -6.00000E-01   7.91531E-04   9.43674E-04   4.12926E-04   8.27359E-04   5.99999E-01   9.93457E+00\n",
      "   4    50       26  -5.99724E-01   2.51132E-02   1.15202E-02   1.31387E-02   1.52334E-02   5.98564E-01   9.91531E+00\n",
      "   4    75       27  -5.94608E-01   1.22711E-01   6.02270E-02   6.83783E-02   8.07798E-02   5.66637E-01   9.50940E+00\n",
      "   4   100  EP   28  -5.95896E-01   2.65341E-01   1.88262E-01   1.81136E-01   2.33810E-01   4.56856E-01   8.41070E+00\n",
      "\n",
      " Total Time    0.517E+00\n",
      "tor ... done\n",
      "Saving to b.tor, s.tor, and d.tor ... done\n",
      "\n",
      "tor : sixth run : a 3-parameter branch fixing the angle\n",
      "Starting tor ...\n",
      "\n",
      "  BR    PT  TY  LAB    PAR(1)        L2-NORM       MAX U(1)      MAX U(2)      MAX U(3)      PAR(2)        PAR(3)         PERIOD    \n",
      "   4    25       25  -7.73718E-01   2.02836E-03   2.76127E-03   6.22360E-05   2.13946E-03   7.73711E-01  -7.73723E-01   1.31853E+02\n",
      "   4    50       26  -7.74589E-01   5.80513E-05   7.91026E-05   1.66545E-07   6.12727E-05   7.74589E-01  -7.74589E-01   1.40831E+03\n",
      "   4    61  UZ   27  -7.74595E-01   1.87007E-05   2.54829E-05   2.52133E-08   1.97390E-05   7.74595E-01  -7.74595E-01   2.99686E+03\n",
      "\n",
      " Total Time    0.328E+00\n",
      "tor ... done\n",
      "Saving to b.tor3, s.tor3, and d.tor3 ... done\n"
     ]
    }
   ],
   "source": [
    "# copy demo into current directory\n",
    "ac.copydemo('tor')\n",
    "\n",
    "# start AUTO with runner object\n",
    "runner = ra.runAUTO()\n",
    "\n",
    "pgm = \"tor\"\n",
    "print(\"\\nDemo %s is started\"%pgm)\n",
    "print(\"\\n%s : first run : stationary solution\"%pgm)\n",
    "r1 = ac.run(e=pgm,c=pgm,runner=runner)\n",
    "\n",
    "print(\"\\n%s : second run : periodic solutions\"%pgm)\n",
    "r2 = ac.run(r1(\"HB1\"),IPS=2,ICP=[1,11],runner=runner)\n",
    "\n",
    "print(\"\\n%s : third run : a bifurcating branch of periodic solutions\"%pgm)\n",
    "r3 = ac.run(r2(\"BP1\"),ISW=-1,NMX=90,runner=runner)\n",
    "ac.save(r1+r2+r3,'1')\n",
    "\n",
    "print(\"\\n%s : fourth run : a branch of torus bifurcations (start)\"%pgm)\n",
    "r4 = ac.run(r3(\"TR1\"),ICP=[1,2,11],ISW=2,ILP=0,ISP=0,NPR=25,NMX=100,\n",
    "         DS=0.05,DSMAX=0.1,runner=runner)\n",
    "\n",
    "print(\"\\n%s : fifth run : a branch of torus bifurcations\"%pgm)\n",
    "r5 = ac.run(r4,ITNW=7,runner=runner)\n",
    "ac.save(r5,'tor')\n",
    "\n",
    "print(\"\\n%s : sixth run : a 3-parameter branch fixing the angle\"%pgm)\n",
    "r6 = ac.run(r4,ITNW=7,ICP=[1,2,3,11],UZSTOP={11:3000},runner=runner)\n",
    "ac.save(r6,'tor3')"
   ]
  },
  {
   "cell_type": "code",
   "execution_count": 7,
   "metadata": {},
   "outputs": [
    {
     "name": "stdout",
     "output_type": "stream",
     "text": [
      "Created plot\n"
     ]
    },
    {
     "data": {
      "image/png": "[encoded data removed]",
      "text/plain": [
       "<PIL.PngImagePlugin.PngImageFile image mode=RGBA size=600x480 at 0x7FA65B9BB070>"
      ]
     },
     "metadata": {},
     "output_type": "display_data"
    }
   ],
   "source": [
    "# plot bifurcation diagram using plot routine from AUTO\n",
    "\n",
    "p = ac.plot('1')\n",
    "p.config(stability=True, grid=False)\n",
    "p.savefig('b.png')\n",
    "display(Image.open('b.png'))"
   ]
  },
  {
   "cell_type": "code",
   "execution_count": 8,
   "metadata": {
    "scrolled": true
   },
   "outputs": [
    {
     "name": "stdout",
     "output_type": "stream",
     "text": [
      "Deleting fort.* *.o *.exe *.*~ ... done\n",
      "Deleting b.tor ... done\n",
      "Deleting s.tor ... done\n",
      "Deleting d.tor ... done\n"
     ]
    }
   ],
   "source": [
    "# clean up files\n",
    "\n",
    "ac.clean()\n",
    "ac.delete('tor')"
   ]
  },
  {
   "cell_type": "code",
   "execution_count": null,
   "metadata": {},
   "outputs": [],
   "source": []
  }
 ],
 "metadata": {
  "kernelspec": {
   "display_name": "Python 3",
   "language": "python",
   "name": "python3"
  },
  "language_info": {
   "codemirror_mode": {
    "name": "ipython",
    "version": 3
   },
   "file_extension": ".py",
   "mimetype": "text/x-python",
   "name": "python",
   "nbconvert_exporter": "python",
   "pygments_lexer": "ipython3",
   "version": "3.8.5"
  }
 },
 "nbformat": 4,
 "nbformat_minor": 4
}
