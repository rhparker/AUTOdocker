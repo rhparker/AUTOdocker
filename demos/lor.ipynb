{
 "cells": [
  {
   "cell_type": "code",
   "execution_count": 11,
   "metadata": {},
   "outputs": [
    {
     "data": {
      "text/plain": [
       "<pyvirtualdisplay.display.Display at 0x4046778220>"
      ]
     },
     "execution_count": 11,
     "metadata": {},
     "output_type": "execute_result"
    }
   ],
   "source": [
    "# import os module\n",
    "import os\n",
    "\n",
    "# import AUTO modules\n",
    "from auto import AUTOCommands as ac\n",
    "from auto import AUTOclui as acl\n",
    "from auto import interactiveBindings as ib\n",
    "from auto import runAUTO as ra\n",
    "\n",
    "# import plotting tools\n",
    "import matplotlib as mpl\n",
    "from matplotlib import pyplot as plt\n",
    "\n",
    "# virtual display to use AUTO plot function (pyplot)\n",
    "from pyvirtualdisplay import Display\n",
    "from IPython.display import display as display\n",
    "from PIL import Image\n",
    "disp = Display(visible=0, size=(1366,768))\n",
    "disp.start()"
   ]
  },
  {
   "cell_type": "code",
   "execution_count": 12,
   "metadata": {},
   "outputs": [],
   "source": [
    "# use working directory for demo to avoid clutter\n",
    "folder = '/auto/workspace/demos/demo'\n",
    "os.chdir(folder)"
   ]
  },
  {
   "cell_type": "code",
   "execution_count": 13,
   "metadata": {},
   "outputs": [
    {
     "name": "stdout",
     "output_type": "stream",
     "text": [
      "Copying demo lor ... done\n",
      "lor : first run : a solution branch starting from numerical data\n",
      "gfortran -fopenmp -O -c lor.f90 -o lor.o\n",
      "gfortran -fopenmp -O lor.o -o lor.exe /auto/lib/*.o\n",
      "Starting lor ...\n",
      "\n",
      "  BR    PT  TY  LAB    PAR(1)      INTEGRAL U(1)   MAX U(1)      MAX U(2)      MAX U(3)       PERIOD    \n",
      "   1     1  EP    1   2.80000E+02  -6.25515E-01   4.21787E+01   7.98397E+01   3.57313E+02   4.33200E-01\n",
      "   1    18  PD    2   2.29407E+02  -1.06862E+00   3.65050E+01   6.67239E+01   3.06557E+02   4.80867E-01\n",
      "   1    21  UZ    3   2.00000E+02  -1.23833E+00   3.34489E+01   6.01792E+01   2.74317E+02   5.16877E-01\n",
      "\n",
      " Total Time    0.259E+00\n",
      "lor ... done\n",
      "lor : second run : switch branches at a period-doubling\n",
      "Starting lor ...\n",
      "\n",
      "  BR    PT  TY  LAB    PAR(1)      INTEGRAL U(1)   MAX U(1)      MAX U(2)      MAX U(3)       PERIOD    \n"
     ]
    },
    {
     "name": "stderr",
     "output_type": "stream",
     "text": [
      "Note: The following floating-point exceptions are signalling: IEEE_UNDERFLOW_FLAG\n"
     ]
    },
    {
     "name": "stdout",
     "output_type": "stream",
     "text": [
      "   2    22  PD    4   2.18210E+02  -1.05589E+00   3.58675E+01   6.61411E+01   2.99070E+02   9.87949E-01\n",
      "   2    28  UZ    5   2.00000E+02  -1.03415E+00   3.45010E+01   6.34211E+01   2.80408E+02   1.03581E+00\n",
      "\n",
      " Total Time    0.226E+00\n",
      "lor ... done\n",
      "lor : third run : third run : another period-doubling\n",
      "Starting lor ...\n",
      "\n",
      "  BR    PT  TY  LAB    PAR(1)      INTEGRAL U(1)   MAX U(1)      MAX U(2)      MAX U(3)       PERIOD    \n"
     ]
    },
    {
     "name": "stderr",
     "output_type": "stream",
     "text": [
      "Note: The following floating-point exceptions are signalling: IEEE_UNDERFLOW_FLAG\n"
     ]
    },
    {
     "name": "stdout",
     "output_type": "stream",
     "text": [
      "   3    14  PD    6   2.15966E+02  -1.06184E+00   3.58662E+01   6.63157E+01   2.97685E+02   1.98675E+00\n",
      "   3    24  UZ    7   2.00000E+02  -1.10428E+00   3.47628E+01   6.39664E+01   2.81097E+02   2.07002E+00\n",
      "\n",
      " Total Time    0.237E+00\n",
      "lor ... done\n",
      "Saving to b.lor, s.lor, and d.lor ... done\n"
     ]
    },
    {
     "name": "stderr",
     "output_type": "stream",
     "text": [
      "Note: The following floating-point exceptions are signalling: IEEE_UNDERFLOW_FLAG\n"
     ]
    }
   ],
   "source": [
    "# copy demo into current directory\n",
    "ac.copydemo('lor')\n",
    "\n",
    "# start AUTO with runner object\n",
    "runner = ra.runAUTO()\n",
    "\n",
    "pgm = 'lor'\n",
    "print(pgm, \": first run : a solution branch starting from numerical data\")\n",
    "lor = ac.run('lor',c='lor.1', runner=runner)\n",
    "\n",
    "print(pgm, \": second run : switch branches at a period-doubling\")\n",
    "lor = lor + ac.run(lor('PD1'),c='lor.2', runner=runner)\n",
    "\n",
    "print(pgm, \": third run : third run : another period-doubling\")\n",
    "lor = lor + ac.run(lor('PD2'),c='lor.3', runner=runner)\n",
    "\n",
    "ac.save(lor, 'lor')"
   ]
  },
  {
   "cell_type": "code",
   "execution_count": 14,
   "metadata": {},
   "outputs": [
    {
     "name": "stdout",
     "output_type": "stream",
     "text": [
      "Created plot\n"
     ]
    },
    {
     "data": {
      "image/png": "[encoded data removed]",
      "text/plain": [
       "<PIL.PngImagePlugin.PngImageFile image mode=RGBA size=600x480 at 0x4047104430>"
      ]
     },
     "metadata": {},
     "output_type": "display_data"
    }
   ],
   "source": [
    "# plot bifurcation diagram using plot routine from AUTO\n",
    "\n",
    "p = ac.plot('lor')\n",
    "p.savefig('b.png')\n",
    "display(Image.open('b.png'))"
   ]
  },
  {
   "cell_type": "code",
   "execution_count": 15,
   "metadata": {
    "scrolled": true
   },
   "outputs": [
    {
     "name": "stdout",
     "output_type": "stream",
     "text": [
      "Deleting fort.* *.o *.exe *.*~ ... done\n",
      "Deleting b.lor ... done\n",
      "Deleting s.lor ... done\n",
      "Deleting d.lor ... done\n"
     ]
    }
   ],
   "source": [
    "# clean up files\n",
    "\n",
    "ac.clean()\n",
    "ac.delete('lor')"
   ]
  }
 ],
 "metadata": {
  "kernelspec": {
   "display_name": "Python 3",
   "language": "python",
   "name": "python3"
  },
  "language_info": {
   "codemirror_mode": {
    "name": "ipython",
    "version": 3
   },
   "file_extension": ".py",
   "mimetype": "text/x-python",
   "name": "python",
   "nbconvert_exporter": "python",
   "pygments_lexer": "ipython3",
   "version": "3.8.5"
  }
 },
 "nbformat": 4,
 "nbformat_minor": 4
}
