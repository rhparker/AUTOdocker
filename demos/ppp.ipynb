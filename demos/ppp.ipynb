{
 "cells": [
  {
   "cell_type": "code",
   "execution_count": 1,
   "metadata": {},
   "outputs": [
    {
     "data": {
      "text/plain": [
       "<pyvirtualdisplay.display.Display at 0x7faf509f4f40>"
      ]
     },
     "execution_count": 1,
     "metadata": {},
     "output_type": "execute_result"
    }
   ],
   "source": [
    "# import os module\n",
    "import os\n",
    "\n",
    "# import AUTO modules\n",
    "from auto import AUTOCommands as ac\n",
    "from auto import AUTOclui as acl\n",
    "from auto import interactiveBindings as ib\n",
    "from auto import runAUTO as ra\n",
    "\n",
    "# import plotting tools\n",
    "import matplotlib as mpl\n",
    "from matplotlib import pyplot as plt\n",
    "\n",
    "# virtual display to use AUTO plot function\n",
    "from pyvirtualdisplay import Display\n",
    "from IPython.display import display as display\n",
    "from PIL import Image\n",
    "disp = Display(visible=0, size=(1366,768))\n",
    "disp.start()"
   ]
  },
  {
   "cell_type": "code",
   "execution_count": 2,
   "metadata": {},
   "outputs": [],
   "source": [
    "# use working directory for demo to avoid clutter\n",
    "folder = '/auto/workspace/demos/demo'\n",
    "os.chdir(folder)"
   ]
  },
  {
   "cell_type": "code",
   "execution_count": 4,
   "metadata": {},
   "outputs": [
    {
     "name": "stdout",
     "output_type": "stream",
     "text": [
      "Copying demo ppp ... done\n",
      "\n",
      "Demo ppp is started\n",
      "\n",
      "ppp : first run : stationary solutions\n",
      "gfortran -fopenmp -O -c ppp.f90 -o ppp.o\n",
      "gfortran -fopenmp -O ppp.o -o ppp.exe /auto/lib/*.o\n",
      "Starting ppp ...\n",
      "\n",
      "  BR    PT  TY  LAB    PAR(1)        L2-NORM         U(1)          U(2)          U(3)     \n",
      "   1     1  EP    1   0.00000E+00   1.00000E+00   1.00000E+00   0.00000E+00   0.00000E+00\n",
      "   1    29  BP    2   5.50000E-01   1.00000E+00   1.00000E+00   0.00000E+00   0.00000E+00\n",
      "   1    32  UZ    3   6.00000E-01   1.00000E+00   1.00000E+00   0.00000E+00   0.00000E+00\n",
      "\n",
      "  BR    PT  TY  LAB    PAR(1)        L2-NORM         U(1)          U(2)          U(3)     \n",
      "   2    14  LP    4   5.64596E-01   1.21783E+00   1.21571E+00  -7.19022E-02   0.00000E+00\n",
      "   2    55  EP    5   4.50010E-01   2.01134E+00   1.98439E+00  -3.28131E-01   0.00000E+00\n",
      "\n",
      "  BR    PT  TY  LAB    PAR(1)        L2-NORM         U(1)          U(2)          U(3)     \n",
      "   2    31  BP    6   3.68452E-01   5.27022E-01   4.99971E-01   1.66676E-01   0.00000E+00\n",
      "   2    38  HB    7   2.92331E-01   4.39061E-01   3.88958E-01   2.03681E-01   0.00000E+00\n",
      "   2    48  HB    8   1.79023E-01   3.55511E-01   2.54109E-01   2.48630E-01   0.00000E+00\n",
      "   2    61  UZ    9   1.11901E-05   3.16715E-01   8.33429E-02   3.05552E-01   0.00000E+00\n",
      "\n",
      "  BR    PT  TY  LAB    PAR(1)        L2-NORM         U(1)          U(2)          U(3)     \n",
      "   3    20  UZ   10   6.00000E-01   5.88494E-01   5.00000E-01   1.66667E-01  -2.61815E-01\n",
      "\n",
      "  BR    PT  TY  LAB    PAR(1)        L2-NORM         U(1)          U(2)          U(3)     \n",
      "   3    31  UZ   11   9.54345E-10   6.71855E-01   5.00000E-01   1.66667E-01   4.16667E-01\n",
      "\n",
      " Total Time    0.152E+00\n",
      "ppp ... done\n",
      "\n",
      "ppp : second run : periodic solutions\n",
      "Starting ppp ...\n",
      "\n",
      "  BR    PT  TY  LAB    PAR(1)        L2-NORM       MAX U(1)      MAX U(2)      MAX U(3)       PERIOD    \n",
      "   8    15  EP   12   2.55739E-01   4.19724E-01   4.57034E-01   3.09596E-01   1.21516E-26   8.54670E+00\n",
      "\n",
      " Total Time    0.590E-01\n",
      "ppp ... done\n"
     ]
    },
    {
     "name": "stderr",
     "output_type": "stream",
     "text": [
      "Note: The following floating-point exceptions are signalling: IEEE_UNDERFLOW_FLAG IEEE_DENORMAL\n",
      "Note: The following floating-point exceptions are signalling: IEEE_UNDERFLOW_FLAG IEEE_DENORMAL\n"
     ]
    },
    {
     "name": "stdout",
     "output_type": "stream",
     "text": [
      "Saving to b.ppp, s.ppp, and d.ppp ... done\n",
      "\n",
      "ppp : third run : compute Hopf bifurcation curves\n",
      "Starting ppp ...\n",
      "\n",
      "  BR    PT  TY  LAB    PAR(1)        L2-NORM         U(1)          U(2)          U(3)        PAR(4)     \n",
      "   8    34  BP   13   3.62537E-01   4.72458E-01   4.42085E-01   1.66667E-01  -1.23855E-23   3.34749E+00\n",
      "   8    52  EP   14   5.82387E-01   5.26566E-01   5.17404E-01   9.78014E-02  -3.84530E-24   4.93445E+00\n",
      "\n",
      "  BR    PT  TY  LAB    PAR(1)        L2-NORM         U(1)          U(2)          U(3)        PAR(4)     \n",
      "   9    58  GH   15   4.98748E-01   4.05424E-01   2.51694E-01   1.66667E-01  -2.70630E-01   4.48984E+00\n",
      "   9    80  GH   16   6.83877E-02   1.88008E-01   4.52111E-02   1.66667E-01  -7.43322E-02   5.72873E+00\n",
      "   9    91  BP   17   7.72928E-02   1.91472E-01   9.42532E-02   1.66667E-01   2.76300E-06   5.43448E+00\n",
      "   9   100  EP   18   1.32140E-01   2.57730E-01   1.84428E-01   1.66667E-01   6.80703E-02   4.89343E+00\n",
      "\n",
      "  BR    PT  TY  LAB    PAR(1)        L2-NORM         U(1)          U(2)          U(3)        PAR(4)     \n",
      "   9    87  BP   19   7.72903E-02   1.91470E-01   9.42489E-02   1.66667E-01  -1.44074E-06   5.43451E+00\n",
      "   9   100  EP   20   6.04131E-02   1.83352E-01   4.88000E-02   1.66667E-01  -5.88116E-02   5.70720E+00\n",
      "\n",
      "  BR    PT  TY  LAB    PAR(1)        L2-NORM         U(1)          U(2)          U(3)        PAR(4)     \n",
      "  10     4  GH   21   7.68867E-02   1.90341E-01   9.35157E-02   1.65785E-01   5.27690E-27   5.46783E+00\n",
      "  10   100  EP   22   4.54131E-02   7.23578E-02   3.00893E-02   6.58050E-02  -4.94066-324   1.47392E+01\n",
      "\n",
      "  BR    PT  TY  LAB    PAR(1)        L2-NORM         U(1)          U(2)          U(3)        PAR(4)     \n",
      "  10     4  GH   23   7.77041E-02   1.92616E-01   9.49991E-02   1.67559E-01  -1.89102E-26   5.40108E+00\n",
      "  10    69  BP   24   3.62532E-01   4.72456E-01   4.42082E-01   1.66669E-01  -1.44970E-22   3.34746E+00\n",
      "  10    88  EP   25   5.89005E-01   5.27524E-01   5.18615E-01   9.65386E-02   8.05098E-23   4.98645E+00\n",
      "\n",
      " Total Time    0.305E+00\n",
      "ppp ... done\n",
      "Saving to b.hb, s.hb, and d.hb ... done\n"
     ]
    },
    {
     "name": "stderr",
     "output_type": "stream",
     "text": [
      "Note: The following floating-point exceptions are signalling: IEEE_UNDERFLOW_FLAG IEEE_DENORMAL\n"
     ]
    }
   ],
   "source": [
    "# copy demo into current directory\n",
    "ac.copydemo('ppp')\n",
    "\n",
    "# start AUTO with runner object\n",
    "runner = ra.runAUTO()\n",
    "\n",
    "pgm = \"ppp\"\n",
    "print(\"\\nDemo %s is started\"%pgm)\n",
    "print(\"\\n%s : first run : stationary solutions\"%pgm)\n",
    "ppp = ac.run(e=pgm,c=pgm,runner=runner)\n",
    "\n",
    "print(\"\\n%s : second run : periodic solutions\"%pgm)\n",
    "ppp = ppp + ac.run(ppp(\"HB2\"),IPS=2,ICP=[1,11],ILP=0,NMX=15,NPR=50,DS=0.1,DSMAX=0.5,runner=runner)\n",
    "ac.save(ppp,'ppp')\n",
    "\n",
    "print(\"\\n%s : third run : compute Hopf bifurcation curves\"%pgm)\n",
    "hb = ac.run(ppp(\"HB2\"),ICP=[1,4],ILP=0,ISW=2,NMX=100,RL1=0.58,DSMAX=0.1,runner=runner)\n",
    "ac.save(hb,'hb')"
   ]
  },
  {
   "cell_type": "code",
   "execution_count": 5,
   "metadata": {
    "scrolled": true
   },
   "outputs": [
    {
     "name": "stdout",
     "output_type": "stream",
     "text": [
      "Created plot\n"
     ]
    },
    {
     "data": {
      "image/png": "[encoded data removed]",
      "text/plain": [
       "<PIL.PngImagePlugin.PngImageFile image mode=RGBA size=600x480 at 0x7FAF41877A30>"
      ]
     },
     "metadata": {},
     "output_type": "display_data"
    }
   ],
   "source": [
    "# plot bifurcation diagram using plot routine from AUTO\n",
    "\n",
    "p = ac.plot('ppp')\n",
    "p.config(stability=True, grid=False)\n",
    "p.savefig('b.png')\n",
    "display(Image.open('b.png'))"
   ]
  },
  {
   "cell_type": "code",
   "execution_count": 6,
   "metadata": {},
   "outputs": [
    {
     "name": "stdout",
     "output_type": "stream",
     "text": [
      "Created plot\n"
     ]
    },
    {
     "data": {
      "image/png": "[encoded data removed]",
      "text/plain": [
       "<PIL.PngImagePlugin.PngImageFile image mode=RGBA size=600x480 at 0x7FAF40F205B0>"
      ]
     },
     "metadata": {},
     "output_type": "display_data"
    }
   ],
   "source": [
    "# plot Hopf bifurcation curves\n",
    "p = ac.plot('hb')\n",
    "p.config(stability=True, grid=False)\n",
    "p.savefig('b.png')\n",
    "display(Image.open('b.png'))"
   ]
  },
  {
   "cell_type": "code",
   "execution_count": 7,
   "metadata": {
    "scrolled": true
   },
   "outputs": [
    {
     "name": "stdout",
     "output_type": "stream",
     "text": [
      "Deleting fort.* *.o *.exe *.*~ ... done\n",
      "Deleting b.ppp ... done\n",
      "Deleting s.ppp ... done\n",
      "Deleting d.ppp ... done\n"
     ]
    }
   ],
   "source": [
    "# clean up files\n",
    "\n",
    "ac.clean()\n",
    "ac.delete('ppp')\n",
    "ac.delete('hb')"
   ]
  }
 ],
 "metadata": {
  "kernelspec": {
   "display_name": "Python 3",
   "language": "python",
   "name": "python3"
  },
  "language_info": {
   "codemirror_mode": {
    "name": "ipython",
    "version": 3
   },
   "file_extension": ".py",
   "mimetype": "text/x-python",
   "name": "python",
   "nbconvert_exporter": "python",
   "pygments_lexer": "ipython3",
   "version": "3.8.5"
  }
 },
 "nbformat": 4,
 "nbformat_minor": 4
}
