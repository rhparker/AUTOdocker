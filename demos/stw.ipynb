{
 "cells": [
  {
   "cell_type": "code",
   "execution_count": 1,
   "metadata": {},
   "outputs": [
    {
     "data": {
      "text/plain": [
       "<pyvirtualdisplay.display.Display at 0x7fcce44e5dc0>"
      ]
     },
     "execution_count": 1,
     "metadata": {},
     "output_type": "execute_result"
    }
   ],
   "source": [
    "# import os module\n",
    "import os\n",
    "\n",
    "# import AUTO modules\n",
    "from auto import AUTOCommands as ac\n",
    "from auto import AUTOclui as acl\n",
    "from auto import interactiveBindings as ib\n",
    "from auto import runAUTO as ra\n",
    "\n",
    "# import plotting tools\n",
    "import matplotlib as mpl\n",
    "from matplotlib import pyplot as plt\n",
    "\n",
    "# virtual display to use AUTO plot function\n",
    "from pyvirtualdisplay import Display\n",
    "from IPython.display import display as display\n",
    "from PIL import Image\n",
    "disp = Display(visible=0, size=(1366,768))\n",
    "disp.start()"
   ]
  },
  {
   "cell_type": "code",
   "execution_count": 2,
   "metadata": {},
   "outputs": [],
   "source": [
    "# use working directory for demo to avoid clutter\n",
    "folder = '/auto/workspace/demos/demo'\n",
    "os.chdir(folder)"
   ]
  },
  {
   "cell_type": "code",
   "execution_count": 4,
   "metadata": {},
   "outputs": [
    {
     "name": "stdout",
     "output_type": "stream",
     "text": [
      "Copying demo stw ... done\n",
      "\n",
      "Demo stw is started\n",
      "\n",
      "stw : continuation of the sharp traveling wave\n",
      "gfortran -fopenmp -O -c stw.f90 -o stw.o\n",
      "gfortran -fopenmp -O stw.o -o stw.exe /auto/lib/*.o\n",
      "Starting stw ...\n",
      "\n",
      "  BR    PT  TY  LAB    PAR(1)        L2-NORM       PAR(10)       PAR(12)       PAR(13)       PAR(14)       PAR(15)       PAR(16)    \n",
      "   1     1  EP    1   0.00000E+00   7.82656E-01   1.00000E+00   2.15641E-22   2.15641E-22   1.00000E+00  -1.00000E+00   8.94427E-01\n",
      "   1    18  UZ    2   1.00001E+00   8.83099E-01  -8.24842E-06  -5.91700E-11   2.42239E-07   1.73206E+00  -1.52753E+00   8.66025E-01\n",
      "   1    20  EP    3   1.14464E+00   9.25132E-01  -2.48063E-01  -8.28807E-10   1.44710E-10   1.90168E+00  -1.71506E+00   8.55700E-01\n",
      "\n",
      " Total Time    0.777E-01\n",
      "stw ... done\n",
      "Saving to b.stw, s.stw, and d.stw ... done\n"
     ]
    }
   ],
   "source": [
    "# copy demo into current directory\n",
    "ac.copydemo('stw')\n",
    "\n",
    "# start AUTO with runner object\n",
    "runner = ra.runAUTO()\n",
    "\n",
    "pgm = \"stw\"\n",
    "print(\"\\nDemo %s is started\"%pgm)\n",
    "print(\"\\n%s : continuation of the sharp traveling wave\"%pgm)\n",
    "r1 = ac.run(e=pgm,c=pgm,runner=runner)\n",
    "ac.save(r1,pgm)"
   ]
  },
  {
   "cell_type": "code",
   "execution_count": 5,
   "metadata": {},
   "outputs": [
    {
     "name": "stdout",
     "output_type": "stream",
     "text": [
      "Created plot\n"
     ]
    },
    {
     "data": {
      "image/png": "[encoded data removed]",
      "text/plain": [
       "<PIL.PngImagePlugin.PngImageFile image mode=RGBA size=600x480 at 0x7FCCBF6EA4F0>"
      ]
     },
     "metadata": {},
     "output_type": "display_data"
    }
   ],
   "source": [
    "# plot solutions\n",
    "\n",
    "p = ac.plot('stw')\n",
    "p.config(type='solution')\n",
    "p.config(grid=False)\n",
    "p.config(label=[1,2,3])\n",
    "p.savefig('b.png')\n",
    "display(Image.open('b.png'))"
   ]
  },
  {
   "cell_type": "code",
   "execution_count": 6,
   "metadata": {
    "scrolled": false
   },
   "outputs": [
    {
     "name": "stdout",
     "output_type": "stream",
     "text": [
      "Deleting b.stw ... done\n",
      "Deleting s.stw ... done\n",
      "Deleting d.stw ... done\n",
      "Deleting fort.* *.o *.exe *.*~ ... done\n"
     ]
    }
   ],
   "source": [
    "# clean up files\n",
    "\n",
    "ac.delete('stw')\n",
    "ac.clean()"
   ]
  },
  {
   "cell_type": "code",
   "execution_count": null,
   "metadata": {},
   "outputs": [],
   "source": []
  }
 ],
 "metadata": {
  "kernelspec": {
   "display_name": "Python 3",
   "language": "python",
   "name": "python3"
  },
  "language_info": {
   "codemirror_mode": {
    "name": "ipython",
    "version": 3
   },
   "file_extension": ".py",
   "mimetype": "text/x-python",
   "name": "python",
   "nbconvert_exporter": "python",
   "pygments_lexer": "ipython3",
   "version": "3.8.5"
  }
 },
 "nbformat": 4,
 "nbformat_minor": 4
}
