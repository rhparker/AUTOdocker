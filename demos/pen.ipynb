{
 "cells": [
  {
   "cell_type": "code",
   "execution_count": 1,
   "metadata": {},
   "outputs": [
    {
     "data": {
      "text/plain": [
       "<pyvirtualdisplay.display.Display at 0x7fafa1bdff40>"
      ]
     },
     "execution_count": 1,
     "metadata": {},
     "output_type": "execute_result"
    }
   ],
   "source": [
    "# import os module\n",
    "import os\n",
    "\n",
    "# import AUTO modules\n",
    "from auto import AUTOCommands as ac\n",
    "from auto import AUTOclui as acl\n",
    "from auto import interactiveBindings as ib\n",
    "from auto import runAUTO as ra\n",
    "\n",
    "# import plotting tools\n",
    "import matplotlib as mpl\n",
    "from matplotlib import pyplot as plt\n",
    "\n",
    "# virtual display to use AUTO plot function\n",
    "from pyvirtualdisplay import Display\n",
    "from IPython.display import display as display\n",
    "from PIL import Image\n",
    "disp = Display(visible=0, size=(1366,768))\n",
    "disp.start()"
   ]
  },
  {
   "cell_type": "code",
   "execution_count": 2,
   "metadata": {},
   "outputs": [],
   "source": [
    "# use working directory for demo to avoid clutter\n",
    "folder = '/auto/workspace/demos/demo'\n",
    "os.chdir(folder)"
   ]
  },
  {
   "cell_type": "code",
   "execution_count": 4,
   "metadata": {},
   "outputs": [
    {
     "name": "stdout",
     "output_type": "stream",
     "text": [
      "Copying demo pen ... done\n",
      "pen : first run : locate a period doubling bifurcation\n",
      "gfortran -fopenmp -O -c pen.f90 -o pen.o\n",
      "gfortran -fopenmp -O pen.o -o pen.exe /auto/lib/*.o\n",
      "Starting pen ...\n",
      "\n",
      "  BR    PT  TY  LAB    PAR(3)        L2-NORM       MAX U(1)      MAX U(2)      MAX U(3)      MAX U(4)       PERIOD    \n",
      "   1     1  EP    1   4.00000E-01   8.70694E+00   7.52355E+00   7.52355E+00   4.24583E+00   4.24583E+00   1.57388E+00\n",
      "   1    34  PD    2   1.79163E-01   7.04803E+00   7.78673E+00   7.78673E+00   2.31669E+00   2.31669E+00   3.70528E+00\n",
      "   1    66  UZ    3   1.27009E-01   6.90348E+00   9.28967E+00   9.28967E+00   1.99585E+00   1.99585E+00   3.00000E+01\n",
      "\n",
      " Total Time    0.154E+00\n",
      "pen ... done\n",
      "pen : second run : a bifurcating branch of out-of-phase rotations\n",
      "Starting pen ...\n",
      "\n",
      "  BR    PT  TY  LAB    PAR(3)        L2-NORM       MAX U(1)      MAX U(2)      MAX U(3)      MAX U(4)       PERIOD    \n"
     ]
    },
    {
     "name": "stderr",
     "output_type": "stream",
     "text": [
      "Note: The following floating-point exceptions are signalling: IEEE_UNDERFLOW_FLAG IEEE_DENORMAL\n"
     ]
    },
    {
     "name": "stdout",
     "output_type": "stream",
     "text": [
      "   2    28  BP    4   3.31445E-01   1.06425E+01   1.02011E+01   1.43931E+01   3.62435E+00   3.62435E+00   9.72615E+00\n",
      "   2    32  BP    5   1.75511E-01   9.77034E+00   1.03194E+01   1.33710E+01   2.73067E+00   2.73067E+00   1.34389E+01\n",
      "   2    38  UZ    6   1.73146E-01   9.35712E+00   9.21742E+00   1.35358E+01   2.50950E+00   2.50950E+00   3.00002E+01\n",
      "\n",
      " Total Time    0.310E+00\n",
      "pen ... done\n",
      "pen : third run : a secondary bifurcating branch (without bifurcation detection)\n",
      "Starting pen ...\n",
      "\n",
      "  BR    PT  TY  LAB    PAR(3)        L2-NORM       MAX U(1)      MAX U(2)      MAX U(3)      MAX U(4)       PERIOD    \n"
     ]
    },
    {
     "name": "stderr",
     "output_type": "stream",
     "text": [
      "Note: The following floating-point exceptions are signalling: IEEE_UNDERFLOW_FLAG IEEE_DENORMAL\n"
     ]
    },
    {
     "name": "stdout",
     "output_type": "stream",
     "text": [
      "   3    30  UZ    7   1.59953E-01   1.00160E+01   9.27295E+00   9.39837E+00   2.15834E+00   2.54935E+00   3.00005E+01\n",
      "\n",
      " Total Time    0.128E+00\n",
      "pen ... done\n",
      "pen : fourth run : another secondary bifurcating branch (without bifurcation detection)\n",
      "Starting pen ...\n",
      "\n",
      "  BR    PT  TY  LAB    PAR(3)        L2-NORM       MAX U(1)      MAX U(2)      MAX U(3)      MAX U(4)       PERIOD    \n",
      "   4    37  UZ    8   2.28614E-01   1.01461E+01   9.19297E+00   1.39347E+01   2.31834E+00   2.72148E+00   3.00000E+01\n",
      "\n",
      " Total Time    0.259E+00\n",
      "pen ... done\n",
      "Saving to b.pen, s.pen, and d.pen ... done\n",
      "pen : fifth run : generate starting data for period doubling continuation\n",
      "Starting pen ...\n"
     ]
    },
    {
     "name": "stderr",
     "output_type": "stream",
     "text": [
      "Note: The following floating-point exceptions are signalling: IEEE_UNDERFLOW_FLAG IEEE_DENORMAL\n"
     ]
    },
    {
     "name": "stdout",
     "output_type": "stream",
     "text": [
      "\n",
      " Generating starting data : Restart at EP label below :\n",
      "\n",
      "  BR    PT  TY  LAB    PAR(2)        L2-NORM       MAX U(1)      MAX U(2)      MAX U(3)      MAX U(4)      PAR(3)         PERIOD    \n",
      "   5     5  EP    9   9.99998E-02   7.04803E+00   7.78673E+00   7.78673E+00   2.31658E+00   2.31658E+00   1.79163E-01   3.70527E+00\n",
      "\n",
      " Total Time    0.129E+00\n",
      "pen ... done\n",
      "pen : sixth run : compute a locus of period doubling bifurcations; restart from t\n",
      "Starting pen ...\n",
      "\n",
      "  BR    PT  TY  LAB    PAR(2)        L2-NORM       MAX U(1)      MAX U(2)      MAX U(3)      MAX U(4)      PAR(3)         PERIOD    \n",
      "   5    19  UZ   10   9.80643E-01   6.63480E+00   8.15305E+00   8.15305E+00   1.62100E+00   1.62100E+00   9.57295E-01   2.99990E+01\n",
      "\n",
      " Total Time    0.110E+00\n",
      "pen ... done\n",
      "Saving to b.pd, s.pd, and d.pd ... done\n"
     ]
    },
    {
     "name": "stderr",
     "output_type": "stream",
     "text": [
      "Note: The following floating-point exceptions are signalling: IEEE_UNDERFLOW_FLAG IEEE_DENORMAL\n"
     ]
    }
   ],
   "source": [
    "# copy demo into current directory\n",
    "ac.copydemo('pen')\n",
    "\n",
    "# start AUTO with runner object\n",
    "runner = ra.runAUTO()\n",
    "\n",
    "pgm = 'pen'\n",
    "\n",
    "print( pgm, \": first run : locate a period doubling bifurcation\" ) \n",
    "pen = ac.run(pgm,c='pen.1',runner=runner)\n",
    "\n",
    "print( pgm, \": second run : a bifurcating branch of out-of-phase rotations\" )\n",
    "pen=pen + ac.run(pen('PD1'),c='pen.2',runner=runner)\n",
    "\n",
    "print( pgm, \": third run : a secondary bifurcating branch (without bifurcation detection)\" )\n",
    "pen=pen + ac.run(pen('BP1'),c='pen.3',runner=runner)\n",
    "\n",
    "print( pgm, \": fourth run : another secondary bifurcating branch (without bifurcation detection)\" )\n",
    "pen=pen + ac.run(pen('BP2'),c='pen.4',runner=runner)\n",
    "ac.save(pen,'pen')\n",
    "\n",
    "print( pgm, \": fifth run : generate starting data for period doubling continuation\" )\n",
    "t = ac.run(pen('PD1'),c='pen.5',runner=runner)\n",
    "\n",
    "print( pgm, \": sixth run : compute a locus of period doubling bifurcations; restart from t\" )\n",
    "pd = ac.run(t,sv='pd',runner=runner)"
   ]
  },
  {
   "cell_type": "code",
   "execution_count": 5,
   "metadata": {},
   "outputs": [
    {
     "name": "stdout",
     "output_type": "stream",
     "text": [
      "Created plot\n"
     ]
    },
    {
     "data": {
      "image/png": "[encoded data removed]",
      "text/plain": [
       "<PIL.PngImagePlugin.PngImageFile image mode=RGBA size=600x480 at 0x7FAF9F464670>"
      ]
     },
     "metadata": {},
     "output_type": "display_data"
    }
   ],
   "source": [
    "# plot bifurcation diagram using plot routine from AUTO\n",
    "\n",
    "p = ac.plot('pen')\n",
    "p.config(stability=True, grid=False)\n",
    "p.savefig('b.png')\n",
    "display(Image.open('b.png'))"
   ]
  },
  {
   "cell_type": "code",
   "execution_count": 6,
   "metadata": {
    "scrolled": true
   },
   "outputs": [
    {
     "name": "stdout",
     "output_type": "stream",
     "text": [
      "Deleting fort.* *.o *.exe *.*~ ... done\n",
      "Deleting b.pen ... done\n",
      "Deleting s.pen ... done\n",
      "Deleting d.pen ... done\n"
     ]
    }
   ],
   "source": [
    "# clean up files\n",
    "\n",
    "ac.clean()\n",
    "ac.delete('pen')"
   ]
  }
 ],
 "metadata": {
  "kernelspec": {
   "display_name": "Python 3",
   "language": "python",
   "name": "python3"
  },
  "language_info": {
   "codemirror_mode": {
    "name": "ipython",
    "version": 3
   },
   "file_extension": ".py",
   "mimetype": "text/x-python",
   "name": "python",
   "nbconvert_exporter": "python",
   "pygments_lexer": "ipython3",
   "version": "3.8.5"
  }
 },
 "nbformat": 4,
 "nbformat_minor": 4
}
