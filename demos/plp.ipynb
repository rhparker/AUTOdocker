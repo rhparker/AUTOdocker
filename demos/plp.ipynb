{
 "cells": [
  {
   "cell_type": "code",
   "execution_count": 1,
   "metadata": {},
   "outputs": [
    {
     "data": {
      "text/plain": [
       "<pyvirtualdisplay.display.Display at 0x7f6a0c7f5f40>"
      ]
     },
     "execution_count": 1,
     "metadata": {},
     "output_type": "execute_result"
    }
   ],
   "source": [
    "# import os module\n",
    "import os\n",
    "\n",
    "# import AUTO modules\n",
    "from auto import AUTOCommands as ac\n",
    "from auto import AUTOclui as acl\n",
    "from auto import interactiveBindings as ib\n",
    "from auto import runAUTO as ra\n",
    "\n",
    "# import plotting tools\n",
    "import matplotlib as mpl\n",
    "from matplotlib import pyplot as plt\n",
    "\n",
    "# virtual display to use AUTO plot function\n",
    "from pyvirtualdisplay import Display\n",
    "from IPython.display import display as display\n",
    "from PIL import Image\n",
    "disp = Display(visible=0, size=(1366,768))\n",
    "disp.start()"
   ]
  },
  {
   "cell_type": "code",
   "execution_count": 2,
   "metadata": {},
   "outputs": [],
   "source": [
    "# use working directory for demo to avoid clutter\n",
    "folder = '/auto/workspace/demos/demo'\n",
    "os.chdir(folder)"
   ]
  },
  {
   "cell_type": "code",
   "execution_count": 7,
   "metadata": {
    "scrolled": false
   },
   "outputs": [
    {
     "name": "stdout",
     "output_type": "stream",
     "text": [
      "Copying demo plp ... done\n",
      "\n",
      "***Compute stationary solutions***\n",
      "gfortran -fopenmp -O -c plp.f90 -o plp.o\n",
      "gfortran -fopenmp -O plp.o -o plp.exe /auto/lib/*.o\n",
      "Starting plp ...\n",
      "\n",
      "  BR    PT  TY  LAB    PAR(4)        L2-NORM         U(1)          U(2)     \n",
      "   1     1  EP    1   2.02163E+00   1.83543E+02   4.55597E+01   1.77799E+02\n",
      "   1    38  HB    2   3.49995E+00   9.40760E+01   2.79647E+01   8.98235E+01\n",
      "   1    48  HB    3   4.65046E+00   6.57556E+01   2.23669E+01   6.18346E+01\n",
      "   1    54  UZ    4   6.00000E+00   4.85751E+01   1.89456E+01   4.47281E+01\n",
      "\n",
      " Total Time    0.174E+00\n",
      "plp ... done\n",
      "\n",
      "***Compute periodic solutions***\n",
      "Starting plp ...\n",
      "\n",
      "  BR    PT  TY  LAB    PAR(4)        L2-NORM       MAX U(1)      MAX U(2)       PERIOD    \n",
      "   2    84  LP    5   2.75969E+00   1.20187E+02   5.36495E+01   1.44896E+02   1.00064E+01\n",
      "   2   248  UZ    6   4.00000E+00   7.92438E+01   4.10342E+01   9.51591E+01   6.73966E+00\n",
      "\n",
      " Total Time    0.277E+00\n",
      "plp ... done\n",
      "Starting plp ...\n",
      "\n",
      "  BR    PT  TY  LAB    PAR(4)        L2-NORM       MAX U(1)      MAX U(2)       PERIOD    \n"
     ]
    },
    {
     "name": "stderr",
     "output_type": "stream",
     "text": [
      "Note: The following floating-point exceptions are signalling: IEEE_UNDERFLOW_FLAG IEEE_DENORMAL\n"
     ]
    },
    {
     "name": "stdout",
     "output_type": "stream",
     "text": [
      "   3    52  LP    5   5.00784E+00   6.02713E+01   3.19401E+01   6.89308E+01   5.67658E+00\n",
      "   3    83  UZ    6   4.00000E+00   7.92438E+01   4.10181E+01   9.51590E+01   6.73966E+00\n",
      "\n",
      " Total Time    0.179E+00\n",
      "plp ... done\n",
      "\n",
      "***Relabel and save the plp output files***\n",
      "Relabeling done\n",
      "Saving to b.plp, s.plp, and d.plp ... done\n",
      "\n",
      "***Follow Hopf bifurcation***\n",
      "Runner configured\n",
      "Starting plp ...\n"
     ]
    },
    {
     "name": "stderr",
     "output_type": "stream",
     "text": [
      "Note: The following floating-point exceptions are signalling: IEEE_UNDERFLOW_FLAG IEEE_DENORMAL\n"
     ]
    },
    {
     "name": "stdout",
     "output_type": "stream",
     "text": [
      "\n",
      "  BR    PT  TY  LAB    PAR(4)        L2-NORM         U(1)          U(2)        PAR(1)     \n",
      "   2    24  UZ    9   5.10967E+00   5.60951E+01   1.95180E+01   5.25900E+01   1.09000E+02\n",
      "\n",
      " Total Time    0.132E+00\n",
      "plp ... done\n",
      "Starting plp ...\n",
      "\n",
      "  BR    PT  TY  LAB    PAR(4)        L2-NORM         U(1)          U(2)        PAR(1)     \n",
      "   2    14  UZ    9   3.10386E+00   1.06038E+02   2.93774E+01   1.01887E+02   1.09000E+02\n",
      "\n",
      " Total Time    0.321E-01\n",
      "plp ... done\n",
      "Merge done\n",
      "\n",
      "***Follow periodic orbit folds: Starting data***\n",
      "Starting plp ...\n"
     ]
    },
    {
     "name": "stderr",
     "output_type": "stream",
     "text": [
      "Note: The following floating-point exceptions are signalling: IEEE_UNDERFLOW_FLAG IEEE_DENORMAL\n",
      "Note: The following floating-point exceptions are signalling: IEEE_UNDERFLOW_FLAG IEEE_DENORMAL\n"
     ]
    },
    {
     "name": "stdout",
     "output_type": "stream",
     "text": [
      "\n",
      " Generating starting data : Restart at EP label below :\n",
      "\n",
      "  BR    PT  TY  LAB    PAR(4)        L2-NORM       MAX U(1)      MAX U(2)      PAR(1)         PERIOD    \n",
      "   4     5  EP    9   2.75969E+00   1.20187E+02   5.36479E+01   1.44967E+02   1.10000E+02   1.00064E+01\n",
      "\n",
      " Total Time    0.836E-01\n",
      "plp ... done\n",
      "\n",
      "***Follow periodic orbit folds***\n",
      "Starting plp ...\n",
      "\n",
      "  BR    PT  TY  LAB    PAR(4)        L2-NORM       MAX U(1)      MAX U(2)      PAR(1)         PERIOD    \n",
      "   4    11  UZ   10   2.98629E+00   1.13066E+02   5.25766E+01   1.35911E+02   1.11000E+02   9.39099E+00\n",
      "   4    27  UZ   11   4.72213E+00   6.71267E+01   3.60889E+01   7.77614E+01   1.11000E+02   6.08717E+00\n",
      "   4    39  UZ   12   5.24332E+00   5.46467E+01   2.79695E+01   6.14450E+01   1.09000E+02   5.35315E+00\n",
      "\n",
      " Total Time    0.400E+00\n",
      "plp ... done\n",
      "Starting plp ...\n",
      "\n",
      "  BR    PT  TY  LAB    PAR(4)        L2-NORM       MAX U(1)      MAX U(2)      PAR(1)         PERIOD    \n",
      "   4    10  UZ   10   2.58264E+00   1.26064E+02   5.43310E+01   1.52421E+02   1.09000E+02   1.05394E+01\n",
      "\n",
      " Total Time    0.678E-01\n",
      "plp ... done\n",
      "Merge done\n",
      "\n",
      "***Relabel and save the loci output files***\n",
      "Relabeling done\n",
      "Saving to b.loci, s.loci, and d.loci ... done\n",
      "\n",
      "***Compute an isola of periodic solutions***\n",
      "Runner configured\n",
      "Starting plp ...\n",
      "\n",
      "  BR    PT  TY  LAB    PAR(4)        L2-NORM       MAX U(1)      MAX U(2)       PERIOD    \n",
      "   4    42  UZ    7   4.00000E+00   8.19781E+01   3.47048E+01   8.86724E+01   6.94798E+00\n",
      "   4    52  LP    8   4.72213E+00   6.71267E+01   3.60961E+01   7.77568E+01   6.08717E+00\n",
      "\n",
      " Total Time    0.364E+00\n",
      "plp ... done\n",
      "Starting plp ...\n",
      "\n",
      "  BR    PT  TY  LAB    PAR(4)        L2-NORM       MAX U(1)      MAX U(2)       PERIOD    \n",
      "   4    46  UZ    7   4.00000E+00   8.17260E+01   4.27194E+01   9.75302E+01   6.90214E+00\n",
      "   4    55  LP    8   4.72213E+00   6.71267E+01   3.60948E+01   7.77422E+01   6.08717E+00\n",
      "\n",
      " Total Time    0.264E+00\n",
      "plp ... done\n",
      "Merge done\n",
      "Relabeling done\n",
      "Saving to b.iso, s.iso, and d.iso ... done\n"
     ]
    }
   ],
   "source": [
    "# copy demo into current directory\n",
    "ac.copydemo('plp')\n",
    "\n",
    "# start AUTO with runner object\n",
    "runner = ra.runAUTO()\n",
    "\n",
    "print(\"\\n***Compute stationary solutions***\")\n",
    "plp = ac.run(e='plp',c='plp.ss',runner=runner)\n",
    "\n",
    "print(\"\\n***Compute periodic solutions***\")\n",
    "for hb in plp('HB'):\n",
    "    ps = ac.run(hb,c='plp.ps',runner=runner)\n",
    "    plp = plp + ps\n",
    "\n",
    "print(\"\\n***Relabel and save the plp output files***\")\n",
    "plp = ac.relabel(plp)\n",
    "ac.save(plp, 'plp')\n",
    "\n",
    "print(\"\\n***Follow Hopf bifurcation***\")\n",
    "hbstart = ac.load(plp(\"HB1\"), c='plp.hb',runner=runner)\n",
    "loci = ac.run(hbstart, runner=runner)\n",
    "loci = loci + ac.run(hbstart, DS='-',runner=runner)\n",
    "loci = ac.merge(loci)\n",
    "\n",
    "print(\"\\n***Follow periodic orbit folds: Starting data***\")\n",
    "lpstart = ac.run(plp('LP1'),c='plp.plp',runner=runner)\n",
    "\n",
    "print(\"\\n***Follow periodic orbit folds***\")\n",
    "loci = loci + ac.merge( ac.run(lpstart,runner=runner) + ac.run(lpstart, DS='-',runner=runner) )\n",
    "\n",
    "print(\"\\n***Relabel and save the loci output files***\")\n",
    "loci = ac.relabel(loci)\n",
    "ac.save(loci, 'loci')\n",
    "\n",
    "print(\"\\n***Compute an isola of periodic solutions***\")\n",
    "isostart = ac.load(loci('UZ4'), c='plp.iso',runner=runner)\n",
    "iso = ac.merge( ac.run(isostart,runner=runner) + ac.run(isostart, DS='-',runner=runner) )\n",
    "iso = ac.relabel(iso)\n",
    "ac.save(iso, 'iso')"
   ]
  },
  {
   "cell_type": "code",
   "execution_count": 8,
   "metadata": {},
   "outputs": [
    {
     "name": "stdout",
     "output_type": "stream",
     "text": [
      "Created plot\n"
     ]
    },
    {
     "data": {
      "image/png": "[encoded data removed]",
      "text/plain": [
       "<PIL.PngImagePlugin.PngImageFile image mode=RGBA size=600x480 at 0x7F69FD6405E0>"
      ]
     },
     "metadata": {},
     "output_type": "display_data"
    }
   ],
   "source": [
    "# plot bifurcation diagram using plot routine from AUTO\n",
    "\n",
    "p = ac.plot('plp')\n",
    "p.config(stability=True, grid=False)\n",
    "p.config(bifurcation_y='MAX U(1)')\n",
    "p.savefig('b.png')\n",
    "display(Image.open('b.png'))"
   ]
  },
  {
   "cell_type": "code",
   "execution_count": 9,
   "metadata": {},
   "outputs": [
    {
     "name": "stdout",
     "output_type": "stream",
     "text": [
      "Created plot\n"
     ]
    },
    {
     "data": {
      "image/png": "[encoded data removed]",
      "text/plain": [
       "<PIL.PngImagePlugin.PngImageFile image mode=RGBA size=600x480 at 0x7F69FCD7B0A0>"
      ]
     },
     "metadata": {},
     "output_type": "display_data"
    }
   ],
   "source": [
    "# plot of isola\n",
    "\n",
    "p = ac.plot('iso')\n",
    "p.config(stability=True, grid=False)\n",
    "p.config(bifurcation_y='MAX U(1)')\n",
    "p.savefig('b.png')\n",
    "display(Image.open('b.png'))"
   ]
  },
  {
   "cell_type": "code",
   "execution_count": 10,
   "metadata": {
    "scrolled": true
   },
   "outputs": [
    {
     "name": "stdout",
     "output_type": "stream",
     "text": [
      "Deleting fort.* *.o *.exe *.*~ ... done\n",
      "Deleting b.plp ... done\n",
      "Deleting s.plp ... done\n",
      "Deleting d.plp ... done\n"
     ]
    }
   ],
   "source": [
    "# clean up files\n",
    "\n",
    "ac.clean()\n",
    "ac.delete('plp')"
   ]
  }
 ],
 "metadata": {
  "kernelspec": {
   "display_name": "Python 3",
   "language": "python",
   "name": "python3"
  },
  "language_info": {
   "codemirror_mode": {
    "name": "ipython",
    "version": 3
   },
   "file_extension": ".py",
   "mimetype": "text/x-python",
   "name": "python",
   "nbconvert_exporter": "python",
   "pygments_lexer": "ipython3",
   "version": "3.8.5"
  }
 },
 "nbformat": 4,
 "nbformat_minor": 4
}
