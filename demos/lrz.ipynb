{
 "cells": [
  {
   "cell_type": "code",
   "execution_count": 9,
   "metadata": {},
   "outputs": [
    {
     "data": {
      "text/plain": [
       "<pyvirtualdisplay.display.Display at 0x7f7f641a7af0>"
      ]
     },
     "execution_count": 9,
     "metadata": {},
     "output_type": "execute_result"
    }
   ],
   "source": [
    "# import os module\n",
    "import os\n",
    "\n",
    "# import AUTO modules\n",
    "from auto import AUTOCommands as ac\n",
    "from auto import AUTOclui as acl\n",
    "from auto import interactiveBindings as ib\n",
    "from auto import runAUTO as ra\n",
    "\n",
    "# import plotting tools\n",
    "import matplotlib as mpl\n",
    "from matplotlib import pyplot as plt\n",
    "\n",
    "# virtual display to use AUTO plot function (pyplot)\n",
    "from pyvirtualdisplay import Display\n",
    "from IPython.display import display as display\n",
    "from PIL import Image\n",
    "disp = Display(visible=0, size=(1366,768))\n",
    "disp.start()"
   ]
  },
  {
   "cell_type": "code",
   "execution_count": 10,
   "metadata": {},
   "outputs": [],
   "source": [
    "# use working directory for demo to avoid clutter\n",
    "folder = '/auto/workspace/demos/demo'\n",
    "os.chdir(folder)"
   ]
  },
  {
   "cell_type": "code",
   "execution_count": 11,
   "metadata": {},
   "outputs": [
    {
     "name": "stdout",
     "output_type": "stream",
     "text": [
      "Copying demo lrz ... done\n",
      "\n",
      "***Compute stationary solution families***\n",
      "gfortran -fopenmp -O -c lrz.f90 -o lrz.o\n",
      "gfortran -fopenmp -O lrz.o -o lrz.exe /auto/lib/*.o\n",
      "Starting lrz ...\n",
      "\n",
      "  BR    PT  TY  LAB      rho         L2-NORM          x             y             z       \n",
      "   1     1  EP    1   0.00000E+00   0.00000E+00   0.00000E+00   0.00000E+00   0.00000E+00\n",
      "   1     5  BP    2   1.00000E+00   0.00000E+00   0.00000E+00   0.00000E+00   0.00000E+00\n",
      "   1    13  UZ    3   3.00000E+01   0.00000E+00   0.00000E+00   0.00000E+00   0.00000E+00\n",
      "\n",
      "  BR    PT  TY  LAB      rho         L2-NORM          x             y             z       \n",
      "   2    42  HB    4   2.47368E+01   2.62685E+01   7.95602E+00   7.95602E+00   2.37368E+01\n",
      "   2    45  UZ    5   3.00000E+01   3.15542E+01   8.79394E+00   8.79394E+00   2.90000E+01\n",
      "\n",
      "  BR    PT  TY  LAB      rho         L2-NORM          x             y             z       \n",
      "   2    42  HB    6   2.47368E+01   2.62685E+01  -7.95602E+00  -7.95602E+00   2.37368E+01\n",
      "   2    45  UZ    7   3.00000E+01   3.15542E+01  -8.79394E+00  -8.79394E+00   2.90000E+01\n",
      "\n",
      " Total Time    0.442E-01\n",
      "lrz ... done\n",
      "Saving fort.7 as b.lrz ... done\n",
      "Saving fort.8 as s.lrz ... done\n",
      "Saving fort.9 as d.lrz ... done\n",
      "\n",
      "***Compute the first periodic solution family***\n",
      "Starting lrz ...\n",
      "\n",
      "  BR    PT  TY  LAB      rho         L2-NORM        MAX x         MAX y         MAX z         PERIOD    \n",
      "   4     2        8   2.47263E+01   2.62550E+01   8.24078E+00   8.35402E+00   2.42325E+01   6.53196E-01\n",
      "   4     4        9   2.46221E+01   2.61217E+01   8.87099E+00   9.25396E+00   2.52683E+01   6.56815E-01\n",
      "   4     6       10   2.43598E+01   2.57862E+01   9.55937E+00   1.02673E+01   2.62866E+01   6.66114E-01\n",
      "   4     8       11   2.38815E+01   2.51733E+01   1.02649E+01   1.13402E+01   2.71688E+01   6.83815E-01\n",
      "   4    10       12   2.31354E+01   2.42151E+01   1.09349E+01   1.23940E+01   2.77796E+01   7.13505E-01\n",
      "   4    12       13   2.20780E+01   2.28511E+01   1.15132E+01   1.33396E+01   2.79816E+01   7.60644E-01\n",
      "   4    14       14   2.06702E+01   2.10193E+01   1.19409E+01   1.40738E+01   2.76380E+01   8.35069E-01\n",
      "   4    16       15   1.88821E+01   1.86471E+01   1.21484E+01   1.44796E+01   2.66089E+01   9.57569E-01\n",
      "   4    18       16   1.67353E+01   1.56405E+01   1.20536E+01   1.44257E+01   2.47832E+01   1.18330E+00\n",
      "   4    20       17   1.48138E+01   1.23916E+01   1.17081E+01   1.39788E+01   2.27276E+01   1.62929E+00\n",
      "   4    22       18   1.39678E+01   9.14991E+00   1.14909E+01   1.36783E+01   2.17209E+01   2.78130E+00\n",
      "   4    24       19   1.39266E+01   5.88316E+00   1.14637E+01   1.36364E+01   2.16632E+01   6.70329E+00\n",
      "   4    26       20   1.39266E+01   4.27612E+00   1.14814E+01   1.36634E+01   2.16547E+01   1.26885E+01\n",
      "   4    28       21   1.39266E+01   2.60523E+00   1.14798E+01   1.36596E+01   2.16716E+01   3.41837E+01\n",
      "   4    30       22   1.39265E+01   1.77732E+00   1.14801E+01   1.36531E+01   2.15700E+01   7.34476E+01\n",
      "   4    32       23   1.39266E+01   1.14209E+00   1.14546E+01   1.36068E+01   2.16277E+01   1.77873E+02\n",
      "   4    34       24   1.39266E+01   7.31857E-01   1.14815E+01   1.36619E+01   2.16442E+01   4.33169E+02\n",
      "   4    35  EP   25   1.39266E+01   6.29547E-01   1.14802E+01   1.36631E+01   2.16345E+01   5.85401E+02\n",
      "\n",
      " Total Time    0.160E+00\n",
      "lrz ... done\n",
      "Appending fort.7 to b.lrz ... done\n",
      "Appending fort.8 to s.lrz ... done\n",
      "Appending fort.9 to d.lrz ... done\n",
      "\n",
      "***Compute the second periodic solution family***\n",
      "Starting lrz ...\n",
      "\n",
      "  BR    PT  TY  LAB      rho         L2-NORM        MAX x         MAX y         MAX z         PERIOD    \n",
      "   6     2        8   2.47263E+01   2.62550E+01  -7.66589E+00  -7.55614E+00   2.42325E+01   6.53196E-01\n",
      "   6     4        9   2.46221E+01   2.61217E+01  -6.98291E+00  -6.63766E+00   2.52683E+01   6.56815E-01\n",
      "   6     6       10   2.43598E+01   2.57862E+01  -6.16259E+00  -5.57720E+00   2.62866E+01   6.66114E-01\n",
      "   6     8       11   2.38815E+01   2.51733E+01  -5.21877E+00  -4.41802E+00   2.71688E+01   6.83815E-01\n",
      "   6    10       12   2.31354E+01   2.42151E+01  -4.18398E+00  -3.22592E+00   2.77796E+01   7.13505E-01\n",
      "   6    12       13   2.20780E+01   2.28511E+01  -3.10528E+00  -2.07754E+00   2.79816E+01   7.60644E-01\n",
      "   6    14       14   2.06702E+01   2.10193E+01  -2.04466E+00  -1.05682E+00   2.76380E+01   8.35069E-01\n",
      "   6    16       15   1.88821E+01   1.86471E+01  -1.08612E+00  -2.53862E-01   2.66089E+01   9.57569E-01\n",
      "   6    18       16   1.67353E+01   1.56405E+01  -3.58903E-01   2.34383E-01   2.47832E+01   1.18330E+00\n",
      "   6    20       17   1.48138E+01   1.23916E+01  -4.02246E-02   3.50485E-01   2.27276E+01   1.62929E+00\n",
      "   6    22       18   1.39678E+01   9.14991E+00  -1.09822E-04   3.28597E-01   2.17209E+01   2.78130E+00\n",
      "   6    24       19   1.39266E+01   5.88316E+00   2.71088E-12   3.26551E-01   2.16632E+01   6.70329E+00\n"
     ]
    },
    {
     "name": "stderr",
     "output_type": "stream",
     "text": [
      "Note: The following floating-point exceptions are signalling: IEEE_UNDERFLOW_FLAG IEEE_DENORMAL\n"
     ]
    },
    {
     "name": "stdout",
     "output_type": "stream",
     "text": [
      "   6    26       20   1.39266E+01   4.27612E+00   3.10164E-11   3.26608E-01   2.16547E+01   1.26885E+01\n",
      "   6    28       21   1.39266E+01   2.60523E+00   1.78906E-10   3.26143E-01   2.16716E+01   3.41837E+01\n",
      "   6    30       22   1.39265E+01   1.77732E+00   2.29274E-15   3.16121E-01   2.15700E+01   7.34476E+01\n",
      "   6    32       23   1.39266E+01   1.14209E+00   6.72816E-13   3.25737E-01   2.16277E+01   1.77873E+02\n",
      "   6    34       24   1.39266E+01   7.31857E-01   1.18433E-09   3.26767E-01   2.16442E+01   4.33169E+02\n",
      "   6    35  EP   25   1.39266E+01   6.29547E-01   8.84298E-12   3.26839E-01   2.16345E+01   5.85401E+02\n",
      "\n",
      " Total Time    0.174E+00\n",
      "lrz ... done\n",
      "Appending fort.7 to b.lrz ... done\n",
      "Appending fort.8 to s.lrz ... done\n",
      "Appending fort.9 to d.lrz ... done\n"
     ]
    },
    {
     "name": "stderr",
     "output_type": "stream",
     "text": [
      "Note: The following floating-point exceptions are signalling: IEEE_UNDERFLOW_FLAG IEEE_DENORMAL\n"
     ]
    }
   ],
   "source": [
    "# copy demo into current directory\n",
    "ac.copydemo('lrz')\n",
    "\n",
    "# start AUTO with runner object\n",
    "runner = ra.runAUTO()\n",
    "\n",
    "print(\"\\n***Compute stationary solution families***\")\n",
    "lrz = ac.run('lrz', runner=runner)\n",
    "ac.save('lrz')\n",
    "\n",
    "print(\"\\n***Compute the first periodic solution family***\")\n",
    "ac.run(lrz('HB1'),IPS=2,ICP=['rho','PERIOD'],NMX=35,NPR=2,DS=0.5, runner=runner)\n",
    "ac.append('lrz')\n",
    "\n",
    "print(\"\\n***Compute the second periodic solution family***\")\n",
    "ac.run(lrz('HB2'),IPS=2,ICP=['rho','PERIOD'],NMX=35,NPR=2,DS=0.5, runner=runner)\n",
    "ac.append('lrz')"
   ]
  },
  {
   "cell_type": "code",
   "execution_count": 12,
   "metadata": {},
   "outputs": [
    {
     "name": "stdout",
     "output_type": "stream",
     "text": [
      "Created plot\n"
     ]
    },
    {
     "data": {
      "image/png": "[encoded data removed]",
      "text/plain": [
       "<PIL.PngImagePlugin.PngImageFile image mode=RGBA size=600x480 at 0x7F7F640E0D30>"
      ]
     },
     "metadata": {},
     "output_type": "display_data"
    }
   ],
   "source": [
    "# plot bifurcation diagram using plot routine from AUTO\n",
    "\n",
    "p = ac.plot('lrz')\n",
    "p.config(stability=True, grid=False)\n",
    "p.savefig('b.png')\n",
    "display(Image.open('b.png'))"
   ]
  },
  {
   "cell_type": "code",
   "execution_count": 13,
   "metadata": {
    "scrolled": true
   },
   "outputs": [
    {
     "name": "stdout",
     "output_type": "stream",
     "text": [
      "Deleting fort.* *.o *.exe *.*~ ... done\n",
      "Deleting b.lrz ... done\n",
      "Deleting s.lrz ... done\n",
      "Deleting d.lrz ... done\n"
     ]
    }
   ],
   "source": [
    "# clean up files\n",
    "\n",
    "ac.clean()\n",
    "ac.delete('lrz')"
   ]
  }
 ],
 "metadata": {
  "kernelspec": {
   "display_name": "Python 3",
   "language": "python",
   "name": "python3"
  },
  "language_info": {
   "codemirror_mode": {
    "name": "ipython",
    "version": 3
   },
   "file_extension": ".py",
   "mimetype": "text/x-python",
   "name": "python",
   "nbconvert_exporter": "python",
   "pygments_lexer": "ipython3",
   "version": "3.8.5"
  }
 },
 "nbformat": 4,
 "nbformat_minor": 4
}
