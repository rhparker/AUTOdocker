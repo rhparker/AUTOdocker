{
 "cells": [
  {
   "cell_type": "code",
   "execution_count": 1,
   "metadata": {},
   "outputs": [
    {
     "data": {
      "text/plain": [
       "<pyvirtualdisplay.display.Display at 0x403e6f6f40>"
      ]
     },
     "execution_count": 1,
     "metadata": {},
     "output_type": "execute_result"
    }
   ],
   "source": [
    "# import os module\n",
    "import os\n",
    "\n",
    "# import AUTO modules\n",
    "from auto import AUTOCommands as ac\n",
    "from auto import AUTOclui as acl\n",
    "from auto import interactiveBindings as ib\n",
    "from auto import runAUTO as ra\n",
    "\n",
    "# import plotting tools\n",
    "import matplotlib as mpl\n",
    "from matplotlib import pyplot as plt\n",
    "\n",
    "# virtual display to use AUTO plot function (pyplot)\n",
    "from pyvirtualdisplay import Display\n",
    "from IPython.display import display as display\n",
    "from PIL import Image\n",
    "disp = Display(visible=0, size=(1366,768))\n",
    "disp.start()"
   ]
  },
  {
   "cell_type": "code",
   "execution_count": 2,
   "metadata": {},
   "outputs": [],
   "source": [
    "# use working directory for demo to avoid clutter\n",
    "folder = '/auto/workspace/demos/demo'\n",
    "os.chdir(folder)"
   ]
  },
  {
   "cell_type": "code",
   "execution_count": 3,
   "metadata": {},
   "outputs": [
    {
     "name": "stdout",
     "output_type": "stream",
     "text": [
      "Copying demo hen ... done\n",
      "\n",
      "Demo hen is started\n",
      "\n",
      "hen : first run : fixed point solution branch for beta (alpha=1)\n",
      "gfortran -fopenmp -O -c hen.f90 -o hen.o\n",
      "gfortran -fopenmp -O hen.o -o hen.exe /auto/lib/*.o\n",
      "Starting hen ...\n",
      "\n",
      "  BR    PT  TY  LAB      beta        L2-NORM          x             y       \n",
      "   1     1  EP    1   0.00000E+00   1.41421E+00   1.00000E+00   1.00000E+00\n",
      "   1    13  PD    2   6.32992E-01   1.15470E+00   8.16497E-01   8.16497E-01\n",
      "   1    18  TR    3   1.00000E+00   1.03528E+00   7.32051E-01   7.32051E-01\n",
      "\n",
      " Total Time    0.580E-01\n",
      "hen ... done\n",
      "Saving fort.7 as b.beta ... done\n",
      "Saving fort.8 as s.beta ... done\n",
      "Saving fort.9 as d.beta ... done\n",
      "\n",
      "hen : second run : a 2-parameter curve of Naimark-Sacker bifurcations\n",
      "Starting hen ...\n"
     ]
    },
    {
     "name": "stderr",
     "output_type": "stream",
     "text": [
      "Note: The following floating-point exceptions are signalling: IEEE_UNDERFLOW_FLAG\n"
     ]
    },
    {
     "name": "stdout",
     "output_type": "stream",
     "text": [
      "\n",
      "  BR    PT  TY  LAB     alpha        L2-NORM          x             y            beta     \n",
      "   3    17  R2    4   3.00000E+00   1.41421E+00   1.00000E+00   1.00000E+00   1.00000E+00\n",
      "\n",
      " Total Time    0.527E-01\n",
      "hen ... done\n",
      "Saving fort.7 as b.hen ... done\n",
      "Saving fort.8 as s.hen ... done\n",
      "Saving fort.9 as d.hen ... done\n",
      "Starting hen ...\n",
      "\n",
      "  BR    PT  TY  LAB     alpha        L2-NORM          x             y            beta     \n",
      "   3    12  R3    4   1.25000E+00   7.07107E-01   5.00000E-01   5.00000E-01   1.00000E+00\n",
      "   3    28  R4    5   4.04990E-07   2.86371E-07   2.02495E-07   2.02495E-07   1.00000E+00\n"
     ]
    },
    {
     "name": "stderr",
     "output_type": "stream",
     "text": [
      "Note: The following floating-point exceptions are signalling: IEEE_UNDERFLOW_FLAG\n"
     ]
    },
    {
     "name": "stdout",
     "output_type": "stream",
     "text": [
      "   3    60  R1    6  -1.00000E+00   1.41421E+00  -1.00000E+00  -1.00000E+00   1.00000E+00\n",
      "\n",
      " Total Time    0.116E+00\n",
      "hen ... done\n",
      "Appending fort.7 to b.hen ... done\n",
      "Appending fort.8 to s.hen ... done\n",
      "Appending fort.9 to d.hen ... done\n",
      "\n",
      "hen : third run : a 2-parameter curve of Period-Doubling bifurcations\n",
      "Starting hen ...\n",
      "\n",
      "  BR    PT  TY  LAB     alpha        L2-NORM          x             y            beta     \n",
      "   2    15  R2    4   3.00000E+00   1.41421E+00   1.00000E+00   1.00000E+00   1.00000E+00\n",
      "   2    26  UZ    5   3.99999E+00   1.63299E+00   1.15470E+00   1.15470E+00   1.30940E+00\n",
      "\n",
      " Total Time    0.701E-01\n",
      "hen ... done\n",
      "Appending fort.7 to b.hen ... done\n",
      "Appending fort.8 to s.hen ... done\n"
     ]
    },
    {
     "name": "stderr",
     "output_type": "stream",
     "text": [
      "Note: The following floating-point exceptions are signalling: IEEE_UNDERFLOW_FLAG\n",
      "Note: The following floating-point exceptions are signalling: IEEE_UNDERFLOW_FLAG\n"
     ]
    },
    {
     "name": "stdout",
     "output_type": "stream",
     "text": [
      "Appending fort.9 to d.hen ... done\n",
      "Starting hen ...\n",
      "\n",
      "  BR    PT  TY  LAB     alpha        L2-NORM          x             y            beta     \n",
      "   2    33 LPD    4   1.87148E-14   1.16791E-07  -8.25836E-08  -8.25836E-08  -1.00000E+00\n",
      "   2    74  UZ    5   3.00000E+00   1.41421E+00  -1.00000E+00  -1.00000E+00  -3.00000E+00\n",
      "\n",
      " Total Time    0.123E+00\n",
      "hen ... done\n",
      "Appending fort.7 to b.hen ... done\n",
      "Appending fort.8 to s.hen ... done\n",
      "Appending fort.9 to d.hen ... done\n",
      "\n",
      "hen : fourth run : fixed point solution branch for alpha (beta=1)\n",
      "Starting hen ...\n",
      "\n",
      "  BR    PT  TY  LAB     alpha        L2-NORM          x             y       \n",
      "   1     1  EP    1   2.00000E+00   1.41421E+00   1.00000E+00   1.00000E+00\n",
      "   1    18  PD    2   7.50001E-01   7.07107E-01   5.00000E-01   5.00000E-01\n",
      "   1    36  LP    3  -2.50000E-01   7.07093E-01  -4.99990E-01  -4.99990E-01\n",
      "\n",
      " Total Time    0.756E-01\n",
      "hen ... done\n"
     ]
    },
    {
     "name": "stderr",
     "output_type": "stream",
     "text": [
      "Note: The following floating-point exceptions are signalling: IEEE_UNDERFLOW_FLAG\n",
      "Note: The following floating-point exceptions are signalling: IEEE_UNDERFLOW_FLAG\n"
     ]
    },
    {
     "name": "stdout",
     "output_type": "stream",
     "text": [
      "Saving to b.alpha, s.alpha, and d.alpha ... done\n",
      "\n",
      "hen : fifth run : a 2-parameter curve of fold bifurcations\n",
      "Starting hen ...\n",
      "\n",
      "  BR    PT  TY  LAB     alpha        L2-NORM          x             y            beta     \n",
      "   3    24  R1    4  -1.00000E+00   1.41421E+00  -1.00000E+00  -1.00000E+00   1.00000E+00\n",
      "   3    39  UZ    5  -1.99993E+00   1.99996E+00  -1.41419E+00  -1.41419E+00   1.82837E+00\n",
      "\n",
      " Total Time    0.811E-01\n",
      "hen ... done\n",
      "Appending fort.7 to b.hen ... done\n",
      "Appending fort.8 to s.hen ... done\n",
      "Appending fort.9 to d.hen ... done\n",
      "Starting hen ...\n",
      "\n",
      "  BR    PT  TY  LAB     alpha        L2-NORM          x             y            beta     \n",
      "   3    30 LPD    4  -6.34814E-17   1.15089E-08   8.13804E-09   8.13804E-09  -1.00000E+00\n"
     ]
    },
    {
     "name": "stderr",
     "output_type": "stream",
     "text": [
      "Note: The following floating-point exceptions are signalling: IEEE_UNDERFLOW_FLAG\n"
     ]
    },
    {
     "name": "stdout",
     "output_type": "stream",
     "text": [
      "   3    71  UZ    5  -1.00004E+00   1.41424E+00   1.00002E+00   1.00002E+00  -3.00004E+00\n",
      "\n",
      " Total Time    0.128E+00\n",
      "hen ... done\n",
      "Appending fort.7 to b.hen ... done\n",
      "Appending fort.8 to s.hen ... done\n",
      "Appending fort.9 to d.hen ... done\n",
      "Merging succeeded\n",
      "Merging done\n",
      "Relabeling succeeded\n",
      "Relabeling done\n"
     ]
    },
    {
     "name": "stderr",
     "output_type": "stream",
     "text": [
      "Note: The following floating-point exceptions are signalling: IEEE_UNDERFLOW_FLAG\n"
     ]
    }
   ],
   "source": [
    "# copy demo into current directory\n",
    "ac.copydemo('hen')\n",
    "\n",
    "# start AUTO with runner object\n",
    "runner = ra.runAUTO()\n",
    "\n",
    "print(\"\\nDemo hen is started\")\n",
    "print(\"\\nhen : first run : fixed point solution branch for beta (alpha=1)\")\n",
    "r1 = ac.run('hen', runner=runner)\n",
    "ac.save('beta')\n",
    "\n",
    "print(\"\\nhen : second run : a 2-parameter curve of Naimark-Sacker bifurcations\")\n",
    "ac.run(r1(\"TR1\"),ICP=['alpha','beta'],ISW=2,ILP=0,STOP=['R11','R21'], runner=runner)\n",
    "ac.save('hen')\n",
    "ac.run(DS='-', runner=runner)\n",
    "ac.append('hen')\n",
    "\n",
    "print(\"\\nhen : third run : a 2-parameter curve of Period-Doubling bifurcations\")\n",
    "ac.run(r1(\"PD1\"),ICP=['alpha','beta'],ISW=2,ILP=0,runner=runner)\n",
    "ac.append('hen')\n",
    "ac.run(DS='-', runner=runner)\n",
    "ac.append('hen')\n",
    "\n",
    "print(\"\\nhen : fourth run : fixed point solution branch for alpha (beta=1)\")\n",
    "r4 = ac.run(c='hen',ICP=['alpha'],DS='-',STOP=['LP1'], runner=runner)\n",
    "ac.save(r4,'alpha')\n",
    "\n",
    "print(\"\\nhen : fifth run : a 2-parameter curve of fold bifurcations\")\n",
    "ac.run(r4(\"LP1\"),ICP=['alpha','beta'],ISW=2,ILP=0, runner=runner)\n",
    "ac.append('hen')\n",
    "ac.run(DS='-', runner=runner)\n",
    "ac.append('hen')\n",
    "\n",
    "ac.merge('hen')\n",
    "ac.relabel('hen')"
   ]
  },
  {
   "cell_type": "code",
   "execution_count": 4,
   "metadata": {},
   "outputs": [
    {
     "name": "stdout",
     "output_type": "stream",
     "text": [
      "Created plot\n"
     ]
    },
    {
     "data": {
      "image/png": "[encoded data removed]",
      "text/plain": [
       "<PIL.PngImagePlugin.PngImageFile image mode=RGBA size=600x480 at 0x40433B2760>"
      ]
     },
     "metadata": {},
     "output_type": "display_data"
    }
   ],
   "source": [
    "# plot bifurcation diagram using plot routine from AUTO\n",
    "\n",
    "p = ac.plot('hen')\n",
    "p.savefig('b.png')\n",
    "display(Image.open('b.png'))"
   ]
  },
  {
   "cell_type": "code",
   "execution_count": 5,
   "metadata": {
    "scrolled": true
   },
   "outputs": [
    {
     "name": "stdout",
     "output_type": "stream",
     "text": [
      "Deleting fort.* *.o *.exe *.*~ ... done\n",
      "Deleting b.hen ... done\n",
      "Deleting s.hen ... done\n",
      "Deleting d.hen ... done\n",
      "Deleting b.alpha ... done\n",
      "Deleting s.alpha ... done\n",
      "Deleting d.alpha ... done\n",
      "Deleting b.beta ... done\n",
      "Deleting s.beta ... done\n",
      "Deleting d.beta ... done\n"
     ]
    }
   ],
   "source": [
    "# clean up files\n",
    "\n",
    "ac.clean()\n",
    "ac.delete('hen')\n",
    "ac.delete('alpha')\n",
    "ac.delete('beta')"
   ]
  }
 ],
 "metadata": {
  "kernelspec": {
   "display_name": "Python 3",
   "language": "python",
   "name": "python3"
  },
  "language_info": {
   "codemirror_mode": {
    "name": "ipython",
    "version": 3
   },
   "file_extension": ".py",
   "mimetype": "text/x-python",
   "name": "python",
   "nbconvert_exporter": "python",
   "pygments_lexer": "ipython3",
   "version": "3.8.5"
  }
 },
 "nbformat": 4,
 "nbformat_minor": 4
}
