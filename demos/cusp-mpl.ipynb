{
 "cells": [
  {
   "cell_type": "code",
   "execution_count": 1,
   "metadata": {},
   "outputs": [],
   "source": [
    "# import os module\n",
    "import os\n",
    "\n",
    "# import AUTO modules\n",
    "from auto import AUTOCommands as ac\n",
    "from auto import AUTOclui as acl\n",
    "from auto import interactiveBindings as ib\n",
    "from auto import runAUTO as ra\n",
    "\n",
    "# import plotting tools\n",
    "import matplotlib as mpl\n",
    "from matplotlib import pyplot as plt"
   ]
  },
  {
   "cell_type": "code",
   "execution_count": 2,
   "metadata": {},
   "outputs": [],
   "source": [
    "# use working directory for demo to avoid clutter\n",
    "folder = '/auto/workspace/demos/demo'\n",
    "os.chdir(folder)"
   ]
  },
  {
   "cell_type": "code",
   "execution_count": 3,
   "metadata": {},
   "outputs": [
    {
     "name": "stdout",
     "output_type": "stream",
     "text": [
      "Copying demo cusp ... done\n",
      "gfortran -fopenmp -O -c cusp.f90 -o cusp.o\n",
      "gfortran -fopenmp -O cusp.o -o cusp.exe /auto/lib/*.o\n",
      "Starting cusp ...\n",
      "\n",
      "  BR    PT  TY  LAB       mu         L2-NORM          x           lambda    \n",
      "   1     1  EP    1   0.00000E+00   0.00000E+00   0.00000E+00   1.00000E+00\n",
      "   1    14  LP    2   3.84900E-01   5.77360E-01  -5.77360E-01   1.00000E+00\n",
      "   1    20        3   1.26582E-01   9.29410E-01  -9.29410E-01   1.00000E+00\n",
      "   1    40        4  -1.38347E+00   1.40803E+00  -1.40803E+00   1.00000E+00\n",
      "   1    47  UZ    5  -1.99999E+00   1.52138E+00  -1.52138E+00   1.00000E+00\n",
      "\n",
      " Total Time    0.253E-01\n"
     ]
    },
    {
     "name": "stderr",
     "output_type": "stream",
     "text": [
      "Note: The following floating-point exceptions are signalling: IEEE_UNDERFLOW_FLAG IEEE_DENORMAL\n"
     ]
    },
    {
     "name": "stdout",
     "output_type": "stream",
     "text": [
      "cusp ... done\n",
      "Starting cusp ...\n",
      "\n",
      "  BR    PT  TY  LAB       mu         L2-NORM          x           lambda    \n",
      "   1     1  EP    1   0.00000E+00   0.00000E+00   0.00000E+00   1.00000E+00\n",
      "   1    14  LP    2  -3.84900E-01   5.77360E-01   5.77360E-01   1.00000E+00\n",
      "   1    20        3  -1.26582E-01   9.29410E-01   9.29410E-01   1.00000E+00\n",
      "   1    40        4   1.38347E+00   1.40803E+00   1.40803E+00   1.00000E+00\n",
      "   1    47  UZ    5   1.99999E+00   1.52138E+00   1.52138E+00   1.00000E+00\n",
      "\n",
      " Total Time    0.258E-01\n",
      "cusp ... done\n",
      "Saving to b.mu, s.mu, and d.mu ... done\n"
     ]
    },
    {
     "name": "stderr",
     "output_type": "stream",
     "text": [
      "Note: The following floating-point exceptions are signalling: IEEE_UNDERFLOW_FLAG IEEE_DENORMAL\n"
     ]
    }
   ],
   "source": [
    "# copy cusp demo into current directory\n",
    "ac.copydemo('cusp')\n",
    "\n",
    "# start AUTO with runner object\n",
    "runner = ra.runAUTO()\n",
    "\n",
    "# first continatuon run\n",
    "\n",
    "# run and store result in mu\n",
    "mu = ac.run(e='cusp', c='cusp', runner=runner)\n",
    "\n",
    "# run backwards and append to mu\n",
    "mu = mu + ac.run(DS='-', runner=runner)\n",
    "\n",
    "# relabel solutions\n",
    "mu = mu.relabel()\n",
    "\n",
    "# save to b.mu, s.mu, and d.mu\n",
    "ac.save(mu,'mu')"
   ]
  },
  {
   "cell_type": "code",
   "execution_count": 4,
   "metadata": {
    "scrolled": true
   },
   "outputs": [
    {
     "data": {
      "image/png": "[encoded data removed]",
      "text/plain": [
       "<Figure size 432x288 with 1 Axes>"
      ]
     },
     "metadata": {
      "needs_background": "light"
     },
     "output_type": "display_data"
    }
   ],
   "source": [
    "# plot bifurcation diagram with matplotlib\n",
    "\n",
    "# extract relevant data for each branch\n",
    "branches = [ {\n",
    "    'x'      : br['x'],\n",
    "    'mu'     : br['mu'],\n",
    "    'lambda' : br['lambda']\n",
    "} for br in mu ]\n",
    "\n",
    "# draw plot\n",
    "plt.figure()\n",
    "for br in branches:\n",
    "    plt.plot( br['mu'], br['x'] )\n",
    "plt.xlabel('mu')\n",
    "plt.ylabel('x')\n",
    "plt.title('bifurcation diagram');"
   ]
  },
  {
   "cell_type": "code",
   "execution_count": 5,
   "metadata": {},
   "outputs": [
    {
     "name": "stdout",
     "output_type": "stream",
     "text": [
      "Runner configured\n",
      "Starting cusp ...\n",
      "\n",
      "  BR    PT  TY  LAB       mu         L2-NORM          x           lambda    \n",
      "   2    20       11   1.09209E+00   8.17354E-01  -8.17354E-01   2.00420E+00\n",
      "   2    34  UZ   12   1.99995E+00   9.99991E-01  -9.99991E-01   2.99995E+00\n",
      "\n",
      " Total Time    0.194E-01\n",
      "cusp ... done\n",
      "Starting cusp ...\n",
      "\n",
      "  BR    PT  TY  LAB       mu         L2-NORM          x           lambda    \n",
      "   2    20       11   5.42543E-02   3.00470E-01  -3.00470E-01   2.70847E-01\n",
      "   2    29  CP   12  -2.02770E-12   1.00472E-04   1.00472E-04   3.02839E-08\n",
      "   2    40       13  -9.09414E-02   3.56925E-01   3.56925E-01   3.82187E-01\n",
      "   2    60       14  -5.73716E-01   6.59512E-01   6.59512E-01   1.30487E+00\n",
      "   2    80       15  -1.68023E+00   9.43582E-01   9.43582E-01   2.67104E+00\n",
      "   2    85  UZ   16  -1.99995E+00   9.99992E-01   9.99992E-01   2.99995E+00\n",
      "\n",
      " Total Time    0.403E-01\n",
      "cusp ... done\n",
      "Saving to b.cusp, s.cusp, and d.cusp ... done\n"
     ]
    },
    {
     "name": "stderr",
     "output_type": "stream",
     "text": [
      "Note: The following floating-point exceptions are signalling: IEEE_UNDERFLOW_FLAG IEEE_DENORMAL\n",
      "Note: The following floating-point exceptions are signalling: IEEE_UNDERFLOW_FLAG IEEE_DENORMAL\n"
     ]
    }
   ],
   "source": [
    "# second continuation run\n",
    "\n",
    "# set new start label to first LP label in mu\n",
    "lp1 = ac.load(mu('LP1'), ISW=2, runner=runner)\n",
    "\n",
    "# continue from this label in two parameters\n",
    "cusp = ac.run(lp1, runner=runner)\n",
    "cusp = cusp + ac.run(DS='-', runner=runner)\n",
    "\n",
    "# save to b.cusp, s.cusp, and d.cusp\n",
    "ac.save(cusp,'cusp')"
   ]
  },
  {
   "cell_type": "code",
   "execution_count": 7,
   "metadata": {},
   "outputs": [
    {
     "data": {
      "image/png": "[encoded data removed]",
      "text/plain": [
       "<Figure size 432x288 with 1 Axes>"
      ]
     },
     "metadata": {
      "needs_background": "light"
     },
     "output_type": "display_data"
    }
   ],
   "source": [
    "# plot bifurcation diagram\n",
    "\n",
    "# extract relevant data for each branch\n",
    "branches = [ {\n",
    "    'x'      : br['x'],\n",
    "    'mu'     : br['mu'],\n",
    "    'lambda' : br['lambda']\n",
    "} for br in cusp ]\n",
    "\n",
    "# draw plot\n",
    "plt.figure()\n",
    "for br in branches:\n",
    "    plt.plot( br['mu'], br['lambda'] )\n",
    "plt.xlabel('mu')\n",
    "plt.ylabel('lambda')\n",
    "plt.title('bifurcation diagram')\n",
    "plt.show()"
   ]
  },
  {
   "cell_type": "code",
   "execution_count": 11,
   "metadata": {},
   "outputs": [
    {
     "name": "stdout",
     "output_type": "stream",
     "text": [
      "Deleting fort.* *.o *.exe *.*~ ... done\n"
     ]
    }
   ],
   "source": [
    "# clean up files\n",
    "\n",
    "ac.clean()\n",
    "ac.delete('cusp')\n",
    "ac.delete('mu')"
   ]
  }
 ],
 "metadata": {
  "kernelspec": {
   "display_name": "Python 3",
   "language": "python",
   "name": "python3"
  },
  "language_info": {
   "codemirror_mode": {
    "name": "ipython",
    "version": 3
   },
   "file_extension": ".py",
   "mimetype": "text/x-python",
   "name": "python",
   "nbconvert_exporter": "python",
   "pygments_lexer": "ipython3",
   "version": "3.8.5"
  }
 },
 "nbformat": 4,
 "nbformat_minor": 4
}
