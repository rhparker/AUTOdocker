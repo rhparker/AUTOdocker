{
 "cells": [
  {
   "cell_type": "code",
   "execution_count": 4,
   "metadata": {},
   "outputs": [
    {
     "data": {
      "text/plain": [
       "<pyvirtualdisplay.display.Display at 0x7f06807171c0>"
      ]
     },
     "execution_count": 4,
     "metadata": {},
     "output_type": "execute_result"
    }
   ],
   "source": [
    "# import os module\n",
    "import os\n",
    "\n",
    "# import AUTO modules\n",
    "from auto import AUTOCommands as ac\n",
    "from auto import AUTOclui as acl\n",
    "from auto import interactiveBindings as ib\n",
    "from auto import runAUTO as ra\n",
    "\n",
    "# import plotting tools\n",
    "import matplotlib as mpl\n",
    "from matplotlib import pyplot as plt\n",
    "\n",
    "# virtual display to use AUTO plot function\n",
    "from pyvirtualdisplay import Display\n",
    "from IPython.display import display as display\n",
    "from PIL import Image\n",
    "disp = Display(visible=0, size=(1366,768))\n",
    "disp.start()"
   ]
  },
  {
   "cell_type": "code",
   "execution_count": 5,
   "metadata": {},
   "outputs": [],
   "source": [
    "# use working directory for demo to avoid clutter\n",
    "folder = '/auto/workspace/demos/demo'\n",
    "os.chdir(folder)"
   ]
  },
  {
   "cell_type": "code",
   "execution_count": 8,
   "metadata": {},
   "outputs": [
    {
     "name": "stdout",
     "output_type": "stream",
     "text": [
      "Copying demo opt ... done\n",
      "\n",
      "Demo opt is started\n",
      "\n",
      "opt : first run : one free equation parameter\n",
      "gfortran -fopenmp -O -c opt.f90 -o opt.o\n",
      "gfortran -fopenmp -O opt.o -o opt.exe /auto/lib/*.o\n",
      "Starting opt ...\n",
      "\n",
      "  BR    PT  TY  LAB      FOPT        L2-NORM         U(1)        PAR(1)        PAR(2)        PAR(3)        PAR(4)     \n",
      "   1     1  EP    1   1.00000E+00   1.00000E+00   1.00000E+00   0.00000E+00   0.00000E+00   0.00000E+00   0.00000E+00\n",
      "   1    19  LP    2   1.41421E+00   7.07091E-01   7.07091E-01   7.07123E-01   0.00000E+00   0.00000E+00   0.00000E+00\n",
      "   1    25  EP    3   1.29995E+00   3.71523E-01   3.71523E-01   9.28424E-01   0.00000E+00   0.00000E+00   0.00000E+00\n",
      "\n",
      " Total Time    0.131E-01\n"
     ]
    },
    {
     "name": "stderr",
     "output_type": "stream",
     "text": [
      "Note: The following floating-point exceptions are signalling: IEEE_UNDERFLOW_FLAG IEEE_DENORMAL\n"
     ]
    },
    {
     "name": "stdout",
     "output_type": "stream",
     "text": [
      "opt ... done\n",
      "Saving to b.1, s.1, and d.1 ... done\n",
      "\n",
      "opt : second run : two free equation parameters\n",
      "Starting opt ...\n",
      "\n",
      "  BR    PT  TY  LAB      FOPT        L2-NORM         U(1)        PAR(1)        PAR(2)        PAR(3)        PAR(4)     \n",
      "   2    15  LP    4   1.73205E+00   5.77350E-01   5.77350E-01   5.77350E-01   5.77350E-01   0.00000E+00   0.00000E+00\n",
      "   2    25  EP    5   1.58659E+00   3.65097E-01   3.65097E-01   3.65097E-01   8.56393E-01   0.00000E+00   0.00000E+00\n",
      "\n",
      " Total Time    0.131E-01\n",
      "opt ... done\n",
      "Saving to b.2, s.2, and d.2 ... done\n",
      "\n",
      "opt : third run : three free equation parameters\n",
      "Starting opt ...\n",
      "\n",
      "  BR    PT  TY  LAB      FOPT        L2-NORM         U(1)        PAR(1)        PAR(2)        PAR(3)        PAR(4)     \n",
      "   4    13  LP    6   2.00000E+00   5.00000E-01   5.00000E-01   5.00000E-01   5.00000E-01   5.00000E-01   0.00000E+00\n",
      "   4    25  EP    7   1.76842E+00   3.07268E-01   3.07268E-01   3.07268E-01   3.07268E-01   8.46617E-01   0.00000E+00\n",
      "\n",
      " Total Time    0.126E-01\n",
      "opt ... done\n",
      "Saving to b.3, s.3, and d.3 ... done\n",
      "\n",
      "opt : fourth run : four free equation parameters\n",
      "Starting opt ...\n",
      "\n",
      "  BR    PT  TY  LAB      FOPT        L2-NORM         U(1)        PAR(1)        PAR(2)        PAR(3)        PAR(4)     \n",
      "   6    11  LP    8   2.23607E+00   4.47201E-01   4.47201E-01   4.47201E-01   4.47201E-01   4.47201E-01   4.47265E-01\n",
      "   6    25  EP    9   1.91005E+00   2.65746E-01   2.65746E-01   2.65746E-01   2.65746E-01   2.65746E-01   8.47063E-01\n",
      "\n",
      " Total Time    0.130E-01\n",
      "opt ... done\n",
      "Saving to b.4, s.4, and d.4 ... done\n"
     ]
    },
    {
     "name": "stderr",
     "output_type": "stream",
     "text": [
      "Note: The following floating-point exceptions are signalling: IEEE_UNDERFLOW_FLAG IEEE_DENORMAL\n",
      "Note: The following floating-point exceptions are signalling: IEEE_UNDERFLOW_FLAG IEEE_DENORMAL\n",
      "Note: The following floating-point exceptions are signalling: IEEE_UNDERFLOW_FLAG IEEE_DENORMAL\n"
     ]
    }
   ],
   "source": [
    "# copy demo into current directory\n",
    "ac.copydemo('opt')\n",
    "\n",
    "# start AUTO with runner object\n",
    "runner = ra.runAUTO()\n",
    "\n",
    "pgm = \"opt\"\n",
    "print(\"\\nDemo %s is started\"%pgm)\n",
    "print(\"\\n%s : first run : one free equation parameter\"%pgm)\n",
    "r1 = ac.run(e=pgm,c=pgm,runner=runner)\n",
    "ac.save(r1,'1')\n",
    "\n",
    "print(\"\\n%s : second run : two free equation parameters\"%pgm)\n",
    "r2 = ac.run(r1(\"LP1\"),runner=runner)\n",
    "ac.save(r2,'2')\n",
    "\n",
    "print(\"\\n%s : third run : three free equation parameters\"%pgm)\n",
    "r3 = ac.run(r2(\"LP1\"),runner=runner)\n",
    "ac.save(r3,'3')\n",
    "\n",
    "print(\"\\n%s : fourth run : four free equation parameters\"%pgm)\n",
    "r4 = ac.run(r3(\"LP1\"),runner=runner)\n",
    "ac.save(r4,'4')"
   ]
  },
  {
   "cell_type": "code",
   "execution_count": 9,
   "metadata": {},
   "outputs": [
    {
     "name": "stdout",
     "output_type": "stream",
     "text": [
      "Created plot\n"
     ]
    },
    {
     "data": {
      "image/png": "[encoded data removed]",
      "text/plain": [
       "<PIL.PngImagePlugin.PngImageFile image mode=RGBA size=600x480 at 0x7F065C17F910>"
      ]
     },
     "metadata": {},
     "output_type": "display_data"
    }
   ],
   "source": [
    "# plot bifurcation diagram using plot routine from AUTO\n",
    "\n",
    "p = ac.plot('4')\n",
    "p.config(stability=True, grid=False)\n",
    "p.savefig('b.png')\n",
    "display(Image.open('b.png'))"
   ]
  },
  {
   "cell_type": "code",
   "execution_count": 10,
   "metadata": {
    "scrolled": false
   },
   "outputs": [
    {
     "name": "stdout",
     "output_type": "stream",
     "text": [
      "Deleting b.1 ... done\n",
      "Deleting s.1 ... done\n",
      "Deleting d.1 ... done\n",
      "Deleting b.2 ... done\n",
      "Deleting s.2 ... done\n",
      "Deleting d.2 ... done\n",
      "Deleting b.3 ... done\n",
      "Deleting s.3 ... done\n",
      "Deleting d.3 ... done\n",
      "Deleting b.4 ... done\n",
      "Deleting s.4 ... done\n",
      "Deleting d.4 ... done\n",
      "Deleting fort.* *.o *.exe *.*~ ... done\n"
     ]
    }
   ],
   "source": [
    "# clean up files\n",
    "\n",
    "ac.delete('1')\n",
    "ac.delete('2')\n",
    "ac.delete('3')\n",
    "ac.delete('4')\n",
    "ac.clean()"
   ]
  }
 ],
 "metadata": {
  "kernelspec": {
   "display_name": "Python 3",
   "language": "python",
   "name": "python3"
  },
  "language_info": {
   "codemirror_mode": {
    "name": "ipython",
    "version": 3
   },
   "file_extension": ".py",
   "mimetype": "text/x-python",
   "name": "python",
   "nbconvert_exporter": "python",
   "pygments_lexer": "ipython3",
   "version": "3.8.5"
  }
 },
 "nbformat": 4,
 "nbformat_minor": 4
}
