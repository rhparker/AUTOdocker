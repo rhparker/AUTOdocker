{
 "cells": [
  {
   "cell_type": "code",
   "execution_count": 2,
   "metadata": {},
   "outputs": [
    {
     "data": {
      "text/plain": [
       "<pyvirtualdisplay.display.Display at 0x7f34e0fc8d90>"
      ]
     },
     "execution_count": 2,
     "metadata": {},
     "output_type": "execute_result"
    }
   ],
   "source": [
    "# import os module\n",
    "import os\n",
    "\n",
    "# import AUTO modules\n",
    "from auto import AUTOCommands as ac\n",
    "from auto import AUTOclui as acl\n",
    "from auto import interactiveBindings as ib\n",
    "from auto import runAUTO as ra\n",
    "\n",
    "# import plotting tools\n",
    "import matplotlib as mpl\n",
    "from matplotlib import pyplot as plt\n",
    "\n",
    "# virtual display to use AUTO plot function\n",
    "from pyvirtualdisplay import Display\n",
    "from IPython.display import display as display\n",
    "from PIL import Image\n",
    "disp = Display(visible=0, size=(1366,768))\n",
    "disp.start()"
   ]
  },
  {
   "cell_type": "code",
   "execution_count": 3,
   "metadata": {},
   "outputs": [],
   "source": [
    "# use working directory for demo to avoid clutter\n",
    "folder = '/auto/workspace/demos/demo'\n",
    "os.chdir(folder)"
   ]
  },
  {
   "cell_type": "code",
   "execution_count": 6,
   "metadata": {},
   "outputs": [
    {
     "name": "stdout",
     "output_type": "stream",
     "text": [
      "Copying demo lin ... done\n",
      "\n",
      "Demo lin is started\n",
      "\n",
      "lin : first run : compute trivial solutions and locate eigenvalues\n",
      "gfortran -fopenmp -O -c lin.f90 -o lin.o\n",
      "gfortran -fopenmp -O lin.o -o lin.exe /auto/lib/*.o\n",
      "Starting lin ...\n",
      "\n",
      "  BR    PT  TY  LAB    PAR(1)        L2-NORM       MAX U(1)      MAX U(2)      PAR(3)     \n",
      "   1     1  EP    1   0.00000E+00   0.00000E+00   0.00000E+00   0.00000E+00   0.00000E+00\n",
      "   1     6  BP    2   1.00000E+00   0.00000E+00   0.00000E+00   0.00000E+00   0.00000E+00\n",
      "   1    12  BP    3   2.00000E+00   0.00000E+00   0.00000E+00   0.00000E+00   0.00000E+00\n",
      "   1    18  BP    4   3.00002E+00   0.00000E+00   0.00000E+00   0.00000E+00   0.00000E+00\n",
      "   1    24  BP    5   4.00023E+00   0.00000E+00   0.00000E+00   0.00000E+00   0.00000E+00\n",
      "   1    29  UZ    6   5.00000E+00   0.00000E+00   0.00000E+00   0.00000E+00   0.00000E+00\n",
      "\n",
      " Total Time    0.262E-01\n"
     ]
    },
    {
     "name": "stderr",
     "output_type": "stream",
     "text": [
      "Note: The following floating-point exceptions are signalling: IEEE_UNDERFLOW_FLAG IEEE_DENORMAL\n"
     ]
    },
    {
     "name": "stdout",
     "output_type": "stream",
     "text": [
      "lin ... done\n",
      "\n",
      "lin : second run : compute a few steps on the bifurcating branch\n",
      "Starting lin ...\n",
      "\n",
      "  BR    PT  TY  LAB    PAR(1)        L2-NORM       MAX U(1)      MAX U(2)      PAR(3)     \n",
      "   2    10  UZ    7   1.00000E+00   3.29690E+00   0.00000E+00   4.44287E+00   9.99994E-01\n",
      "\n",
      " Total Time    0.168E-01\n",
      "lin ... done\n",
      "Saving to b.lin, s.lin, and d.lin ... done\n",
      "\n",
      "lin : third run : compute a 2-parameter curve of eigenvalues\n",
      "Starting lin ...\n",
      "\n",
      "  BR    PT  TY  LAB    PAR(1)        L2-NORM       MAX U(1)      MAX U(2)      PAR(2)     \n",
      "   2    23  EP    8   1.72433E+00   5.04425E+00   1.35095E+00   7.33418E+00   1.03136E+00\n",
      "\n",
      " Total Time    0.206E-01\n",
      "lin ... done\n",
      "Saving to b.2p, s.2p, and d.2p ... done\n"
     ]
    }
   ],
   "source": [
    "# copy demo into current directory\n",
    "ac.copydemo('lin')\n",
    "\n",
    "# start AUTO with runner object\n",
    "runner = ra.runAUTO()\n",
    "\n",
    "pgm = \"lin\"\n",
    "print(\"\\nDemo %s is started\"%pgm)\n",
    "print(\"\\n%s : first run : compute trivial solutions and locate eigenvalues\"%pgm)\n",
    "r1 = ac.run(e=pgm,c=pgm,runner=runner)\n",
    "\n",
    "print(\"\\n%s : second run : compute a few steps on the bifurcating branch\"%pgm)\n",
    "r2 = ac.run(r1(\"BP1\"),NTST=6,ISW=-1,DSMAX=0.5,A1=5.0,runner=runner)\n",
    "ac.save(r1+r2,'lin')\n",
    "\n",
    "print(\"\\n%s : third run : compute a 2-parameter curve of eigenvalues\"%pgm)\n",
    "r3 = ac.run(r2(\"UZ1\"),ICP=[1,2],NTST=5,ISW=1,runner=runner)\n",
    "ac.save(r3,'2p')"
   ]
  },
  {
   "cell_type": "code",
   "execution_count": 7,
   "metadata": {},
   "outputs": [
    {
     "name": "stdout",
     "output_type": "stream",
     "text": [
      "Created plot\n"
     ]
    },
    {
     "data": {
      "image/png": "[encoded data removed]",
      "text/plain": [
       "<PIL.PngImagePlugin.PngImageFile image mode=RGBA size=600x480 at 0x7F34C12D9130>"
      ]
     },
     "metadata": {},
     "output_type": "display_data"
    }
   ],
   "source": [
    "# plot bifurcation diagram using plot routine from AUTO\n",
    "\n",
    "p = ac.plot('2p')\n",
    "p.config(stability=True, grid=False)\n",
    "p.savefig('b.png')\n",
    "display(Image.open('b.png'))"
   ]
  },
  {
   "cell_type": "code",
   "execution_count": 8,
   "metadata": {
    "scrolled": true
   },
   "outputs": [
    {
     "name": "stdout",
     "output_type": "stream",
     "text": [
      "Deleting fort.* *.o *.exe *.*~ ... done\n",
      "Deleting b.lin ... done\n",
      "Deleting s.lin ... done\n",
      "Deleting d.lin ... done\n",
      "Deleting b.2p ... done\n",
      "Deleting s.2p ... done\n",
      "Deleting d.2p ... done\n"
     ]
    }
   ],
   "source": [
    "# clean up files\n",
    "\n",
    "ac.clean()\n",
    "ac.delete('lin')\n",
    "ac.delete('2p')"
   ]
  },
  {
   "cell_type": "code",
   "execution_count": null,
   "metadata": {},
   "outputs": [],
   "source": []
  }
 ],
 "metadata": {
  "kernelspec": {
   "display_name": "Python 3",
   "language": "python",
   "name": "python3"
  },
  "language_info": {
   "codemirror_mode": {
    "name": "ipython",
    "version": 3
   },
   "file_extension": ".py",
   "mimetype": "text/x-python",
   "name": "python",
   "nbconvert_exporter": "python",
   "pygments_lexer": "ipython3",
   "version": "3.8.5"
  }
 },
 "nbformat": 4,
 "nbformat_minor": 4
}
