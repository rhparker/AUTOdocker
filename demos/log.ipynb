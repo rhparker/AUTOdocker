{
 "cells": [
  {
   "cell_type": "code",
   "execution_count": 2,
   "metadata": {},
   "outputs": [
    {
     "data": {
      "text/plain": [
       "<pyvirtualdisplay.display.Display at 0x7f7c1d68c2e0>"
      ]
     },
     "execution_count": 2,
     "metadata": {},
     "output_type": "execute_result"
    }
   ],
   "source": [
    "# import os module\n",
    "import os\n",
    "\n",
    "# import AUTO modules\n",
    "from auto import AUTOCommands as ac\n",
    "from auto import AUTOclui as acl\n",
    "from auto import interactiveBindings as ib\n",
    "from auto import runAUTO as ra\n",
    "\n",
    "# import plotting tools\n",
    "import matplotlib as mpl\n",
    "from matplotlib import pyplot as plt\n",
    "\n",
    "# virtual display to use AUTO plot function (pyplot)\n",
    "from pyvirtualdisplay import Display\n",
    "from IPython.display import display as display\n",
    "from PIL import Image\n",
    "disp = Display(visible=0, size=(1366,768))\n",
    "disp.start()"
   ]
  },
  {
   "cell_type": "code",
   "execution_count": 3,
   "metadata": {},
   "outputs": [],
   "source": [
    "# use working directory for demo to avoid clutter\n",
    "folder = '/auto/workspace/demos/demo'\n",
    "os.chdir(folder)"
   ]
  },
  {
   "cell_type": "code",
   "execution_count": 8,
   "metadata": {},
   "outputs": [
    {
     "name": "stdout",
     "output_type": "stream",
     "text": [
      "Copying demo log ... done\n",
      "\n",
      "Demo log is started\n",
      "\n",
      "log : first run : fixed point solution branch\n",
      "gfortran -fopenmp -O -c log.f90 -o log.o\n",
      "gfortran -fopenmp -O log.o -o log.exe /auto/lib/*.o\n",
      "Starting log ...\n",
      "\n",
      "  BR    PT  TY  LAB       mu         L2-NORM          x       \n",
      "   1     1  EP    1   0.00000E+00   0.00000E+00   0.00000E+00\n",
      "   1    58  BP    2   1.00000E+00   0.00000E+00   0.00000E+00\n",
      "   1   188  UZ    3   3.60000E+00   0.00000E+00   0.00000E+00\n",
      "\n",
      "  BR    PT  TY  LAB       mu         L2-NORM          x       \n",
      "   2   227  PD    4   3.00000E+00   6.66667E-01   6.66667E-01\n",
      "   2   258  UZ    5   3.60000E+00   7.22222E-01   7.22222E-01\n",
      "\n",
      " Total Time    0.131E+00\n",
      "log ... done\n",
      "Saving fort.7 as b.log ... done\n",
      "Saving fort.8 as s.log ... done\n",
      "Saving fort.9 as d.log ... done\n",
      "\n",
      "log : perform 5 period-doublings\n",
      "Starting log ...\n",
      "\n",
      "  BR    PT  TY  LAB       mu         L2-NORM          x       \n",
      "   3   185  PD    6   3.44949E+00   4.39960E-01   4.39960E-01\n",
      "   3   194  UZ    7   3.60000E+00   4.08149E-01   4.08149E-01\n",
      "\n",
      " Total Time    0.631E-01\n",
      "log ... done\n"
     ]
    },
    {
     "name": "stderr",
     "output_type": "stream",
     "text": [
      "Note: The following floating-point exceptions are signalling: IEEE_UNDERFLOW_FLAG IEEE_DENORMAL\n",
      "Note: The following floating-point exceptions are signalling: IEEE_UNDERFLOW_FLAG IEEE_DENORMAL\n"
     ]
    },
    {
     "name": "stdout",
     "output_type": "stream",
     "text": [
      "Appending fort.7 to b.log ... done\n",
      "Appending fort.8 to s.log ... done\n",
      "Appending fort.9 to d.log ... done\n",
      "Starting log ...\n",
      "\n",
      "  BR    PT  TY  LAB       mu         L2-NORM          x       \n",
      "   4   127  PD    8   3.54409E+00   5.23595E-01   5.23595E-01\n",
      "   4   138  UZ    9   3.60000E+00   5.45499E-01   5.45499E-01\n",
      "\n",
      " Total Time    0.481E-01\n",
      "log ... done\n",
      "Appending fort.7 to b.log ... done\n",
      "Appending fort.8 to s.log ... done\n",
      "Appending fort.9 to d.log ... done\n",
      "Starting log ...\n",
      "\n",
      "  BR    PT  TY  LAB       mu         L2-NORM          x       \n",
      "   5    83  PD   10   3.56441E+00   4.90608E-01   4.90608E-01\n",
      "   5   108  UZ   11   3.60000E+00   4.68120E-01   4.68120E-01\n",
      "\n",
      " Total Time    0.416E-01\n",
      "log ... done\n",
      "Appending fort.7 to b.log ... done\n",
      "Appending fort.8 to s.log ... done\n",
      "Appending fort.9 to d.log ... done\n",
      "Starting log ...\n",
      "\n",
      "  BR    PT  TY  LAB       mu         L2-NORM          x       \n",
      "   6    45  PD   12   3.56876E+00   5.03750E-01   5.03750E-01\n"
     ]
    },
    {
     "name": "stderr",
     "output_type": "stream",
     "text": [
      "Note: The following floating-point exceptions are signalling: IEEE_UNDERFLOW_FLAG IEEE_DENORMAL\n",
      "Note: The following floating-point exceptions are signalling: IEEE_UNDERFLOW_FLAG IEEE_DENORMAL\n"
     ]
    },
    {
     "name": "stdout",
     "output_type": "stream",
     "text": [
      "   6    83  UZ   13   3.60000E+00   5.29808E-01   5.29808E-01\n",
      "\n",
      " Total Time    0.379E-01\n",
      "log ... done\n",
      "Appending fort.7 to b.log ... done\n",
      "Appending fort.8 to s.log ... done\n",
      "Appending fort.9 to d.log ... done\n",
      "Starting log ...\n",
      "\n",
      "  BR    PT  TY  LAB       mu         L2-NORM          x       \n",
      "   7    26  PD   14   3.56969E+00   4.98502E-01   4.98502E-01\n",
      "   7    93  UZ   15   3.60000E+00   4.70261E-01   4.70261E-01\n",
      "\n",
      " Total Time    0.414E-01\n",
      "log ... done\n",
      "Appending fort.7 to b.log ... done\n",
      "Appending fort.8 to s.log ... done\n",
      "Appending fort.9 to d.log ... done\n",
      "Relabeling succeeded\n",
      "Relabeling done\n",
      "Approximation of Feigenbaum constant: 4.66883518193426\n"
     ]
    },
    {
     "name": "stderr",
     "output_type": "stream",
     "text": [
      "Note: The following floating-point exceptions are signalling: IEEE_UNDERFLOW_FLAG IEEE_DENORMAL\n",
      "Note: The following floating-point exceptions are signalling: IEEE_UNDERFLOW_FLAG IEEE_DENORMAL\n"
     ]
    }
   ],
   "source": [
    "# copy demo into current directory\n",
    "ac.copydemo('log')\n",
    "\n",
    "# start AUTO with runner object\n",
    "runner = ra.runAUTO()\n",
    "\n",
    "print(\"\\nDemo log is started\")\n",
    "print(\"\\nlog : first run : fixed point solution branch\")\n",
    "r = ac.run(\"log\", runner=runner)\n",
    "ac.save(\"log\")\n",
    "\n",
    "print(\"\\nlog : perform 5 period-doublings\")\n",
    "olddiff = 1\n",
    "for i in range(5):\n",
    "    mu = r('PD1')['mu']\n",
    "    r = ac.run(r('PD1'),ISW=-1,SP=['BP0'], runner=runner)\n",
    "    ac.append(\"log\")\n",
    "    diff = r('PD1')['mu'] - mu\n",
    "    feig = olddiff/diff\n",
    "    olddiff = diff\n",
    "\n",
    "ac.relabel(\"log\")\n",
    "print('Approximation of Feigenbaum constant: %s'%feig)"
   ]
  },
  {
   "cell_type": "code",
   "execution_count": 9,
   "metadata": {},
   "outputs": [
    {
     "name": "stdout",
     "output_type": "stream",
     "text": [
      "Created plot\n"
     ]
    },
    {
     "data": {
      "image/png": "[encoded data removed]",
      "text/plain": [
       "<PIL.PngImagePlugin.PngImageFile image mode=RGBA size=600x480 at 0x7F7C1C2F53A0>"
      ]
     },
     "metadata": {},
     "output_type": "display_data"
    }
   ],
   "source": [
    "# plot bifurcation diagram using plot routine from AUTO\n",
    "\n",
    "p = ac.plot('log')\n",
    "p.savefig('b.png')\n",
    "display(Image.open('b.png'))"
   ]
  },
  {
   "cell_type": "code",
   "execution_count": 10,
   "metadata": {
    "scrolled": true
   },
   "outputs": [
    {
     "name": "stdout",
     "output_type": "stream",
     "text": [
      "Deleting fort.* *.o *.exe *.*~ ... done\n",
      "Deleting b.log ... done\n",
      "Deleting s.log ... done\n",
      "Deleting d.log ... done\n"
     ]
    }
   ],
   "source": [
    "# clean up files\n",
    "\n",
    "ac.clean()\n",
    "ac.delete('log')"
   ]
  }
 ],
 "metadata": {
  "kernelspec": {
   "display_name": "Python 3",
   "language": "python",
   "name": "python3"
  },
  "language_info": {
   "codemirror_mode": {
    "name": "ipython",
    "version": 3
   },
   "file_extension": ".py",
   "mimetype": "text/x-python",
   "name": "python",
   "nbconvert_exporter": "python",
   "pygments_lexer": "ipython3",
   "version": "3.8.5"
  }
 },
 "nbformat": 4,
 "nbformat_minor": 4
}
