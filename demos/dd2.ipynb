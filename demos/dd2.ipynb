{
 "cells": [
  {
   "cell_type": "code",
   "execution_count": 2,
   "metadata": {},
   "outputs": [
    {
     "data": {
      "text/plain": [
       "<pyvirtualdisplay.display.Display at 0x7f8b0181b310>"
      ]
     },
     "execution_count": 2,
     "metadata": {},
     "output_type": "execute_result"
    }
   ],
   "source": [
    "# import os module\n",
    "import os\n",
    "\n",
    "# import AUTO modules\n",
    "from auto import AUTOCommands as ac\n",
    "from auto import AUTOclui as acl\n",
    "from auto import interactiveBindings as ib\n",
    "from auto import runAUTO as ra\n",
    "\n",
    "# import plotting tools\n",
    "import matplotlib as mpl\n",
    "from matplotlib import pyplot as plt\n",
    "\n",
    "# virtual display to use AUTO plot function (pyplot)\n",
    "from pyvirtualdisplay import Display\n",
    "from IPython.display import display as display\n",
    "from PIL import Image\n",
    "disp = Display(visible=0, size=(1366,768))\n",
    "disp.start()"
   ]
  },
  {
   "cell_type": "code",
   "execution_count": 3,
   "metadata": {},
   "outputs": [],
   "source": [
    "# use working directory for demo to avoid clutter\n",
    "folder = '/auto/workspace/demos/demo'\n",
    "os.chdir(folder)"
   ]
  },
  {
   "cell_type": "code",
   "execution_count": 5,
   "metadata": {},
   "outputs": [
    {
     "name": "stdout",
     "output_type": "stream",
     "text": [
      "Copying demo dd2 ... done\n",
      "\n",
      "Demo dd2 is started\n",
      "\n",
      "dd2 : first run : fixed point solution branches\n",
      "gfortran -fopenmp -O -c dd2.f90 -o dd2.o\n",
      "gfortran -fopenmp -O dd2.o -o dd2.exe /auto/lib/*.o\n",
      "Starting dd2 ...\n",
      "\n",
      "  BR    PT  TY  LAB       p1         L2-NORM          u1            u2      \n",
      "   1     1  EP    1   0.00000E+00   0.00000E+00   0.00000E+00   0.00000E+00\n",
      "   1    13  BP    2   1.00000E+00   0.00000E+00   0.00000E+00   0.00000E+00\n",
      "   1    53  UZ    3   5.00000E+00   0.00000E+00   0.00000E+00   0.00000E+00\n",
      "\n",
      "  BR    PT  TY  LAB       p1         L2-NORM          u1            u2      \n",
      "   2    38  BP    4   2.00000E+00   5.00000E-01   5.00000E-01   0.00000E+00\n",
      "   2    49  PD    5   3.00000E+00   6.66667E-01   6.66667E-01   0.00000E+00\n",
      "   2    70  UZ    6   5.00000E+00   8.00000E-01   8.00000E-01   0.00000E+00\n",
      "\n",
      "  BR    PT  TY  LAB       p1         L2-NORM          u1            u2      \n",
      "   2    85  EP    7   1.65467E-01   5.04349E+00  -5.04349E+00   0.00000E+00\n",
      "\n",
      "  BR    PT  TY  LAB       p1         L2-NORM          u1            u2      \n",
      "   3    58  EP    8   3.99862E+00   5.02150E+00   5.00000E-01   4.99654E+00\n",
      "\n",
      "  BR    PT  TY  LAB       p1         L2-NORM          u1            u2      \n",
      "   3    58  EP    9   1.38315E-03   5.02150E+00   5.00000E-01  -4.99654E+00\n",
      "\n",
      " Total Time    0.100E+00\n",
      "dd2 ... done\n",
      "Saving to b.dd2, s.dd2, and d.dd2 ... done\n",
      "\n",
      "dd2 : second run : a 2-parameter curve of period-doubling bifurcations\n",
      "Starting dd2 ...\n",
      "\n",
      "  BR    PT  TY  LAB       p1         L2-NORM          u1            u2            p2      \n",
      "   5   100  EP   10   3.00000E+00   6.66667E-01   6.66667E-01   2.26804E-33   9.96000E+00\n",
      "\n",
      " Total Time    0.380E-01\n",
      "dd2 ... done\n",
      "Saving to b.pd, s.pd, and d.pd ... done\n",
      "\n",
      "dd2 : third run : perform a period-doubling\n",
      "Starting dd2 ...\n",
      "\n",
      "  BR    PT  TY  LAB       p1         L2-NORM          u1            u2      \n",
      "   4    23  PD   10   3.44949E+00   4.39959E-01   4.39959E-01   0.00000E+00\n",
      "   4    42  UZ   11   5.00000E+00   2.53590E-01   2.53590E-01   0.00000E+00\n",
      "\n",
      " Total Time    0.237E-01\n"
     ]
    },
    {
     "name": "stderr",
     "output_type": "stream",
     "text": [
      "Note: The following floating-point exceptions are signalling: IEEE_UNDERFLOW_FLAG IEEE_DENORMAL\n",
      "Note: The following floating-point exceptions are signalling: IEEE_UNDERFLOW_FLAG IEEE_DENORMAL\n",
      "Note: The following floating-point exceptions are signalling: IEEE_UNDERFLOW_FLAG IEEE_DENORMAL\n"
     ]
    },
    {
     "name": "stdout",
     "output_type": "stream",
     "text": [
      "dd2 ... done\n",
      "Appending to b.dd2, s.dd2 and d.dd2 ... done\n",
      "\n",
      "dd2 : fourth run : perform another period-doubling (period-4)\n",
      "Starting dd2 ...\n",
      "\n",
      "  BR    PT  TY  LAB       p1         L2-NORM          u1            u2      \n",
      "   5     8  PD   12   3.54410E+00   5.23599E-01   5.23599E-01   0.00000E+00\n",
      "   5    35  UZ   13   5.00000E+00   7.42124E-01   7.42124E-01   0.00000E+00\n",
      "\n",
      " Total Time    0.285E-01\n",
      "dd2 ... done\n",
      "Appending to b.dd2, s.dd2 and d.dd2 ... done\n"
     ]
    },
    {
     "name": "stderr",
     "output_type": "stream",
     "text": [
      "Note: The following floating-point exceptions are signalling: IEEE_UNDERFLOW_FLAG IEEE_DENORMAL\n"
     ]
    }
   ],
   "source": [
    "# copy demo into current directory\n",
    "ac.copydemo('dd2')\n",
    "\n",
    "# start AUTO with runner object\n",
    "runner = ra.runAUTO()\n",
    "\n",
    "print(\"\\nDemo dd2 is started\")\n",
    "print(\"\\ndd2 : first run : fixed point solution branches\")\n",
    "r1 = ac.run( e='dd2', c='dd2', runner=runner)\n",
    "ac.save(r1,\"dd2\")\n",
    "\n",
    "print(\"\\ndd2 : second run : a 2-parameter curve of period-doubling bifurcations\")\n",
    "r2 = ac.run(r1(\"PD1\"),ICP=[1,2],ISW=2, runner=runner)\n",
    "ac.save(r2,\"pd\")\n",
    "\n",
    "print(\"\\ndd2 : third run : perform a period-doubling\")\n",
    "r3 = ac.run(r1(\"PD1\"),ISW=-1, runner=runner)\n",
    "ac.append(r3,\"dd2\")\n",
    "\n",
    "print(\"\\ndd2 : fourth run : perform another period-doubling (period-4)\")\n",
    "r4 = ac.run(r3(\"PD1\"), runner=runner)\n",
    "ac.append(r4,\"dd2\")"
   ]
  },
  {
   "cell_type": "code",
   "execution_count": 7,
   "metadata": {},
   "outputs": [
    {
     "name": "stdout",
     "output_type": "stream",
     "text": [
      "Created plot\n"
     ]
    },
    {
     "data": {
      "image/png": "[encoded data removed]",
      "text/plain": [
       "<PIL.PngImagePlugin.PngImageFile image mode=RGBA size=600x480 at 0x7F8AD94B89A0>"
      ]
     },
     "metadata": {},
     "output_type": "display_data"
    }
   ],
   "source": [
    "# plot bifurcation diagram using plot routine from AUTO\n",
    "\n",
    "p = ac.plot('dd2')\n",
    "p.savefig('b.png')\n",
    "display(Image.open('b.png'))"
   ]
  },
  {
   "cell_type": "code",
   "execution_count": 8,
   "metadata": {
    "scrolled": true
   },
   "outputs": [
    {
     "name": "stdout",
     "output_type": "stream",
     "text": [
      "Deleting fort.* *.o *.exe *.*~ ... done\n",
      "Deleting b.dd2 ... done\n",
      "Deleting s.dd2 ... done\n",
      "Deleting d.dd2 ... done\n"
     ]
    }
   ],
   "source": [
    "# clean up files\n",
    "\n",
    "ac.clean()\n",
    "ac.delete('dd2')\n",
    "ac.delete('pd')"
   ]
  }
 ],
 "metadata": {
  "kernelspec": {
   "display_name": "Python 3",
   "language": "python",
   "name": "python3"
  },
  "language_info": {
   "codemirror_mode": {
    "name": "ipython",
    "version": 3
   },
   "file_extension": ".py",
   "mimetype": "text/x-python",
   "name": "python",
   "nbconvert_exporter": "python",
   "pygments_lexer": "ipython3",
   "version": "3.8.5"
  }
 },
 "nbformat": 4,
 "nbformat_minor": 4
}
