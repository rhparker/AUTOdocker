{
 "cells": [
  {
   "cell_type": "code",
   "execution_count": 1,
   "metadata": {},
   "outputs": [
    {
     "data": {
      "text/plain": [
       "<pyvirtualdisplay.display.Display at 0x7f18e403ed30>"
      ]
     },
     "execution_count": 1,
     "metadata": {},
     "output_type": "execute_result"
    }
   ],
   "source": [
    "# import os module\n",
    "import os\n",
    "\n",
    "# import AUTO modules\n",
    "from auto import AUTOCommands as ac\n",
    "from auto import AUTOclui as acl\n",
    "from auto import interactiveBindings as ib\n",
    "from auto import runAUTO as ra\n",
    "\n",
    "# import plotting tools\n",
    "import matplotlib as mpl\n",
    "from matplotlib import pyplot as plt\n",
    "\n",
    "# virtual display to use AUTO plot function\n",
    "from pyvirtualdisplay import Display\n",
    "from IPython.display import display as display\n",
    "from PIL import Image\n",
    "disp = Display(visible=0, size=(1366,768))\n",
    "disp.start()"
   ]
  },
  {
   "cell_type": "code",
   "execution_count": 2,
   "metadata": {},
   "outputs": [],
   "source": [
    "# use working directory for demo to avoid clutter\n",
    "folder = '/auto/workspace/demos/demo'\n",
    "os.chdir(folder)"
   ]
  },
  {
   "cell_type": "code",
   "execution_count": 4,
   "metadata": {},
   "outputs": [
    {
     "name": "stdout",
     "output_type": "stream",
     "text": [
      "Copying demo kar ... done\n",
      "\n",
      "Demo kar is started\n",
      "\n",
      "kar : computation of the solution branch\n",
      "gfortran -fopenmp -O -c kar.f90 -o kar.o\n",
      "gfortran -fopenmp -O kar.o -o kar.exe /auto/lib/*.o\n",
      "Starting kar ...\n",
      "\n",
      "  BR    PT  TY  LAB    PAR(1)        L2-NORM       MAX U(1)      MAX U(2)      MAX U(3)      MAX U(4)      MAX U(5)      PAR(2)     \n",
      "   1     1  EP    1   1.00000E+00   0.00000E+00   0.00000E+00   0.00000E+00   0.00000E+00   0.00000E+00   0.00000E+00  -0.00000E+00\n",
      "   1    19  UZ    2  -8.44948E-03   4.38682E-01   4.37056E-01   1.79949E-01   5.09252E-01   1.00845E+00   3.99893E-09  -4.37056E-01\n",
      "   1    27  LP    3  -1.60539E-01   1.49967E-01   2.25399E-01   1.52257E-01   4.73554E-01   1.16054E+00   1.02403E-02   1.37187E-01\n",
      "   1    70  UZ    4   3.35340E-05   2.73290E-01   2.28395E-01   1.98020E-01   4.99043E-01   9.99966E-01   6.81535E-02  -2.23847E-01\n",
      "   1    93  LP    5   7.45256E-02   2.72868E-01   2.24381E-01   1.66959E-01   4.94032E-01   9.25474E-01   5.94758E-02   2.25032E-01\n",
      "   1   127  UZ    6  -3.84820E-05   9.69987E-01   2.28419E-01   2.93544E-01   4.99043E-01   1.00004E+00   6.80710E-02  -1.93673E-01\n",
      "   1   167  LP    7  -5.74120E-02   4.59226E-01   2.25345E-01   1.79423E-01   4.96081E-01   1.05741E+00   6.30614E-02   2.17048E-01\n",
      "   1   231  MX    8  -4.24849E-04   5.52748E+00   2.28169E-01   5.34930E-01   4.99043E-01   1.00042E+00   6.80047E-02  -1.87116E-01\n",
      "\n",
      " Total Time    0.316E+00\n",
      "kar ... done\n",
      "Saving to b.kar, s.kar, and d.kar ... done\n"
     ]
    }
   ],
   "source": [
    "# copy demo into current directory\n",
    "ac.copydemo('kar')\n",
    "\n",
    "# start AUTO with runner object\n",
    "runner = ra.runAUTO()\n",
    "\n",
    "pgm = \"kar\"\n",
    "print(\"\\nDemo %s is started\"%pgm)\n",
    "print(\"\\n%s : computation of the solution branch\"%pgm)\n",
    "r1 = ac.run(e=pgm,c=pgm,runner=runner)\n",
    "ac.save(r1,pgm)"
   ]
  },
  {
   "cell_type": "code",
   "execution_count": 6,
   "metadata": {},
   "outputs": [
    {
     "name": "stdout",
     "output_type": "stream",
     "text": [
      "Created plot\n"
     ]
    },
    {
     "data": {
      "image/png": "[encoded data removed]",
      "text/plain": [
       "<PIL.PngImagePlugin.PngImageFile image mode=RGBA size=600x480 at 0x7F18BD15DCA0>"
      ]
     },
     "metadata": {},
     "output_type": "display_data"
    }
   ],
   "source": [
    "# plot bifurcation diagram using plot routine from AUTO\n",
    "\n",
    "p = ac.plot('kar')\n",
    "p.config(grid=False)\n",
    "p.savefig('b.png')\n",
    "display(Image.open('b.png'))"
   ]
  },
  {
   "cell_type": "code",
   "execution_count": 7,
   "metadata": {
    "scrolled": true
   },
   "outputs": [
    {
     "name": "stdout",
     "output_type": "stream",
     "text": [
      "Deleting fort.* *.o *.exe *.*~ ... done\n",
      "Deleting b.kar ... done\n",
      "Deleting s.kar ... done\n",
      "Deleting d.kar ... done\n"
     ]
    }
   ],
   "source": [
    "# clean up files\n",
    "\n",
    "ac.clean()\n",
    "ac.delete('kar')"
   ]
  },
  {
   "cell_type": "code",
   "execution_count": null,
   "metadata": {},
   "outputs": [],
   "source": []
  }
 ],
 "metadata": {
  "kernelspec": {
   "display_name": "Python 3",
   "language": "python",
   "name": "python3"
  },
  "language_info": {
   "codemirror_mode": {
    "name": "ipython",
    "version": 3
   },
   "file_extension": ".py",
   "mimetype": "text/x-python",
   "name": "python",
   "nbconvert_exporter": "python",
   "pygments_lexer": "ipython3",
   "version": "3.8.5"
  }
 },
 "nbformat": 4,
 "nbformat_minor": 4
}
