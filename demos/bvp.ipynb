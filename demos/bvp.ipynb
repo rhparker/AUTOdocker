{
 "cells": [
  {
   "cell_type": "code",
   "execution_count": 1,
   "metadata": {},
   "outputs": [
    {
     "data": {
      "text/plain": [
       "<pyvirtualdisplay.display.Display at 0x7f956008c460>"
      ]
     },
     "execution_count": 1,
     "metadata": {},
     "output_type": "execute_result"
    }
   ],
   "source": [
    "# import os module\n",
    "import os\n",
    "\n",
    "# import AUTO modules\n",
    "from auto import AUTOCommands as ac\n",
    "from auto import AUTOclui as acl\n",
    "from auto import interactiveBindings as ib\n",
    "from auto import runAUTO as ra\n",
    "\n",
    "# import plotting tools\n",
    "import matplotlib as mpl\n",
    "from matplotlib import pyplot as plt\n",
    "\n",
    "# virtual display to use AUTO plot function\n",
    "from pyvirtualdisplay import Display\n",
    "from IPython.display import display as display\n",
    "from PIL import Image\n",
    "disp = Display(visible=0, size=(1366,768))\n",
    "disp.start()"
   ]
  },
  {
   "cell_type": "code",
   "execution_count": 2,
   "metadata": {},
   "outputs": [],
   "source": [
    "# use working directory for demo to avoid clutter\n",
    "folder = '/auto/workspace/demos/demo'\n",
    "os.chdir(folder)"
   ]
  },
  {
   "cell_type": "code",
   "execution_count": 6,
   "metadata": {},
   "outputs": [
    {
     "name": "stdout",
     "output_type": "stream",
     "text": [
      "Copying demo bvp ... done\n",
      "\n",
      "***Compute the zero solution branch***\n",
      "gfortran -fopenmp -O -c bvp.f90 -o bvp.o\n",
      "gfortran -fopenmp -O bvp.o -o bvp.exe /auto/lib/*.o\n",
      "Starting bvp ...\n",
      "\n",
      "  BR    PT  TY  LAB    PAR(1)        L2-NORM       MAX U(1)      MAX U(2)      PAR(2)     \n",
      "   1     1  EP    1   0.00000E+00   0.00000E+00   0.00000E+00   0.00000E+00   0.00000E+00\n",
      "   1     6  BP    2   1.00000E+00   0.00000E+00   0.00000E+00   0.00000E+00   0.00000E+00\n",
      "   1    11  BP    3   2.00000E+00   0.00000E+00   0.00000E+00   0.00000E+00   0.00000E+00\n",
      "   1    16  BP    4   3.00000E+00   0.00000E+00   0.00000E+00   0.00000E+00   0.00000E+00\n",
      "   1    21  BP    5   4.00000E+00   0.00000E+00   0.00000E+00   0.00000E+00   0.00000E+00\n",
      "   1    26  BP    6   5.00000E+00   0.00000E+00   0.00000E+00   0.00000E+00   0.00000E+00\n",
      "   1    29  UZ    7   5.50000E+00   0.00000E+00   0.00000E+00   0.00000E+00   0.00000E+00\n",
      "\n",
      " Total Time    0.690E-01\n",
      "bvp ... done\n",
      "Saving to b.bvp, s.bvp, and d.bvp ... done\n",
      "\n",
      "***Compute bifurcating branches***\n",
      "Runner configured\n",
      "\n",
      "***Branch  2 ***\n",
      "Starting bvp ...\n",
      "\n",
      "  BR    PT  TY  LAB    PAR(1)        L2-NORM       MAX U(1)      MAX U(2)      PAR(2)     \n",
      "   2    13  UZ    8   1.18420E+00   1.09529E+01   4.65181E+00   1.52462E+01   3.00000E+00\n",
      "   2    17  UZ    9   1.34135E+00   2.18597E+01   9.19287E+00   3.13506E+01   6.00000E+00\n",
      "   2    20  UZ   10   1.48028E+00   3.27452E+01   1.36335E+01   4.82771E+01   9.00000E+00\n",
      "\n",
      " Total Time    0.535E-01\n",
      "bvp ... done\n",
      "Starting bvp ...\n"
     ]
    },
    {
     "name": "stderr",
     "output_type": "stream",
     "text": [
      "Note: The following floating-point exceptions are signalling: IEEE_UNDERFLOW_FLAG IEEE_DENORMAL\n"
     ]
    },
    {
     "name": "stdout",
     "output_type": "stream",
     "text": [
      "\n",
      "  BR    PT  TY  LAB    PAR(1)        L2-NORM       MAX U(1)      MAX U(2)      PAR(2)     \n",
      "   2    14  UZ    8   7.69103E-01   1.10302E+01   0.00000E+00   1.43493E+01  -3.00000E+00\n",
      "   2    18  UZ    9   4.19634E-01   2.21764E+01   0.00000E+00   2.77601E+01  -6.00000E+00\n",
      "   2    25  UZ   10  -2.81413E-05   2.68854E+01   1.48706E-24   3.30822E+01  -7.25520E+00\n",
      "\n",
      " Total Time    0.461E-01\n",
      "bvp ... done\n",
      "Runner configured\n",
      "\n",
      "***Branch  3 ***\n",
      "Starting bvp ...\n",
      "\n",
      "  BR    PT  TY  LAB    PAR(1)        L2-NORM       MAX U(1)      MAX U(2)      PAR(2)     \n",
      "   2    43  UZ    8   2.12178E+00   7.14503E+01   1.77317E+01   1.01295E+02   3.00000E+00\n",
      "   2    51  UZ    9   2.23497E+00   1.04083E+02   2.66634E+01   1.49745E+02   6.00000E+00\n",
      "   2    56  UZ   10   2.34100E+00   1.31101E+02   3.42095E+01   1.91340E+02   9.00000E+00\n",
      "\n",
      " Total Time    0.638E-01\n",
      "bvp ... done\n",
      "Starting bvp ...\n",
      "\n",
      "  BR    PT  TY  LAB    PAR(1)        L2-NORM       MAX U(1)      MAX U(2)      PAR(2)     \n",
      "   2    43  UZ    8   2.12178E+00   7.14503E+01   1.77280E+01   1.01283E+02   3.00000E+00\n",
      "   2    51  UZ    9   2.23497E+00   1.04083E+02   2.66663E+01   1.49745E+02   6.00000E+00\n",
      "   2    56  UZ   10   2.34100E+00   1.31101E+02   3.42086E+01   1.91335E+02   9.00000E+00\n",
      "\n",
      " Total Time    0.657E-01\n",
      "bvp ... done\n",
      "Runner configured\n",
      "\n",
      "***Branch  4 ***\n",
      "Starting bvp ...\n",
      "\n",
      "  BR    PT  TY  LAB    PAR(1)        L2-NORM       MAX U(1)      MAX U(2)      PAR(2)     \n",
      "   2    18  UZ    8   3.06992E+00   7.59395E+01   1.16135E+01   1.07259E+02   3.00000E+00\n",
      "   2    24  UZ    9   3.14086E+00   1.34187E+02   2.08414E+01   1.90444E+02   6.00000E+00\n",
      "   2    30  UZ   10   3.21105E+00   1.84706E+02   2.90141E+01   2.63452E+02   9.00000E+00\n",
      "\n",
      " Total Time    0.631E-01\n",
      "bvp ... done\n",
      "Starting bvp ...\n",
      "\n",
      "  BR    PT  TY  LAB    PAR(1)        L2-NORM       MAX U(1)      MAX U(2)      PAR(2)     \n",
      "   2    21  LP    8   2.96314E+00   9.84941E+01   1.58176E+01   1.38359E+02  -1.93212E+00\n",
      "   2    43  UZ    9   3.13843E+00   3.03289E+02   5.62213E+01   4.34738E+02   3.00000E+00\n",
      "   2    49  UZ   10   3.22635E+00   3.53266E+02   6.71175E+01   5.11262E+02   6.00000E+00\n",
      "   2    54  UZ   11   3.30987E+00   3.95950E+02   7.65345E+01   5.78365E+02   9.00000E+00\n",
      "\n",
      " Total Time    0.288E+00\n",
      "bvp ... done\n",
      "Runner configured\n",
      "\n",
      "***Branch  5 ***\n",
      "Starting bvp ...\n",
      "\n",
      "  BR    PT  TY  LAB    PAR(1)        L2-NORM       MAX U(1)      MAX U(2)      PAR(2)     \n",
      "   2    37  UZ    8   4.06269E+00   2.76556E+02   3.29666E+01   3.91401E+02   3.00000E+00\n",
      "   2    49  UZ    9   4.12413E+00   3.94164E+02   4.80508E+01   5.60020E+02   6.00000E+00\n",
      "   2    59  UZ   10   4.18440E+00   4.86464E+02   6.01859E+01   6.93837E+02   9.00000E+00\n",
      "\n",
      " Total Time    0.845E-01\n",
      "bvp ... done\n",
      "Starting bvp ...\n",
      "\n",
      "  BR    PT  TY  LAB    PAR(1)        L2-NORM       MAX U(1)      MAX U(2)      PAR(2)     \n",
      "   2    37  UZ    8   4.06269E+00   2.76556E+02   3.29669E+01   3.91368E+02   3.00000E+00\n",
      "   2    49  UZ    9   4.12413E+00   3.94164E+02   4.80389E+01   5.59954E+02   6.00000E+00\n",
      "   2    59  UZ   10   4.18440E+00   4.86464E+02   6.01789E+01   6.93590E+02   9.00000E+00\n",
      "\n",
      " Total Time    0.100E+00\n",
      "bvp ... done\n",
      "Runner configured\n",
      "\n",
      "***Branch  6 ***\n",
      "Starting bvp ...\n",
      "\n",
      "  BR    PT  TY  LAB    PAR(1)        L2-NORM       MAX U(1)      MAX U(2)      PAR(2)     \n",
      "   2    30  UZ    8   5.04249E+00   2.05732E+02   1.87749E+01   2.90824E+02   3.00000E+00\n",
      "   2    46  UZ    9   5.08657E+00   3.57597E+02   3.31585E+01   5.06420E+02   6.00000E+00\n",
      "   2    59  UZ   10   5.13105E+00   4.85374E+02   4.54202E+01   6.88692E+02   9.00000E+00\n",
      "\n",
      " Total Time    0.624E-01\n",
      "bvp ... done\n",
      "Starting bvp ...\n",
      "\n",
      "  BR    PT  TY  LAB    PAR(1)        L2-NORM       MAX U(1)      MAX U(2)      PAR(2)     \n",
      "   2    37  LP    8   4.97821E+00   2.77188E+02   2.59343E+01   3.91064E+02  -1.92422E+00\n",
      "   2    98  UZ    9   5.08463E+00   8.79129E+02   8.92274E+01   1.24911E+03   3.00000E+00\n",
      "   2   113  UZ   10   5.13961E+00   1.02188E+03   1.05583E+02   1.45673E+03   6.00000E+00\n",
      "   2   126  UZ   11   5.19294E+00   1.14071E+03   1.19261E+02   1.63133E+03   9.00000E+00\n",
      "\n",
      " Total Time    0.946E-01\n",
      "bvp ... done\n",
      "\n",
      "***Relabel and save the output***\n",
      "Relabeling done\n",
      "Saving to b.bvp, s.bvp, and d.bvp ... done\n"
     ]
    }
   ],
   "source": [
    "# copy demo into current directory\n",
    "ac.copydemo('bvp')\n",
    "\n",
    "# start AUTO with runner object\n",
    "runner = ra.runAUTO()\n",
    "\n",
    "print(\"\\n***Compute the zero solution branch***\")\n",
    "bvp = ac.run(e='bvp',c='bvp',runner=runner)\n",
    "ac.save(bvp,'bvp')\n",
    "\n",
    "print(\"\\n***Compute bifurcating branches***\")\n",
    "for bp in bvp(\"BP\"):\n",
    "    solution = ac.load(bp,ISW=-1,DSMAX=10,UZR={2:[-6.0,-3.0,3.0,6.0]},\n",
    "                                       UZSTOP={1:[0.0,5.5],\n",
    "                                               2:[-9.0,9.0]},\n",
    "                                       runner=runner)\n",
    "    print(\"\\n***Branch \" , solution[\"LAB\"] , \"***\")\n",
    "    bvp = bvp + ac.run(solution,runner=runner)\n",
    "    bvp = bvp + ac.run(solution,DS='-',runner=runner)\n",
    "\n",
    "print(\"\\n***Relabel and save the output***\")\n",
    "bvp = ac.relabel(bvp)\n",
    "ac.save(bvp,'bvp')"
   ]
  },
  {
   "cell_type": "code",
   "execution_count": 8,
   "metadata": {},
   "outputs": [
    {
     "name": "stdout",
     "output_type": "stream",
     "text": [
      "Created plot\n"
     ]
    },
    {
     "data": {
      "image/png": "[encoded data removed]",
      "text/plain": [
       "<PIL.PngImagePlugin.PngImageFile image mode=RGBA size=600x480 at 0x7F953A0961F0>"
      ]
     },
     "metadata": {},
     "output_type": "display_data"
    }
   ],
   "source": [
    "# plot bifurcation diagram using plot routine from AUTO\n",
    "\n",
    "p = ac.plot(bvp)\n",
    "p.config(grid=False)\n",
    "p.savefig('b.png')\n",
    "display(Image.open('b.png'))"
   ]
  },
  {
   "cell_type": "code",
   "execution_count": 9,
   "metadata": {
    "scrolled": true
   },
   "outputs": [
    {
     "name": "stdout",
     "output_type": "stream",
     "text": [
      "Deleting fort.* *.o *.exe *.*~ ... done\n",
      "Deleting b.bvp ... done\n",
      "Deleting s.bvp ... done\n",
      "Deleting d.bvp ... done\n"
     ]
    }
   ],
   "source": [
    "# clean up files\n",
    "\n",
    "ac.clean()\n",
    "ac.delete('bvp')"
   ]
  }
 ],
 "metadata": {
  "kernelspec": {
   "display_name": "Python 3",
   "language": "python",
   "name": "python3"
  },
  "language_info": {
   "codemirror_mode": {
    "name": "ipython",
    "version": 3
   },
   "file_extension": ".py",
   "mimetype": "text/x-python",
   "name": "python",
   "nbconvert_exporter": "python",
   "pygments_lexer": "ipython3",
   "version": "3.8.5"
  }
 },
 "nbformat": 4,
 "nbformat_minor": 4
}
