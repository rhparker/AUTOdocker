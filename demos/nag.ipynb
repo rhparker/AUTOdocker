{
 "cells": [
  {
   "cell_type": "code",
   "execution_count": 1,
   "metadata": {},
   "outputs": [
    {
     "data": {
      "text/plain": [
       "<pyvirtualdisplay.display.Display at 0x7f9a8c1a77f0>"
      ]
     },
     "execution_count": 1,
     "metadata": {},
     "output_type": "execute_result"
    }
   ],
   "source": [
    "# import os module\n",
    "import os\n",
    "\n",
    "# import AUTO modules\n",
    "from auto import AUTOCommands as ac\n",
    "from auto import AUTOclui as acl\n",
    "from auto import interactiveBindings as ib\n",
    "from auto import runAUTO as ra\n",
    "\n",
    "# import plotting tools\n",
    "import matplotlib as mpl\n",
    "from matplotlib import pyplot as plt\n",
    "\n",
    "# virtual display to use AUTO plot function\n",
    "from pyvirtualdisplay import Display\n",
    "from IPython.display import display as display\n",
    "from PIL import Image\n",
    "disp = Display(visible=0, size=(1366,768))\n",
    "disp.start()"
   ]
  },
  {
   "cell_type": "code",
   "execution_count": 2,
   "metadata": {},
   "outputs": [],
   "source": [
    "# use working directory for demo to avoid clutter\n",
    "folder = '/auto/workspace/demos/demo'\n",
    "os.chdir(folder)"
   ]
  },
  {
   "cell_type": "code",
   "execution_count": 3,
   "metadata": {},
   "outputs": [
    {
     "name": "stdout",
     "output_type": "stream",
     "text": [
      "Copying demo nag ... done\n",
      "\n",
      "Demo nag is started\n",
      "\n",
      "nag : first run : part of a branch of heteroclinic orbits\n",
      "gfortran -fopenmp -O -c nag.f90 -o nag.o\n",
      "gfortran -fopenmp -O nag.o -o nag.exe /auto/lib/*.o\n",
      "Starting nag ...\n",
      "\n",
      "  BR    PT  TY  LAB    PAR(1)        L2-NORM       PAR(2)        PAR(3)        PAR(4)        PAR(5)        PAR(6)        PAR(7)     \n",
      "   1     1  EP    1   5.00000E-01   6.97883E-01   0.00000E+00   5.41274E-16   5.41274E-16   7.07107E-01  -7.07107E-01   8.16497E-01\n",
      "   1    13  UZ    2   7.50000E-01   6.97880E-01  -3.53553E-01   1.06326E-09   2.37506E-14   7.07107E-01  -7.07107E-01   8.16497E-01\n",
      "   1    22  UZ    3   1.00000E+00   6.97880E-01  -7.07107E-01   7.04762E-11   3.69265E-07   7.07107E-01  -7.07107E-01   8.16497E-01\n",
      "\n",
      " Total Time    0.953E-01\n",
      "nag ... done\n",
      "\n",
      "nag : second run : compute in opposite direction\n",
      "Starting nag ...\n",
      "\n",
      "  BR    PT  TY  LAB    PAR(1)        L2-NORM       PAR(2)        PAR(3)        PAR(4)        PAR(5)        PAR(6)        PAR(7)     \n",
      "   1     1  EP    1   5.00000E-01   6.97883E-01   0.00000E+00   5.41274E-16   5.41274E-16   7.07107E-01  -7.07107E-01   8.16497E-01\n",
      "   1    13  UZ    2   2.50000E-01   6.97880E-01   3.53553E-01   1.06588E-09   2.39363E-14   7.07107E-01  -7.07107E-01   8.16497E-01\n",
      "   1    22  UZ    3   9.00593E-10   6.97880E-01   7.07107E-01   7.37791E-11   3.85821E-07   7.07107E-01  -7.07107E-01   8.16497E-01\n",
      "\n",
      " Total Time    0.214E+00\n",
      "nag ... done\n",
      "Saving to b.nag, s.nag, and d.nag ... done\n"
     ]
    }
   ],
   "source": [
    "# copy demo into current directory\n",
    "ac.copydemo('nag')\n",
    "\n",
    "# start AUTO with runner object\n",
    "runner = ra.runAUTO()\n",
    "\n",
    "pgm = \"nag\"\n",
    "print(\"\\nDemo %s is started\"%pgm)\n",
    "print(\"\\n%s : first run : part of a branch of heteroclinic orbits\"%pgm)\n",
    "r1 = ac.run(e=pgm,c=pgm,runner=runner)\n",
    "\n",
    "print(\"\\n%s : second run : compute in opposite direction\"%pgm)\n",
    "r2 = ac.run(e=pgm,c=pgm,DS='-',runner=runner)\n",
    "ac.save(r1+r2,pgm)\n"
   ]
  },
  {
   "cell_type": "code",
   "execution_count": 8,
   "metadata": {},
   "outputs": [
    {
     "name": "stdout",
     "output_type": "stream",
     "text": [
      "Created plot\n"
     ]
    },
    {
     "data": {
      "image/png": "[encoded data removed]",
      "text/plain": [
       "<PIL.PngImagePlugin.PngImageFile image mode=RGBA size=600x480 at 0x7F9A667A3580>"
      ]
     },
     "metadata": {},
     "output_type": "display_data"
    },
    {
     "name": "stdout",
     "output_type": "stream",
     "text": [
      "Created plot\n"
     ]
    },
    {
     "data": {
      "image/png": "[encoded data removed]",
      "text/plain": [
       "<PIL.PngImagePlugin.PngImageFile image mode=RGBA size=600x480 at 0x7F9A66732E80>"
      ]
     },
     "metadata": {},
     "output_type": "display_data"
    }
   ],
   "source": [
    "# plot bifurcation diagram using plot routine from AUTO\n",
    "\n",
    "p = ac.plot('nag')\n",
    "p.config(stability=True, grid=False)\n",
    "p.savefig('b.png')\n",
    "display(Image.open('b.png'))\n",
    "\n",
    "# plot FH-N front\n",
    "p = ac.plot('nag')\n",
    "p.config(type='solution')\n",
    "p.config(grid=False)\n",
    "p.config(label=[1,2,3])\n",
    "p.savefig('b.png')\n",
    "display(Image.open('b.png'))\n"
   ]
  },
  {
   "cell_type": "code",
   "execution_count": 9,
   "metadata": {
    "scrolled": false
   },
   "outputs": [
    {
     "name": "stdout",
     "output_type": "stream",
     "text": [
      "Deleting b.nag ... done\n",
      "Deleting s.nag ... done\n",
      "Deleting d.nag ... done\n",
      "Deleting fort.* *.o *.exe *.*~ ... done\n"
     ]
    }
   ],
   "source": [
    "# clean up files\n",
    "\n",
    "ac.delete('nag')\n",
    "ac.clean()"
   ]
  }
 ],
 "metadata": {
  "kernelspec": {
   "display_name": "Python 3",
   "language": "python",
   "name": "python3"
  },
  "language_info": {
   "codemirror_mode": {
    "name": "ipython",
    "version": 3
   },
   "file_extension": ".py",
   "mimetype": "text/x-python",
   "name": "python",
   "nbconvert_exporter": "python",
   "pygments_lexer": "ipython3",
   "version": "3.8.5"
  }
 },
 "nbformat": 4,
 "nbformat_minor": 4
}
