{
 "cells": [
  {
   "cell_type": "code",
   "execution_count": 1,
   "metadata": {},
   "outputs": [
    {
     "data": {
      "text/plain": [
       "<pyvirtualdisplay.display.Display at 0x7f24a80c7df0>"
      ]
     },
     "execution_count": 1,
     "metadata": {},
     "output_type": "execute_result"
    }
   ],
   "source": [
    "# import os module\n",
    "import os\n",
    "\n",
    "# import AUTO modules\n",
    "from auto import AUTOCommands as ac\n",
    "from auto import AUTOclui as acl\n",
    "from auto import interactiveBindings as ib\n",
    "from auto import runAUTO as ra\n",
    "\n",
    "# import plotting tools\n",
    "import matplotlib as mpl\n",
    "from matplotlib import pyplot as plt\n",
    "\n",
    "# virtual display to use AUTO plot function\n",
    "from pyvirtualdisplay import Display\n",
    "from IPython.display import display as display\n",
    "from PIL import Image\n",
    "disp = Display(visible=0, size=(1366,768))\n",
    "disp.start()"
   ]
  },
  {
   "cell_type": "code",
   "execution_count": 2,
   "metadata": {},
   "outputs": [],
   "source": [
    "# use working directory for demo to avoid clutter\n",
    "folder = '/auto/workspace/demos/demo'\n",
    "os.chdir(folder)"
   ]
  },
  {
   "cell_type": "code",
   "execution_count": 4,
   "metadata": {},
   "outputs": [
    {
     "name": "stdout",
     "output_type": "stream",
     "text": [
      "Copying demo ezp ... done\n",
      "\n",
      "***Compute a solution family***\n",
      "gfortran -fopenmp -O -c ezp.f90 -o ezp.o\n",
      "gfortran -fopenmp -O ezp.o -o ezp.exe /auto/lib/*.o\n",
      "Starting ezp ...\n",
      "\n",
      "  BR    PT  TY  LAB    PAR(1)        L2-NORM       MAX U(1)      MAX U(2)      MAX U(3)      MAX U(4)   \n",
      "   1     1  EP    1   0.00000E+00   0.00000E+00   0.00000E+00   0.00000E+00   0.00000E+00   0.00000E+00\n",
      "   1    12  UZ    2   2.00000E+00   7.88670E-01   3.28950E-01   0.00000E+00   1.24822E+00   0.00000E+00\n",
      "   1    20  BP    3   3.51383E+00   2.78191E+00   1.18642E+00   0.00000E+00   3.99996E+00   0.00000E+00\n",
      "   1    29  UZ    4   2.00000E+00   6.57685E+00   2.89402E+00   0.00000E+00   8.26877E+00   0.00000E+00\n",
      "   1    50  EP    5   9.97519E-03   2.20516E+01   1.01994E+01   0.00000E+00   2.31756E+01   0.00000E+00\n",
      "\n",
      " Total Time    0.330E-01\n",
      "ezp ... done\n",
      "\n",
      "***Compute one leg of the bifurcating family***\n",
      "Starting ezp ...\n",
      "\n",
      "  BR    PT  TY  LAB    PAR(1)        L2-NORM       MAX U(1)      MAX U(2)      MAX U(3)      MAX U(4)   \n",
      "   2    30  UZ    6   4.99997E+00   3.15533E+00   9.12656E-01   9.65816E-27   3.53421E+00   2.91601E+00\n",
      "   2    38  UZ    7   5.99992E+00   3.36416E+00   7.68137E-01   1.71851E-25   3.29792E+00   3.64279E+00\n",
      "\n",
      " Total Time    0.226E-01\n",
      "ezp ... done\n",
      "\n",
      "***Compute the other leg of the bifurcating family***\n",
      "Starting ezp ...\n",
      "\n",
      "  BR    PT  TY  LAB    PAR(1)        L2-NORM       MAX U(1)      MAX U(2)      MAX U(3)      MAX U(4)   \n",
      "   3    30  UZ    8   4.99997E+00   3.15533E+00   9.12656E-01   9.74535E-01   3.53421E+00   2.91601E+00\n",
      "   3    38  UZ    9   5.99992E+00   3.36416E+00   7.68137E-01   1.18970E+00   3.29792E+00   3.64279E+00\n",
      "\n",
      " Total Time    0.281E-01\n",
      "ezp ... done\n",
      "Saving to b.ezp, s.ezp, and d.ezp ... done\n"
     ]
    },
    {
     "name": "stderr",
     "output_type": "stream",
     "text": [
      "Note: The following floating-point exceptions are signalling: IEEE_UNDERFLOW_FLAG IEEE_DENORMAL\n"
     ]
    }
   ],
   "source": [
    "# copy demo into current directory\n",
    "ac.copydemo('ezp')\n",
    "\n",
    "# start AUTO with runner object\n",
    "runner = ra.runAUTO()\n",
    "\n",
    "print(\"\\n***Compute a solution family***\")\n",
    "ezp = ac.run(e='ezp',c='ezp',runner=runner)\n",
    "\n",
    "print(\"\\n***Compute one leg of the bifurcating family***\")\n",
    "ezp = ezp + ac.run(ezp('BP1'),ISW=-1,runner=runner)\n",
    "\n",
    "print(\"\\n***Compute the other leg of the bifurcating family***\")\n",
    "ezp = ezp + ac.run(ezp('BP1'),ISW=-1,DS='-',runner=runner)\n",
    "ac.save(ezp,'ezp')"
   ]
  },
  {
   "cell_type": "code",
   "execution_count": 6,
   "metadata": {},
   "outputs": [
    {
     "name": "stdout",
     "output_type": "stream",
     "text": [
      "Created plot\n"
     ]
    },
    {
     "data": {
      "image/png": "[encoded data removed]",
      "text/plain": [
       "<PIL.PngImagePlugin.PngImageFile image mode=RGBA size=600x480 at 0x7F24821A4370>"
      ]
     },
     "metadata": {},
     "output_type": "display_data"
    }
   ],
   "source": [
    "# plot bifurcation diagram using plot routine from AUTO\n",
    "\n",
    "p = ac.plot('ezp')\n",
    "p.config(grid=False)\n",
    "p.savefig('b.png')\n",
    "display(Image.open('b.png'))"
   ]
  },
  {
   "cell_type": "code",
   "execution_count": 7,
   "metadata": {
    "scrolled": true
   },
   "outputs": [
    {
     "name": "stdout",
     "output_type": "stream",
     "text": [
      "Deleting fort.* *.o *.exe *.*~ ... done\n",
      "Deleting b.ezp ... done\n",
      "Deleting s.ezp ... done\n",
      "Deleting d.ezp ... done\n"
     ]
    }
   ],
   "source": [
    "# clean up files\n",
    "\n",
    "ac.clean()\n",
    "ac.delete('ezp')"
   ]
  },
  {
   "cell_type": "code",
   "execution_count": null,
   "metadata": {},
   "outputs": [],
   "source": []
  }
 ],
 "metadata": {
  "kernelspec": {
   "display_name": "Python 3",
   "language": "python",
   "name": "python3"
  },
  "language_info": {
   "codemirror_mode": {
    "name": "ipython",
    "version": 3
   },
   "file_extension": ".py",
   "mimetype": "text/x-python",
   "name": "python",
   "nbconvert_exporter": "python",
   "pygments_lexer": "ipython3",
   "version": "3.8.5"
  }
 },
 "nbformat": 4,
 "nbformat_minor": 4
}
